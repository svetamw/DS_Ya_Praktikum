{
 "cells": [
  {
   "cell_type": "markdown",
   "metadata": {},
   "source": [
    "Из «Бета-Банка» стали уходить клиенты. Каждый месяц. Немного, но заметно. Банковские маркетологи посчитали: сохранять текущих клиентов дешевле, чем привлекать новых.\n",
    "\n",
    "Нужно спрогнозировать, уйдёт клиент из банка в ближайшее время или нет. Вам предоставлены исторические данные о поведении клиентов и расторжении договоров с банком.\n",
    "\n",
    "Постройте модель с предельно большим значением F1-меры. Чтобы сдать проект успешно, нужно довести метрику до 0.59. Проверьте F1-меру на тестовой выборке самостоятельно.\n",
    "\n",
    "Дополнительно измеряйте AUC-ROC, сравнивайте её значение с F1-мерой."
   ]
  },
  {
   "cell_type": "markdown",
   "metadata": {},
   "source": [
    "## Подготовка данных"
   ]
  },
  {
   "cell_type": "code",
   "execution_count": 1,
   "metadata": {},
   "outputs": [],
   "source": [
    "import pandas as pd\n",
    "import numpy as np\n",
    "import matplotlib.pyplot as plt\n",
    "\n",
    "from sklearn.model_selection import train_test_split\n",
    "from sklearn.metrics import accuracy_score\n",
    "from sklearn.metrics import f1_score\n",
    "from sklearn.metrics import roc_auc_score\n",
    "\n",
    "from sklearn.tree            import DecisionTreeClassifier\n",
    "from sklearn.ensemble        import RandomForestClassifier\n",
    "from sklearn.ensemble        import RandomForestRegressor\n",
    "\n",
    "from sklearn.model_selection import train_test_split\n",
    "from sklearn.linear_model    import LogisticRegression\n",
    "from sklearn.linear_model    import LinearRegression\n",
    "from sklearn.tree            import DecisionTreeRegressor \n",
    "from sklearn.metrics         import accuracy_score\n",
    "from sklearn.metrics         import f1_score\n",
    "from sklearn.metrics         import roc_auc_score\n",
    "\n",
    "from sklearn.preprocessing   import StandardScaler\n",
    "from sklearn.preprocessing   import OneHotEncoder\n",
    "\n",
    "import warnings"
   ]
  },
  {
   "cell_type": "code",
   "execution_count": 2,
   "metadata": {},
   "outputs": [],
   "source": [
    "#data = pd.read_csv('Churn.csv')\n",
    "data = pd.read_csv('/datasets/Churn.csv') # для запуска в Практикуме "
   ]
  },
  {
   "cell_type": "markdown",
   "metadata": {},
   "source": [
    "Посмотрим, как выглядят данные:"
   ]
  },
  {
   "cell_type": "code",
   "execution_count": 3,
   "metadata": {},
   "outputs": [
    {
     "data": {
      "text/html": [
       "<div>\n",
       "<style scoped>\n",
       "    .dataframe tbody tr th:only-of-type {\n",
       "        vertical-align: middle;\n",
       "    }\n",
       "\n",
       "    .dataframe tbody tr th {\n",
       "        vertical-align: top;\n",
       "    }\n",
       "\n",
       "    .dataframe thead th {\n",
       "        text-align: right;\n",
       "    }\n",
       "</style>\n",
       "<table border=\"1\" class=\"dataframe\">\n",
       "  <thead>\n",
       "    <tr style=\"text-align: right;\">\n",
       "      <th></th>\n",
       "      <th>RowNumber</th>\n",
       "      <th>CustomerId</th>\n",
       "      <th>Surname</th>\n",
       "      <th>CreditScore</th>\n",
       "      <th>Geography</th>\n",
       "      <th>Gender</th>\n",
       "      <th>Age</th>\n",
       "      <th>Tenure</th>\n",
       "      <th>Balance</th>\n",
       "      <th>NumOfProducts</th>\n",
       "      <th>HasCrCard</th>\n",
       "      <th>IsActiveMember</th>\n",
       "      <th>EstimatedSalary</th>\n",
       "      <th>Exited</th>\n",
       "    </tr>\n",
       "  </thead>\n",
       "  <tbody>\n",
       "    <tr>\n",
       "      <td>0</td>\n",
       "      <td>1</td>\n",
       "      <td>15634602</td>\n",
       "      <td>Hargrave</td>\n",
       "      <td>619</td>\n",
       "      <td>France</td>\n",
       "      <td>Female</td>\n",
       "      <td>42</td>\n",
       "      <td>2.0</td>\n",
       "      <td>0.00</td>\n",
       "      <td>1</td>\n",
       "      <td>1</td>\n",
       "      <td>1</td>\n",
       "      <td>101348.88</td>\n",
       "      <td>1</td>\n",
       "    </tr>\n",
       "    <tr>\n",
       "      <td>1</td>\n",
       "      <td>2</td>\n",
       "      <td>15647311</td>\n",
       "      <td>Hill</td>\n",
       "      <td>608</td>\n",
       "      <td>Spain</td>\n",
       "      <td>Female</td>\n",
       "      <td>41</td>\n",
       "      <td>1.0</td>\n",
       "      <td>83807.86</td>\n",
       "      <td>1</td>\n",
       "      <td>0</td>\n",
       "      <td>1</td>\n",
       "      <td>112542.58</td>\n",
       "      <td>0</td>\n",
       "    </tr>\n",
       "    <tr>\n",
       "      <td>2</td>\n",
       "      <td>3</td>\n",
       "      <td>15619304</td>\n",
       "      <td>Onio</td>\n",
       "      <td>502</td>\n",
       "      <td>France</td>\n",
       "      <td>Female</td>\n",
       "      <td>42</td>\n",
       "      <td>8.0</td>\n",
       "      <td>159660.80</td>\n",
       "      <td>3</td>\n",
       "      <td>1</td>\n",
       "      <td>0</td>\n",
       "      <td>113931.57</td>\n",
       "      <td>1</td>\n",
       "    </tr>\n",
       "    <tr>\n",
       "      <td>3</td>\n",
       "      <td>4</td>\n",
       "      <td>15701354</td>\n",
       "      <td>Boni</td>\n",
       "      <td>699</td>\n",
       "      <td>France</td>\n",
       "      <td>Female</td>\n",
       "      <td>39</td>\n",
       "      <td>1.0</td>\n",
       "      <td>0.00</td>\n",
       "      <td>2</td>\n",
       "      <td>0</td>\n",
       "      <td>0</td>\n",
       "      <td>93826.63</td>\n",
       "      <td>0</td>\n",
       "    </tr>\n",
       "    <tr>\n",
       "      <td>4</td>\n",
       "      <td>5</td>\n",
       "      <td>15737888</td>\n",
       "      <td>Mitchell</td>\n",
       "      <td>850</td>\n",
       "      <td>Spain</td>\n",
       "      <td>Female</td>\n",
       "      <td>43</td>\n",
       "      <td>2.0</td>\n",
       "      <td>125510.82</td>\n",
       "      <td>1</td>\n",
       "      <td>1</td>\n",
       "      <td>1</td>\n",
       "      <td>79084.10</td>\n",
       "      <td>0</td>\n",
       "    </tr>\n",
       "  </tbody>\n",
       "</table>\n",
       "</div>"
      ],
      "text/plain": [
       "   RowNumber  CustomerId   Surname  CreditScore Geography  Gender  Age  \\\n",
       "0          1    15634602  Hargrave          619    France  Female   42   \n",
       "1          2    15647311      Hill          608     Spain  Female   41   \n",
       "2          3    15619304      Onio          502    France  Female   42   \n",
       "3          4    15701354      Boni          699    France  Female   39   \n",
       "4          5    15737888  Mitchell          850     Spain  Female   43   \n",
       "\n",
       "   Tenure    Balance  NumOfProducts  HasCrCard  IsActiveMember  \\\n",
       "0     2.0       0.00              1          1               1   \n",
       "1     1.0   83807.86              1          0               1   \n",
       "2     8.0  159660.80              3          1               0   \n",
       "3     1.0       0.00              2          0               0   \n",
       "4     2.0  125510.82              1          1               1   \n",
       "\n",
       "   EstimatedSalary  Exited  \n",
       "0        101348.88       1  \n",
       "1        112542.58       0  \n",
       "2        113931.57       1  \n",
       "3         93826.63       0  \n",
       "4         79084.10       0  "
      ]
     },
     "execution_count": 3,
     "metadata": {},
     "output_type": "execute_result"
    }
   ],
   "source": [
    "data.head()"
   ]
  },
  {
   "cell_type": "code",
   "execution_count": 4,
   "metadata": {},
   "outputs": [
    {
     "name": "stdout",
     "output_type": "stream",
     "text": [
      "<class 'pandas.core.frame.DataFrame'>\n",
      "RangeIndex: 10000 entries, 0 to 9999\n",
      "Data columns (total 14 columns):\n",
      "RowNumber          10000 non-null int64\n",
      "CustomerId         10000 non-null int64\n",
      "Surname            10000 non-null object\n",
      "CreditScore        10000 non-null int64\n",
      "Geography          10000 non-null object\n",
      "Gender             10000 non-null object\n",
      "Age                10000 non-null int64\n",
      "Tenure             9091 non-null float64\n",
      "Balance            10000 non-null float64\n",
      "NumOfProducts      10000 non-null int64\n",
      "HasCrCard          10000 non-null int64\n",
      "IsActiveMember     10000 non-null int64\n",
      "EstimatedSalary    10000 non-null float64\n",
      "Exited             10000 non-null int64\n",
      "dtypes: float64(3), int64(8), object(3)\n",
      "memory usage: 1.1+ MB\n"
     ]
    }
   ],
   "source": [
    "data.info()"
   ]
  },
  {
   "cell_type": "markdown",
   "metadata": {},
   "source": [
    "Напомним, что означают признаки:\n",
    "- RowNumber — индекс строки в данных\n",
    "\n",
    "- CustomerId — уникальный идентификатор клиента\n",
    "\n",
    "- Surname — фамилия\n",
    "\n",
    "- CreditScore — кредитный рейтинг\n",
    "\n",
    "- Geography — страна проживания\n",
    "\n",
    "- Gender — пол\n",
    "\n",
    "- Age — возраст\n",
    "\n",
    "- Tenure — количество недвижимости у клиента\n",
    "\n",
    "- Balance — баланс на счёте\n",
    "\n",
    "- NumOfProducts — количество продуктов банка, используемых клиентом\n",
    "\n",
    "- HasCrCard — наличие кредитной карты\n",
    "\n",
    "- IsActiveMember — активность клиента\n",
    "\n",
    "- EstimatedSalary — предполагаемая зарплата"
   ]
  },
  {
   "cell_type": "markdown",
   "metadata": {},
   "source": [
    "`RowNumber`, `CustomerId` и `Surname` не представляют важности для разработки модели, поэтому удалим эти столбцы"
   ]
  },
  {
   "cell_type": "code",
   "execution_count": 5,
   "metadata": {},
   "outputs": [],
   "source": [
    "data = data.drop(['RowNumber', 'CustomerId', 'Surname'], axis = 1)"
   ]
  },
  {
   "cell_type": "code",
   "execution_count": 6,
   "metadata": {},
   "outputs": [
    {
     "data": {
      "text/html": [
       "<div>\n",
       "<style scoped>\n",
       "    .dataframe tbody tr th:only-of-type {\n",
       "        vertical-align: middle;\n",
       "    }\n",
       "\n",
       "    .dataframe tbody tr th {\n",
       "        vertical-align: top;\n",
       "    }\n",
       "\n",
       "    .dataframe thead th {\n",
       "        text-align: right;\n",
       "    }\n",
       "</style>\n",
       "<table border=\"1\" class=\"dataframe\">\n",
       "  <thead>\n",
       "    <tr style=\"text-align: right;\">\n",
       "      <th></th>\n",
       "      <th>CreditScore</th>\n",
       "      <th>Geography</th>\n",
       "      <th>Gender</th>\n",
       "      <th>Age</th>\n",
       "      <th>Tenure</th>\n",
       "      <th>Balance</th>\n",
       "      <th>NumOfProducts</th>\n",
       "      <th>HasCrCard</th>\n",
       "      <th>IsActiveMember</th>\n",
       "      <th>EstimatedSalary</th>\n",
       "      <th>Exited</th>\n",
       "    </tr>\n",
       "  </thead>\n",
       "  <tbody>\n",
       "    <tr>\n",
       "      <td>0</td>\n",
       "      <td>619</td>\n",
       "      <td>France</td>\n",
       "      <td>Female</td>\n",
       "      <td>42</td>\n",
       "      <td>2.0</td>\n",
       "      <td>0.00</td>\n",
       "      <td>1</td>\n",
       "      <td>1</td>\n",
       "      <td>1</td>\n",
       "      <td>101348.88</td>\n",
       "      <td>1</td>\n",
       "    </tr>\n",
       "    <tr>\n",
       "      <td>1</td>\n",
       "      <td>608</td>\n",
       "      <td>Spain</td>\n",
       "      <td>Female</td>\n",
       "      <td>41</td>\n",
       "      <td>1.0</td>\n",
       "      <td>83807.86</td>\n",
       "      <td>1</td>\n",
       "      <td>0</td>\n",
       "      <td>1</td>\n",
       "      <td>112542.58</td>\n",
       "      <td>0</td>\n",
       "    </tr>\n",
       "    <tr>\n",
       "      <td>2</td>\n",
       "      <td>502</td>\n",
       "      <td>France</td>\n",
       "      <td>Female</td>\n",
       "      <td>42</td>\n",
       "      <td>8.0</td>\n",
       "      <td>159660.80</td>\n",
       "      <td>3</td>\n",
       "      <td>1</td>\n",
       "      <td>0</td>\n",
       "      <td>113931.57</td>\n",
       "      <td>1</td>\n",
       "    </tr>\n",
       "    <tr>\n",
       "      <td>3</td>\n",
       "      <td>699</td>\n",
       "      <td>France</td>\n",
       "      <td>Female</td>\n",
       "      <td>39</td>\n",
       "      <td>1.0</td>\n",
       "      <td>0.00</td>\n",
       "      <td>2</td>\n",
       "      <td>0</td>\n",
       "      <td>0</td>\n",
       "      <td>93826.63</td>\n",
       "      <td>0</td>\n",
       "    </tr>\n",
       "    <tr>\n",
       "      <td>4</td>\n",
       "      <td>850</td>\n",
       "      <td>Spain</td>\n",
       "      <td>Female</td>\n",
       "      <td>43</td>\n",
       "      <td>2.0</td>\n",
       "      <td>125510.82</td>\n",
       "      <td>1</td>\n",
       "      <td>1</td>\n",
       "      <td>1</td>\n",
       "      <td>79084.10</td>\n",
       "      <td>0</td>\n",
       "    </tr>\n",
       "  </tbody>\n",
       "</table>\n",
       "</div>"
      ],
      "text/plain": [
       "   CreditScore Geography  Gender  Age  Tenure    Balance  NumOfProducts  \\\n",
       "0          619    France  Female   42     2.0       0.00              1   \n",
       "1          608     Spain  Female   41     1.0   83807.86              1   \n",
       "2          502    France  Female   42     8.0  159660.80              3   \n",
       "3          699    France  Female   39     1.0       0.00              2   \n",
       "4          850     Spain  Female   43     2.0  125510.82              1   \n",
       "\n",
       "   HasCrCard  IsActiveMember  EstimatedSalary  Exited  \n",
       "0          1               1        101348.88       1  \n",
       "1          0               1        112542.58       0  \n",
       "2          1               0        113931.57       1  \n",
       "3          0               0         93826.63       0  \n",
       "4          1               1         79084.10       0  "
      ]
     },
     "execution_count": 6,
     "metadata": {},
     "output_type": "execute_result"
    }
   ],
   "source": [
    "data.head()"
   ]
  },
  {
   "cell_type": "markdown",
   "metadata": {},
   "source": [
    "### Кодирование методом OHE"
   ]
  },
  {
   "cell_type": "markdown",
   "metadata": {},
   "source": [
    "Избегая дамми-ловушек, преобразуем методом OHE категориальные переменные `Geography` и `Gender`:"
   ]
  },
  {
   "cell_type": "code",
   "execution_count": 7,
   "metadata": {},
   "outputs": [],
   "source": [
    "data = pd.get_dummies(data, drop_first=True) "
   ]
  },
  {
   "cell_type": "markdown",
   "metadata": {},
   "source": [
    "Как теперь выглядят данные:"
   ]
  },
  {
   "cell_type": "code",
   "execution_count": 8,
   "metadata": {
    "scrolled": true
   },
   "outputs": [
    {
     "data": {
      "text/html": [
       "<div>\n",
       "<style scoped>\n",
       "    .dataframe tbody tr th:only-of-type {\n",
       "        vertical-align: middle;\n",
       "    }\n",
       "\n",
       "    .dataframe tbody tr th {\n",
       "        vertical-align: top;\n",
       "    }\n",
       "\n",
       "    .dataframe thead th {\n",
       "        text-align: right;\n",
       "    }\n",
       "</style>\n",
       "<table border=\"1\" class=\"dataframe\">\n",
       "  <thead>\n",
       "    <tr style=\"text-align: right;\">\n",
       "      <th></th>\n",
       "      <th>CreditScore</th>\n",
       "      <th>Age</th>\n",
       "      <th>Tenure</th>\n",
       "      <th>Balance</th>\n",
       "      <th>NumOfProducts</th>\n",
       "      <th>HasCrCard</th>\n",
       "      <th>IsActiveMember</th>\n",
       "      <th>EstimatedSalary</th>\n",
       "      <th>Exited</th>\n",
       "      <th>Geography_Germany</th>\n",
       "      <th>Geography_Spain</th>\n",
       "      <th>Gender_Male</th>\n",
       "    </tr>\n",
       "  </thead>\n",
       "  <tbody>\n",
       "    <tr>\n",
       "      <td>0</td>\n",
       "      <td>619</td>\n",
       "      <td>42</td>\n",
       "      <td>2.0</td>\n",
       "      <td>0.00</td>\n",
       "      <td>1</td>\n",
       "      <td>1</td>\n",
       "      <td>1</td>\n",
       "      <td>101348.88</td>\n",
       "      <td>1</td>\n",
       "      <td>0</td>\n",
       "      <td>0</td>\n",
       "      <td>0</td>\n",
       "    </tr>\n",
       "    <tr>\n",
       "      <td>1</td>\n",
       "      <td>608</td>\n",
       "      <td>41</td>\n",
       "      <td>1.0</td>\n",
       "      <td>83807.86</td>\n",
       "      <td>1</td>\n",
       "      <td>0</td>\n",
       "      <td>1</td>\n",
       "      <td>112542.58</td>\n",
       "      <td>0</td>\n",
       "      <td>0</td>\n",
       "      <td>1</td>\n",
       "      <td>0</td>\n",
       "    </tr>\n",
       "    <tr>\n",
       "      <td>2</td>\n",
       "      <td>502</td>\n",
       "      <td>42</td>\n",
       "      <td>8.0</td>\n",
       "      <td>159660.80</td>\n",
       "      <td>3</td>\n",
       "      <td>1</td>\n",
       "      <td>0</td>\n",
       "      <td>113931.57</td>\n",
       "      <td>1</td>\n",
       "      <td>0</td>\n",
       "      <td>0</td>\n",
       "      <td>0</td>\n",
       "    </tr>\n",
       "    <tr>\n",
       "      <td>3</td>\n",
       "      <td>699</td>\n",
       "      <td>39</td>\n",
       "      <td>1.0</td>\n",
       "      <td>0.00</td>\n",
       "      <td>2</td>\n",
       "      <td>0</td>\n",
       "      <td>0</td>\n",
       "      <td>93826.63</td>\n",
       "      <td>0</td>\n",
       "      <td>0</td>\n",
       "      <td>0</td>\n",
       "      <td>0</td>\n",
       "    </tr>\n",
       "    <tr>\n",
       "      <td>4</td>\n",
       "      <td>850</td>\n",
       "      <td>43</td>\n",
       "      <td>2.0</td>\n",
       "      <td>125510.82</td>\n",
       "      <td>1</td>\n",
       "      <td>1</td>\n",
       "      <td>1</td>\n",
       "      <td>79084.10</td>\n",
       "      <td>0</td>\n",
       "      <td>0</td>\n",
       "      <td>1</td>\n",
       "      <td>0</td>\n",
       "    </tr>\n",
       "  </tbody>\n",
       "</table>\n",
       "</div>"
      ],
      "text/plain": [
       "   CreditScore  Age  Tenure    Balance  NumOfProducts  HasCrCard  \\\n",
       "0          619   42     2.0       0.00              1          1   \n",
       "1          608   41     1.0   83807.86              1          0   \n",
       "2          502   42     8.0  159660.80              3          1   \n",
       "3          699   39     1.0       0.00              2          0   \n",
       "4          850   43     2.0  125510.82              1          1   \n",
       "\n",
       "   IsActiveMember  EstimatedSalary  Exited  Geography_Germany  \\\n",
       "0               1        101348.88       1                  0   \n",
       "1               1        112542.58       0                  0   \n",
       "2               0        113931.57       1                  0   \n",
       "3               0         93826.63       0                  0   \n",
       "4               1         79084.10       0                  0   \n",
       "\n",
       "   Geography_Spain  Gender_Male  \n",
       "0                0            0  \n",
       "1                1            0  \n",
       "2                0            0  \n",
       "3                0            0  \n",
       "4                1            0  "
      ]
     },
     "execution_count": 8,
     "metadata": {},
     "output_type": "execute_result"
    }
   ],
   "source": [
    "data.head()"
   ]
  },
  {
   "cell_type": "markdown",
   "metadata": {},
   "source": [
    "### Заполнение пропусков в столбце Tenure"
   ]
  },
  {
   "cell_type": "markdown",
   "metadata": {},
   "source": [
    "Как можно было заметить, единственный столбец с пропусками – `Tenure`.\n",
    "\n",
    "Изучим его подробнее: построим график зависимости ухода клиентов (Exited) от количества недвижимости (Tenure)."
   ]
  },
  {
   "cell_type": "code",
   "execution_count": 9,
   "metadata": {},
   "outputs": [
    {
     "data": {
      "image/png": "[encoded data removed]",
      "text/plain": [
       "<Figure size 1080x576 with 1 Axes>"
      ]
     },
     "metadata": {
      "needs_background": "light"
     },
     "output_type": "display_data"
    }
   ],
   "source": [
    "tenure_1 = data[data['Exited']==1]['Tenure'].value_counts()\n",
    "tenure_0 = data[data['Exited']==0]['Tenure'].value_counts()\n",
    "\n",
    "\n",
    "plt.figure(figsize=(15,8))\n",
    "plt.xlabel('Tenure', fontsize=16)\n",
    "plt.ylabel('Number of clients', fontsize=16)\n",
    "plt.title('Tenure',fontsize=16);\n",
    "plt.bar(data['Tenure'].value_counts().index,\n",
    "        data['Tenure'].value_counts().values,\n",
    "        color='orange', alpha=0.8, label='Number of all clients')\n",
    "plt.bar(tenure_1.index,\n",
    "        tenure_1.values,\n",
    "        color='g', alpha=0.8, label='Number of clients with \"Exited\"=1')\n",
    "plt.grid(True)\n",
    "plt.legend(loc='lower right', fontsize=16)\n",
    "plt.show()"
   ]
  },
  {
   "cell_type": "markdown",
   "metadata": {},
   "source": [
    "Так же посмотрим, как сейчас распределено Tenure по значениям (включая NaN):"
   ]
  },
  {
   "cell_type": "code",
   "execution_count": 10,
   "metadata": {},
   "outputs": [
    {
     "data": {
      "text/plain": [
       "10.0    446\n",
       "9.0     882\n",
       "8.0     933\n",
       "7.0     925\n",
       "6.0     881\n",
       "5.0     927\n",
       "4.0     885\n",
       "3.0     928\n",
       "2.0     950\n",
       "1.0     952\n",
       "0.0     382\n",
       "NaN     909\n",
       "Name: Tenure, dtype: int64"
      ]
     },
     "execution_count": 10,
     "metadata": {},
     "output_type": "execute_result"
    }
   ],
   "source": [
    "data['Tenure'].value_counts(dropna=False).sort_index(ascending = False)"
   ]
  },
  {
   "cell_type": "markdown",
   "metadata": {},
   "source": [
    "Подозрительно мало значений 0 – без недвижимости. \n",
    "___\n",
    "Посмотрим на то, может ли этот признак зависеть от других."
   ]
  },
  {
   "cell_type": "markdown",
   "metadata": {},
   "source": [
    "Признаки, которые могут определять Tenure и их корреляция:"
   ]
  },
  {
   "cell_type": "code",
   "execution_count": 11,
   "metadata": {},
   "outputs": [
    {
     "data": {
      "text/html": [
       "<div>\n",
       "<style scoped>\n",
       "    .dataframe tbody tr th:only-of-type {\n",
       "        vertical-align: middle;\n",
       "    }\n",
       "\n",
       "    .dataframe tbody tr th {\n",
       "        vertical-align: top;\n",
       "    }\n",
       "\n",
       "    .dataframe thead th {\n",
       "        text-align: right;\n",
       "    }\n",
       "</style>\n",
       "<table border=\"1\" class=\"dataframe\">\n",
       "  <thead>\n",
       "    <tr style=\"text-align: right;\">\n",
       "      <th></th>\n",
       "      <th>CreditScore</th>\n",
       "      <th>Age</th>\n",
       "      <th>Balance</th>\n",
       "      <th>EstimatedSalary</th>\n",
       "    </tr>\n",
       "  </thead>\n",
       "  <tbody>\n",
       "    <tr>\n",
       "      <td>CreditScore</td>\n",
       "      <td>1.000000</td>\n",
       "      <td>-0.003965</td>\n",
       "      <td>0.006268</td>\n",
       "      <td>-0.001384</td>\n",
       "    </tr>\n",
       "    <tr>\n",
       "      <td>Age</td>\n",
       "      <td>-0.003965</td>\n",
       "      <td>1.000000</td>\n",
       "      <td>0.028308</td>\n",
       "      <td>-0.007201</td>\n",
       "    </tr>\n",
       "    <tr>\n",
       "      <td>Balance</td>\n",
       "      <td>0.006268</td>\n",
       "      <td>0.028308</td>\n",
       "      <td>1.000000</td>\n",
       "      <td>0.012797</td>\n",
       "    </tr>\n",
       "    <tr>\n",
       "      <td>EstimatedSalary</td>\n",
       "      <td>-0.001384</td>\n",
       "      <td>-0.007201</td>\n",
       "      <td>0.012797</td>\n",
       "      <td>1.000000</td>\n",
       "    </tr>\n",
       "  </tbody>\n",
       "</table>\n",
       "</div>"
      ],
      "text/plain": [
       "                 CreditScore       Age   Balance  EstimatedSalary\n",
       "CreditScore         1.000000 -0.003965  0.006268        -0.001384\n",
       "Age                -0.003965  1.000000  0.028308        -0.007201\n",
       "Balance             0.006268  0.028308  1.000000         0.012797\n",
       "EstimatedSalary    -0.001384 -0.007201  0.012797         1.000000"
      ]
     },
     "execution_count": 11,
     "metadata": {},
     "output_type": "execute_result"
    }
   ],
   "source": [
    "data[[ 'CreditScore' , 'Age' , 'Balance' , 'EstimatedSalary']].corr()"
   ]
  },
  {
   "cell_type": "markdown",
   "metadata": {},
   "source": [
    "Корреляция очень низкая – тогда эти переменные не определяют количество квартир.\n",
    "\n",
    "Тогда удалять этот признак нельзя. Предположим, что пропуски – это отсутсвие недвижимости, заполним их нулём."
   ]
  },
  {
   "cell_type": "code",
   "execution_count": 12,
   "metadata": {},
   "outputs": [],
   "source": [
    "data['Tenure'] = data['Tenure'].fillna(0)"
   ]
  },
  {
   "cell_type": "markdown",
   "metadata": {},
   "source": [
    "Посмотрим, остались ли пропуски:"
   ]
  },
  {
   "cell_type": "code",
   "execution_count": 13,
   "metadata": {},
   "outputs": [
    {
     "data": {
      "text/plain": [
       "CreditScore          0\n",
       "Age                  0\n",
       "Tenure               0\n",
       "Balance              0\n",
       "NumOfProducts        0\n",
       "HasCrCard            0\n",
       "IsActiveMember       0\n",
       "EstimatedSalary      0\n",
       "Exited               0\n",
       "Geography_Germany    0\n",
       "Geography_Spain      0\n",
       "Gender_Male          0\n",
       "dtype: int64"
      ]
     },
     "execution_count": 13,
     "metadata": {},
     "output_type": "execute_result"
    }
   ],
   "source": [
    "np.isnan(data).sum()"
   ]
  },
  {
   "cell_type": "markdown",
   "metadata": {},
   "source": [
    "### Масштабирование признаков"
   ]
  },
  {
   "cell_type": "markdown",
   "metadata": {},
   "source": [
    "\n",
    "Масштабируем количественные признаки:"
   ]
  },
  {
   "cell_type": "code",
   "execution_count": 14,
   "metadata": {},
   "outputs": [
    {
     "data": {
      "text/html": [
       "<div>\n",
       "<style scoped>\n",
       "    .dataframe tbody tr th:only-of-type {\n",
       "        vertical-align: middle;\n",
       "    }\n",
       "\n",
       "    .dataframe tbody tr th {\n",
       "        vertical-align: top;\n",
       "    }\n",
       "\n",
       "    .dataframe thead th {\n",
       "        text-align: right;\n",
       "    }\n",
       "</style>\n",
       "<table border=\"1\" class=\"dataframe\">\n",
       "  <thead>\n",
       "    <tr style=\"text-align: right;\">\n",
       "      <th></th>\n",
       "      <th>CreditScore</th>\n",
       "      <th>Age</th>\n",
       "      <th>Balance</th>\n",
       "      <th>EstimatedSalary</th>\n",
       "    </tr>\n",
       "  </thead>\n",
       "  <tbody>\n",
       "    <tr>\n",
       "      <td>0</td>\n",
       "      <td>-0.326221</td>\n",
       "      <td>0.293517</td>\n",
       "      <td>-1.225848</td>\n",
       "      <td>0.021886</td>\n",
       "    </tr>\n",
       "    <tr>\n",
       "      <td>1</td>\n",
       "      <td>-0.440036</td>\n",
       "      <td>0.198164</td>\n",
       "      <td>0.117350</td>\n",
       "      <td>0.216534</td>\n",
       "    </tr>\n",
       "    <tr>\n",
       "      <td>2</td>\n",
       "      <td>-1.536794</td>\n",
       "      <td>0.293517</td>\n",
       "      <td>1.333053</td>\n",
       "      <td>0.240687</td>\n",
       "    </tr>\n",
       "    <tr>\n",
       "      <td>3</td>\n",
       "      <td>0.501521</td>\n",
       "      <td>0.007457</td>\n",
       "      <td>-1.225848</td>\n",
       "      <td>-0.108918</td>\n",
       "    </tr>\n",
       "    <tr>\n",
       "      <td>4</td>\n",
       "      <td>2.063884</td>\n",
       "      <td>0.388871</td>\n",
       "      <td>0.785728</td>\n",
       "      <td>-0.365276</td>\n",
       "    </tr>\n",
       "  </tbody>\n",
       "</table>\n",
       "</div>"
      ],
      "text/plain": [
       "   CreditScore       Age   Balance  EstimatedSalary\n",
       "0    -0.326221  0.293517 -1.225848         0.021886\n",
       "1    -0.440036  0.198164  0.117350         0.216534\n",
       "2    -1.536794  0.293517  1.333053         0.240687\n",
       "3     0.501521  0.007457 -1.225848        -0.108918\n",
       "4     2.063884  0.388871  0.785728        -0.365276"
      ]
     },
     "execution_count": 14,
     "metadata": {},
     "output_type": "execute_result"
    }
   ],
   "source": [
    "scaler = StandardScaler()\n",
    "scaled_values = scaler.fit_transform(data[['CreditScore', 'Age' , 'Balance' , 'EstimatedSalary']])\n",
    "data_scaled = pd.DataFrame(data = scaled_values ,\n",
    "                           columns = data[['CreditScore', 'Age' , 'Balance' , 'EstimatedSalary']].columns )\n",
    "data_scaled.head()"
   ]
  },
  {
   "cell_type": "markdown",
   "metadata": {},
   "source": [
    "Объединим масштабированные ранее признаки с остальными и выделим target:"
   ]
  },
  {
   "cell_type": "code",
   "execution_count": 15,
   "metadata": {},
   "outputs": [
    {
     "name": "stdout",
     "output_type": "stream",
     "text": [
      "(10000, 11)\n",
      "(10000,)\n"
     ]
    }
   ],
   "source": [
    "features = pd.concat([data.drop(['CreditScore', 'Age' , 'Balance' , 'EstimatedSalary', 'Exited'], axis = 1) , \n",
    "                     data_scaled] , axis = 1)\n",
    "target = data['Exited']\n",
    "\n",
    "print(features.shape)\n",
    "print(target.shape)"
   ]
  },
  {
   "cell_type": "markdown",
   "metadata": {},
   "source": [
    "### Вывод:\n",
    "\n",
    "Изначально данные содержали 14 признаков (один из них – целевой)\n",
    "\n",
    "После анализа было установлено, что такие признаки, как `RowNumber`, `CustomerId`, `Surname` не несут смысловой нагрузки для дальнейшего построения модели. Поэтому они были удалены.\n",
    "\n",
    "Далее, с помощью метода `info()` было определено наличие пропусков в столбце `Tenure`. \n",
    "\n",
    "Для анализа `Tenure` был построен график, показывающиq общее количество клиентов с недвижимостью и ушедших клиентов. \n",
    "\n",
    "Распределение `Tenure` по значениям приблизительно одинаковое – ~20%. Было принято решение заполнить пропуски нулём, предположив, что отсутствующие значения – это экземпляры без недвижимости.\n",
    "\n",
    "Количественные признаки были масштабированы методом `Standardscaler()`.\n",
    "\n",
    "Категориальные признаки были преобразованы  методом OHE.\n",
    "\n",
    "Методом `concat()` все преобразованные и исходные признаки объединены в один датафрейм `features`.\n",
    "\n",
    "✅ Итого 11 признаков в `features` и 1 в `target`. Оба длиной 10000."
   ]
  },
  {
   "cell_type": "markdown",
   "metadata": {},
   "source": [
    "## 2. Исследование задачи\n"
   ]
  },
  {
   "cell_type": "markdown",
   "metadata": {},
   "source": [
    "Распределение значений в целевом признаке:"
   ]
  },
  {
   "cell_type": "code",
   "execution_count": 16,
   "metadata": {},
   "outputs": [
    {
     "data": {
      "image/png": "[encoded data removed]",
      "text/plain": [
       "<Figure size 432x288 with 1 Axes>"
      ]
     },
     "metadata": {
      "needs_background": "light"
     },
     "output_type": "display_data"
    }
   ],
   "source": [
    "plt.bar(target.value_counts().index, target.value_counts().values)\n",
    "plt.xticks(np.arange(0, 1.1, step=1))\n",
    "plt.show()"
   ]
  },
  {
   "cell_type": "markdown",
   "metadata": {},
   "source": [
    "Это даёт предположение о том, что классы не сбалансированны 😬"
   ]
  },
  {
   "cell_type": "markdown",
   "metadata": {},
   "source": [
    "### Разделение на train/valid/test\n",
    "Делим данные на обучающую/валидационную/тестовую выборки в соотношении 60%/20%/20% соответственно:"
   ]
  },
  {
   "cell_type": "code",
   "execution_count": 17,
   "metadata": {},
   "outputs": [],
   "source": [
    "features_train, features_valid, target_train, target_valid = train_test_split(\n",
    "    features, target, test_size=0.4, random_state=12345)\n",
    "\n",
    "features_valid, features_test, target_valid, target_test = train_test_split(\n",
    "    features_valid, target_valid, test_size=0.5, random_state=12345)"
   ]
  },
  {
   "cell_type": "markdown",
   "metadata": {},
   "source": [
    "Посмотрим на размерности и удостоверимся, что всё сделано, как надо ☺️"
   ]
  },
  {
   "cell_type": "code",
   "execution_count": 18,
   "metadata": {},
   "outputs": [
    {
     "name": "stdout",
     "output_type": "stream",
     "text": [
      "Shape of features_train:(6000, 11)\n",
      "Shape of features_valid:(2000, 11)\n",
      "Shape of features_test:(2000, 11)\n",
      "\n",
      "Shape of target_train:(6000,)\n",
      "Shape of target_valid:(2000,)\n",
      "Shape of target_test:(2000,)\n",
      "\n"
     ]
    }
   ],
   "source": [
    "features_train.name = 'features_train'\n",
    "features_valid.name = 'features_valid'\n",
    "features_test.name = 'features_test'\n",
    "target_train.name = 'target_train'\n",
    "target_valid.name = 'target_valid'\n",
    "target_test.name = 'target_test'\n",
    "\n",
    "for data in [features_train, features_valid, features_test, target_train, target_valid, target_test]:\n",
    "    print(f\"Shape of {data.name}:{np.shape(data)}\")\n",
    "    if 'test' in data.name:\n",
    "        print()"
   ]
  },
  {
   "cell_type": "markdown",
   "metadata": {},
   "source": [
    "Функция, которая упростит дальнейшую работу по исследованию различных моделей:"
   ]
  },
  {
   "cell_type": "code",
   "execution_count": 19,
   "metadata": {},
   "outputs": [],
   "source": [
    "def model(name_of_model, type_of_model,\n",
    "         features, target):\n",
    "    \n",
    "    model = type_of_model\n",
    "    model.fit(features, target)\n",
    "    predicted_valid = model.predict(features_valid)\n",
    "\n",
    "    accuracy = accuracy_score(target_valid, predicted_valid)\n",
    "    F1 = f1_score(target_valid, predicted_valid)\n",
    "\n",
    "    probabilities = model.predict_proba(features_valid)\n",
    "    probabilities_one = probabilities[:, 1]\n",
    "    ROCAUC = roc_auc_score(target_valid, probabilities_one)\n",
    "\n",
    "    print(name_of_model)\n",
    "    print(\"Accuracy =\", '{:.4f}'.format(round(accuracy,4)), \n",
    "          \"F1 Score =\", '{:.4f}'.format(round(F1,4)),\n",
    "          \"ROC-AUC  =\", '{:.4f}'.format(round(ROCAUC,4)))\n",
    "    #print(\"F1 Score =\", '{:.4f}'.format(round(F1,4)))\n",
    "    #print(\"ROC-AUC  =\", '{:.4f}'.format(round(ROCAUC,4)))"
   ]
  },
  {
   "cell_type": "markdown",
   "metadata": {},
   "source": [
    "### DecisionTreeClassifier"
   ]
  },
  {
   "cell_type": "code",
   "execution_count": 20,
   "metadata": {},
   "outputs": [
    {
     "name": "stdout",
     "output_type": "stream",
     "text": [
      "Random tree\n",
      "Accuracy = 0.7915 F1 Score = 0.4970 ROC-AUC  = 0.6816\n"
     ]
    }
   ],
   "source": [
    "model('Random tree', DecisionTreeClassifier(random_state=12345), features_train, target_train)"
   ]
  },
  {
   "cell_type": "markdown",
   "metadata": {},
   "source": [
    "### LogisticRegression"
   ]
  },
  {
   "cell_type": "code",
   "execution_count": 21,
   "metadata": {},
   "outputs": [
    {
     "name": "stdout",
     "output_type": "stream",
     "text": [
      "Логистическая регрессия\n",
      "Accuracy = 0.8025 F1 Score = 0.3339 ROC-AUC  = 0.7586\n"
     ]
    }
   ],
   "source": [
    "model('Логистическая регрессия', LogisticRegression(random_state=12345, solver='liblinear'), \n",
    "      features_train, target_train)"
   ]
  },
  {
   "cell_type": "code",
   "execution_count": 22,
   "metadata": {},
   "outputs": [
    {
     "name": "stdout",
     "output_type": "stream",
     "text": [
      "Логистическая регрессия\n",
      "Accuracy = 0.7010 F1 Score = 0.4889 ROC-AUC  = 0.7636\n"
     ]
    }
   ],
   "source": [
    "model('Логистическая регрессия',\n",
    "      LogisticRegression(random_state=12345, class_weight = 'balanced', solver='liblinear'), \n",
    "      features_train, target_train)"
   ]
  },
  {
   "cell_type": "markdown",
   "metadata": {},
   "source": [
    "Можно предположить, что классы не сбалансированны"
   ]
  },
  {
   "cell_type": "markdown",
   "metadata": {},
   "source": [
    "### RandomForestClassifier"
   ]
  },
  {
   "cell_type": "code",
   "execution_count": 23,
   "metadata": {},
   "outputs": [
    {
     "name": "stdout",
     "output_type": "stream",
     "text": [
      "Случайный лес\n",
      "Accuracy = 0.8500 F1 Score = 0.5468 ROC-AUC  = 0.8053\n"
     ]
    }
   ],
   "source": [
    "model('Случайный лес', RandomForestClassifier(random_state=12345, n_estimators = 10), \n",
    "      features_train, target_train)"
   ]
  },
  {
   "cell_type": "markdown",
   "metadata": {},
   "source": [
    "### Вывод:\n",
    "Классы целевого признака не сбалансированы из-за того, что количнество Exited=1 значительно меньше Exited=0 (показано на диаграмме).\n",
    "\n",
    "Методом `train_test_split()` данные были разбиты на 3 выборки: обучающую, валидационную, тестовую. Отношение размера выборок $0.6/0.2/0.2$.\n",
    "\n",
    "Опробованные модели:\n",
    "\n",
    "- Решающее дерево: F1 = 0.497\n",
    "\n",
    "- Логистическая регрессия: F1 = 0.33 (без учета баланса классов)\n",
    "\n",
    "- Логистическая регрессия: F1 = 0.49 (с учетом баланса классов)\n",
    "\n",
    "- Случайный лес: F1 = 0.55 при n_estimators = 10. \n",
    "\n",
    "Для улучшения модели необходимо провести балансировку классов."
   ]
  },
  {
   "cell_type": "markdown",
   "metadata": {},
   "source": [
    "## 3. Устранение дисбаланса классов"
   ]
  },
  {
   "cell_type": "markdown",
   "metadata": {},
   "source": [
    "Функция апсэмплинга увеличит наши выборки:"
   ]
  },
  {
   "cell_type": "code",
   "execution_count": 24,
   "metadata": {},
   "outputs": [],
   "source": [
    "def upsample(features, target, repeat):\n",
    "    features_zeros = features[target == 0]\n",
    "    features_ones = features[target == 1]\n",
    "    target_zeros = target[target == 0]\n",
    "    target_ones = target[target == 1]\n",
    " \n",
    "    features_upsampled = pd.concat([features_zeros] + [features_ones] * repeat)\n",
    "    target_upsampled = pd.concat([target_zeros] + [target_ones] * repeat)\n",
    "    return features_upsampled, target_upsampled"
   ]
  },
  {
   "cell_type": "code",
   "execution_count": 25,
   "metadata": {},
   "outputs": [
    {
     "name": "stdout",
     "output_type": "stream",
     "text": [
      "Repeat 1\n",
      "\n",
      "Accuracy = 0.8500 F1 Score = 0.5536 ROC-AUC  = 0.8070\n",
      "\n",
      "Repeat 2\n",
      "\n",
      "Accuracy = 0.8455 F1 Score = 0.5726 ROC-AUC  = 0.8058\n",
      "\n",
      "Repeat 3\n",
      "\n",
      "Accuracy = 0.8420 F1 Score = 0.5635 ROC-AUC  = 0.8139\n",
      "\n",
      "Repeat 4\n",
      "\n",
      "Accuracy = 0.8375 F1 Score = 0.5566 ROC-AUC  = 0.8161\n",
      "\n",
      "Repeat 5\n",
      "\n",
      "Accuracy = 0.8350 F1 Score = 0.5600 ROC-AUC  = 0.8091\n",
      "\n",
      "Repeat 6\n",
      "\n",
      "Accuracy = 0.8410 F1 Score = 0.5644 ROC-AUC  = 0.8093\n",
      "\n",
      "Repeat 7\n",
      "\n",
      "Accuracy = 0.8415 F1 Score = 0.5745 ROC-AUC  = 0.8119\n",
      "\n",
      "Repeat 8\n",
      "\n",
      "Accuracy = 0.8460 F1 Score = 0.5758 ROC-AUC  = 0.7969\n",
      "\n",
      "Repeat 9\n",
      "\n",
      "Accuracy = 0.8300 F1 Score = 0.5368 ROC-AUC  = 0.8086\n",
      "\n",
      "Repeat 10\n",
      "\n",
      "Accuracy = 0.8440 F1 Score = 0.5829 ROC-AUC  = 0.8104\n",
      "\n",
      "Repeat 11\n",
      "\n",
      "Accuracy = 0.8445 F1 Score = 0.5769 ROC-AUC  = 0.8126\n",
      "\n",
      "Repeat 12\n",
      "\n",
      "Accuracy = 0.8455 F1 Score = 0.5726 ROC-AUC  = 0.8052\n",
      "\n",
      "Repeat 13\n",
      "\n",
      "Accuracy = 0.8450 F1 Score = 0.5694 ROC-AUC  = 0.8176\n",
      "\n",
      "Repeat 14\n",
      "\n",
      "Accuracy = 0.8400 F1 Score = 0.5640 ROC-AUC  = 0.8185\n",
      "\n"
     ]
    }
   ],
   "source": [
    "for repeat in range(1,15):\n",
    "    print('Repeat', repeat)\n",
    "    model('', RandomForestClassifier(random_state=12345, n_estimators = 10),\n",
    "         upsample(features_train, target_train, repeat)[0], upsample(features_train, target_train, repeat)[1])\n",
    "    print()"
   ]
  },
  {
   "cell_type": "markdown",
   "metadata": {},
   "source": [
    "Лучший результат F1_score был достигнут при repeat = 10. Оставим его для апсэмплинга."
   ]
  },
  {
   "cell_type": "code",
   "execution_count": 26,
   "metadata": {},
   "outputs": [],
   "source": [
    "features_upsampled, target_upsampled = upsample(features_train, target_train, 10)"
   ]
  },
  {
   "cell_type": "markdown",
   "metadata": {},
   "source": [
    "Запустим случайный лес и выберем наилучшие параметры глубины и количества деревьев:"
   ]
  },
  {
   "cell_type": "code",
   "execution_count": 27,
   "metadata": {},
   "outputs": [
    {
     "name": "stdout",
     "output_type": "stream",
     "text": [
      "Случайный лес, n_estim = 10, max_depth = 6\n",
      "Accuracy = 0.5750 F1 Score = 0.4720 ROC-AUC  = 0.8433\n",
      "Случайный лес, n_estim = 10, max_depth = 7\n",
      "Accuracy = 0.6165 F1 Score = 0.4931 ROC-AUC  = 0.8410\n",
      "Случайный лес, n_estim = 10, max_depth = 8\n",
      "Accuracy = 0.6605 F1 Score = 0.5126 ROC-AUC  = 0.8326\n",
      "Случайный лес, n_estim = 10, max_depth = 9\n",
      "Accuracy = 0.6845 F1 Score = 0.5273 ROC-AUC  = 0.8259\n",
      "Случайный лес, n_estim = 10, max_depth = 10\n",
      "Accuracy = 0.7145 F1 Score = 0.5354 ROC-AUC  = 0.8221\n",
      "Случайный лес, n_estim = 10, max_depth = 11\n",
      "Accuracy = 0.7525 F1 Score = 0.5553 ROC-AUC  = 0.8195\n",
      "Случайный лес, n_estim = 10, max_depth = 12\n",
      "Accuracy = 0.7685 F1 Score = 0.5586 ROC-AUC  = 0.8145\n",
      "Случайный лес, n_estim = 10, max_depth = 13\n",
      "Accuracy = 0.7980 F1 Score = 0.5720 ROC-AUC  = 0.8130\n",
      "Случайный лес, n_estim = 10, max_depth = 14\n",
      "Accuracy = 0.8035 F1 Score = 0.5705 ROC-AUC  = 0.8188\n",
      "Случайный лес, n_estim = 15, max_depth = 6\n",
      "Accuracy = 0.5695 F1 Score = 0.4669 ROC-AUC  = 0.8412\n",
      "Случайный лес, n_estim = 15, max_depth = 7\n",
      "Accuracy = 0.6210 F1 Score = 0.4953 ROC-AUC  = 0.8423\n",
      "Случайный лес, n_estim = 15, max_depth = 8\n",
      "Accuracy = 0.6650 F1 Score = 0.5207 ROC-AUC  = 0.8347\n",
      "Случайный лес, n_estim = 15, max_depth = 9\n",
      "Accuracy = 0.6840 F1 Score = 0.5269 ROC-AUC  = 0.8307\n",
      "Случайный лес, n_estim = 15, max_depth = 10\n",
      "Accuracy = 0.7215 F1 Score = 0.5423 ROC-AUC  = 0.8263\n",
      "Случайный лес, n_estim = 15, max_depth = 11\n",
      "Accuracy = 0.7515 F1 Score = 0.5535 ROC-AUC  = 0.8231\n",
      "Случайный лес, n_estim = 15, max_depth = 12\n",
      "Accuracy = 0.7810 F1 Score = 0.5764 ROC-AUC  = 0.8216\n",
      "Случайный лес, n_estim = 15, max_depth = 13\n",
      "Accuracy = 0.8025 F1 Score = 0.5873 ROC-AUC  = 0.8245\n",
      "Случайный лес, n_estim = 15, max_depth = 14\n",
      "Accuracy = 0.8100 F1 Score = 0.5796 ROC-AUC  = 0.8256\n",
      "Случайный лес, n_estim = 20, max_depth = 6\n",
      "Accuracy = 0.5680 F1 Score = 0.4667 ROC-AUC  = 0.8431\n",
      "Случайный лес, n_estim = 20, max_depth = 7\n",
      "Accuracy = 0.6240 F1 Score = 0.4980 ROC-AUC  = 0.8450\n",
      "Случайный лес, n_estim = 20, max_depth = 8\n",
      "Accuracy = 0.6670 F1 Score = 0.5195 ROC-AUC  = 0.8396\n",
      "Случайный лес, n_estim = 20, max_depth = 9\n",
      "Accuracy = 0.6900 F1 Score = 0.5310 ROC-AUC  = 0.8335\n",
      "Случайный лес, n_estim = 20, max_depth = 10\n",
      "Accuracy = 0.7275 F1 Score = 0.5500 ROC-AUC  = 0.8325\n",
      "Случайный лес, n_estim = 20, max_depth = 11\n",
      "Accuracy = 0.7560 F1 Score = 0.5612 ROC-AUC  = 0.8244\n",
      "Случайный лес, n_estim = 20, max_depth = 12\n",
      "Accuracy = 0.7790 F1 Score = 0.5717 ROC-AUC  = 0.8278\n",
      "Случайный лес, n_estim = 20, max_depth = 13\n",
      "Accuracy = 0.8025 F1 Score = 0.5802 ROC-AUC  = 0.8280\n",
      "Случайный лес, n_estim = 20, max_depth = 14\n",
      "Accuracy = 0.8150 F1 Score = 0.5861 ROC-AUC  = 0.8289\n",
      "Случайный лес, n_estim = 25, max_depth = 6\n",
      "Accuracy = 0.5645 F1 Score = 0.4660 ROC-AUC  = 0.8430\n",
      "Случайный лес, n_estim = 25, max_depth = 7\n",
      "Accuracy = 0.6295 F1 Score = 0.5010 ROC-AUC  = 0.8463\n",
      "Случайный лес, n_estim = 25, max_depth = 8\n",
      "Accuracy = 0.6695 F1 Score = 0.5241 ROC-AUC  = 0.8417\n",
      "Случайный лес, n_estim = 25, max_depth = 9\n",
      "Accuracy = 0.6930 F1 Score = 0.5320 ROC-AUC  = 0.8349\n",
      "Случайный лес, n_estim = 25, max_depth = 10\n",
      "Accuracy = 0.7355 F1 Score = 0.5581 ROC-AUC  = 0.8339\n",
      "Случайный лес, n_estim = 25, max_depth = 11\n",
      "Accuracy = 0.7595 F1 Score = 0.5615 ROC-AUC  = 0.8294\n",
      "Случайный лес, n_estim = 25, max_depth = 12\n",
      "Accuracy = 0.7820 F1 Score = 0.5808 ROC-AUC  = 0.8314\n",
      "Случайный лес, n_estim = 25, max_depth = 13\n",
      "Accuracy = 0.8025 F1 Score = 0.5784 ROC-AUC  = 0.8284\n",
      "Случайный лес, n_estim = 25, max_depth = 14\n",
      "Accuracy = 0.8170 F1 Score = 0.5860 ROC-AUC  = 0.8316\n",
      "Случайный лес, n_estim = 30, max_depth = 6\n",
      "Accuracy = 0.5660 F1 Score = 0.4668 ROC-AUC  = 0.8441\n",
      "Случайный лес, n_estim = 30, max_depth = 7\n",
      "Accuracy = 0.6260 F1 Score = 0.4993 ROC-AUC  = 0.8457\n",
      "Случайный лес, n_estim = 30, max_depth = 8\n",
      "Accuracy = 0.6660 F1 Score = 0.5208 ROC-AUC  = 0.8435\n",
      "Случайный лес, n_estim = 30, max_depth = 9\n",
      "Accuracy = 0.6880 F1 Score = 0.5287 ROC-AUC  = 0.8366\n",
      "Случайный лес, n_estim = 30, max_depth = 10\n",
      "Accuracy = 0.7375 F1 Score = 0.5577 ROC-AUC  = 0.8360\n",
      "Случайный лес, n_estim = 30, max_depth = 11\n",
      "Accuracy = 0.7590 F1 Score = 0.5602 ROC-AUC  = 0.8315\n",
      "Случайный лес, n_estim = 30, max_depth = 12\n",
      "Accuracy = 0.7795 F1 Score = 0.5714 ROC-AUC  = 0.8338\n",
      "Случайный лес, n_estim = 30, max_depth = 13\n",
      "Accuracy = 0.8035 F1 Score = 0.5806 ROC-AUC  = 0.8303\n",
      "Случайный лес, n_estim = 30, max_depth = 14\n",
      "Accuracy = 0.8205 F1 Score = 0.5859 ROC-AUC  = 0.8336\n",
      "Случайный лес, n_estim = 35, max_depth = 6\n",
      "Accuracy = 0.5620 F1 Score = 0.4645 ROC-AUC  = 0.8436\n",
      "Случайный лес, n_estim = 35, max_depth = 7\n",
      "Accuracy = 0.6230 F1 Score = 0.4967 ROC-AUC  = 0.8460\n",
      "Случайный лес, n_estim = 35, max_depth = 8\n",
      "Accuracy = 0.6695 F1 Score = 0.5248 ROC-AUC  = 0.8441\n",
      "Случайный лес, n_estim = 35, max_depth = 9\n",
      "Accuracy = 0.6855 F1 Score = 0.5267 ROC-AUC  = 0.8379\n",
      "Случайный лес, n_estim = 35, max_depth = 10\n",
      "Accuracy = 0.7350 F1 Score = 0.5554 ROC-AUC  = 0.8369\n",
      "Случайный лес, n_estim = 35, max_depth = 11\n",
      "Accuracy = 0.7555 F1 Score = 0.5542 ROC-AUC  = 0.8313\n",
      "Случайный лес, n_estim = 35, max_depth = 12\n",
      "Accuracy = 0.7785 F1 Score = 0.5712 ROC-AUC  = 0.8355\n",
      "Случайный лес, n_estim = 35, max_depth = 13\n",
      "Accuracy = 0.7985 F1 Score = 0.5744 ROC-AUC  = 0.8320\n",
      "Случайный лес, n_estim = 35, max_depth = 14\n",
      "Accuracy = 0.8205 F1 Score = 0.5888 ROC-AUC  = 0.8344\n",
      "Случайный лес, n_estim = 40, max_depth = 6\n",
      "Accuracy = 0.5710 F1 Score = 0.4704 ROC-AUC  = 0.8447\n",
      "Случайный лес, n_estim = 40, max_depth = 7\n",
      "Accuracy = 0.6280 F1 Score = 0.5013 ROC-AUC  = 0.8467\n",
      "Случайный лес, n_estim = 40, max_depth = 8\n",
      "Accuracy = 0.6680 F1 Score = 0.5230 ROC-AUC  = 0.8441\n",
      "Случайный лес, n_estim = 40, max_depth = 9\n",
      "Accuracy = 0.6905 F1 Score = 0.5307 ROC-AUC  = 0.8379\n",
      "Случайный лес, n_estim = 40, max_depth = 10\n",
      "Accuracy = 0.7380 F1 Score = 0.5582 ROC-AUC  = 0.8361\n",
      "Случайный лес, n_estim = 40, max_depth = 11\n",
      "Accuracy = 0.7585 F1 Score = 0.5581 ROC-AUC  = 0.8316\n",
      "Случайный лес, n_estim = 40, max_depth = 12\n",
      "Accuracy = 0.7825 F1 Score = 0.5756 ROC-AUC  = 0.8391\n",
      "Случайный лес, n_estim = 40, max_depth = 13\n",
      "Accuracy = 0.8025 F1 Score = 0.5784 ROC-AUC  = 0.8326\n",
      "Случайный лес, n_estim = 40, max_depth = 14\n",
      "Accuracy = 0.8210 F1 Score = 0.5904 ROC-AUC  = 0.8354\n",
      "Случайный лес, n_estim = 45, max_depth = 6\n",
      "Accuracy = 0.5700 F1 Score = 0.4698 ROC-AUC  = 0.8435\n",
      "Случайный лес, n_estim = 45, max_depth = 7\n",
      "Accuracy = 0.6290 F1 Score = 0.5007 ROC-AUC  = 0.8465\n",
      "Случайный лес, n_estim = 45, max_depth = 8\n",
      "Accuracy = 0.6675 F1 Score = 0.5219 ROC-AUC  = 0.8447\n",
      "Случайный лес, n_estim = 45, max_depth = 9\n",
      "Accuracy = 0.6895 F1 Score = 0.5285 ROC-AUC  = 0.8385\n",
      "Случайный лес, n_estim = 45, max_depth = 10\n",
      "Accuracy = 0.7355 F1 Score = 0.5558 ROC-AUC  = 0.8373\n",
      "Случайный лес, n_estim = 45, max_depth = 11\n",
      "Accuracy = 0.7605 F1 Score = 0.5641 ROC-AUC  = 0.8332\n",
      "Случайный лес, n_estim = 45, max_depth = 12\n",
      "Accuracy = 0.7815 F1 Score = 0.5745 ROC-AUC  = 0.8408\n",
      "Случайный лес, n_estim = 45, max_depth = 13\n",
      "Accuracy = 0.8050 F1 Score = 0.5833 ROC-AUC  = 0.8329\n",
      "Случайный лес, n_estim = 45, max_depth = 14\n",
      "Accuracy = 0.8245 F1 Score = 0.5970 ROC-AUC  = 0.8358\n",
      "Случайный лес, n_estim = 50, max_depth = 6\n",
      "Accuracy = 0.5690 F1 Score = 0.4686 ROC-AUC  = 0.8433\n",
      "Случайный лес, n_estim = 50, max_depth = 7\n",
      "Accuracy = 0.6265 F1 Score = 0.4997 ROC-AUC  = 0.8451\n",
      "Случайный лес, n_estim = 50, max_depth = 8\n",
      "Accuracy = 0.6645 F1 Score = 0.5190 ROC-AUC  = 0.8442\n",
      "Случайный лес, n_estim = 50, max_depth = 9\n",
      "Accuracy = 0.6945 F1 Score = 0.5354 ROC-AUC  = 0.8392\n",
      "Случайный лес, n_estim = 50, max_depth = 10\n",
      "Accuracy = 0.7390 F1 Score = 0.5621 ROC-AUC  = 0.8381\n",
      "Случайный лес, n_estim = 50, max_depth = 11\n",
      "Accuracy = 0.7625 F1 Score = 0.5646 ROC-AUC  = 0.8335\n",
      "Случайный лес, n_estim = 50, max_depth = 12\n",
      "Accuracy = 0.7850 F1 Score = 0.5809 ROC-AUC  = 0.8410\n",
      "Случайный лес, n_estim = 50, max_depth = 13\n",
      "Accuracy = 0.8070 F1 Score = 0.5876 ROC-AUC  = 0.8341\n",
      "Случайный лес, n_estim = 50, max_depth = 14\n",
      "Accuracy = 0.8265 F1 Score = 0.5979 ROC-AUC  = 0.8364\n",
      "Случайный лес, n_estim = 55, max_depth = 6\n",
      "Accuracy = 0.5610 F1 Score = 0.4646 ROC-AUC  = 0.8438\n",
      "Случайный лес, n_estim = 55, max_depth = 7\n",
      "Accuracy = 0.6225 F1 Score = 0.4970 ROC-AUC  = 0.8454\n",
      "Случайный лес, n_estim = 55, max_depth = 8\n",
      "Accuracy = 0.6665 F1 Score = 0.5219 ROC-AUC  = 0.8446\n"
     ]
    },
    {
     "name": "stdout",
     "output_type": "stream",
     "text": [
      "Случайный лес, n_estim = 55, max_depth = 9\n",
      "Accuracy = 0.6945 F1 Score = 0.5339 ROC-AUC  = 0.8395\n",
      "Случайный лес, n_estim = 55, max_depth = 10\n",
      "Accuracy = 0.7390 F1 Score = 0.5613 ROC-AUC  = 0.8387\n",
      "Случайный лес, n_estim = 55, max_depth = 11\n",
      "Accuracy = 0.7630 F1 Score = 0.5651 ROC-AUC  = 0.8348\n",
      "Случайный лес, n_estim = 55, max_depth = 12\n",
      "Accuracy = 0.7840 F1 Score = 0.5814 ROC-AUC  = 0.8408\n",
      "Случайный лес, n_estim = 55, max_depth = 13\n",
      "Accuracy = 0.8095 F1 Score = 0.5925 ROC-AUC  = 0.8345\n",
      "Случайный лес, n_estim = 55, max_depth = 14\n",
      "Accuracy = 0.8225 F1 Score = 0.5905 ROC-AUC  = 0.8368\n",
      "Случайный лес, n_estim = 60, max_depth = 6\n",
      "Accuracy = 0.5600 F1 Score = 0.4641 ROC-AUC  = 0.8432\n",
      "Случайный лес, n_estim = 60, max_depth = 7\n",
      "Accuracy = 0.6160 F1 Score = 0.4934 ROC-AUC  = 0.8462\n",
      "Случайный лес, n_estim = 60, max_depth = 8\n",
      "Accuracy = 0.6660 F1 Score = 0.5194 ROC-AUC  = 0.8450\n",
      "Случайный лес, n_estim = 60, max_depth = 9\n",
      "Accuracy = 0.6940 F1 Score = 0.5321 ROC-AUC  = 0.8398\n",
      "Случайный лес, n_estim = 60, max_depth = 10\n",
      "Accuracy = 0.7355 F1 Score = 0.5588 ROC-AUC  = 0.8389\n",
      "Случайный лес, n_estim = 60, max_depth = 11\n",
      "Accuracy = 0.7615 F1 Score = 0.5612 ROC-AUC  = 0.8351\n",
      "Случайный лес, n_estim = 60, max_depth = 12\n",
      "Accuracy = 0.7840 F1 Score = 0.5781 ROC-AUC  = 0.8398\n",
      "Случайный лес, n_estim = 60, max_depth = 13\n",
      "Accuracy = 0.8045 F1 Score = 0.5827 ROC-AUC  = 0.8353\n",
      "Случайный лес, n_estim = 60, max_depth = 14\n",
      "Accuracy = 0.8260 F1 Score = 0.5953 ROC-AUC  = 0.8370\n"
     ]
    }
   ],
   "source": [
    "for estim in range(10, 61, 5):\n",
    "    for depth in range(6,15):\n",
    "        model('Случайный лес, ' + 'n_estim = ' + str(estim)+', max_depth = ' +str(depth), \n",
    "              RandomForestClassifier(n_estimators=estim, max_depth=depth, random_state=12345),\n",
    "             features_upsampled, target_upsampled)\n"
   ]
  },
  {
   "cell_type": "markdown",
   "metadata": {},
   "source": [
    "Наилучшее значенеи F1 Score = 0.598 было достигнуто при n_estim = 50, max_depth = 14\n",
    "\n",
    "___\n",
    "Функция для даунсэмплинга:"
   ]
  },
  {
   "cell_type": "code",
   "execution_count": 28,
   "metadata": {},
   "outputs": [],
   "source": [
    "from sklearn.utils import shuffle\n",
    "def downsample(features, target, fraction):\n",
    "    features_zeros = features[target == 0]\n",
    "    features_ones = features[target == 1]\n",
    "    target_zeros = target[target == 0]\n",
    "    target_ones = target[target == 1]\n",
    "\n",
    "    features_downsampled = pd.concat(\n",
    "        [features_zeros.sample(frac=fraction, random_state=12345)] + [features_ones])\n",
    "    target_downsampled = pd.concat(\n",
    "        [target_zeros.sample(frac=fraction, random_state=12345)] + [target_ones])\n",
    "    \n",
    "    features_downsampled, target_downsampled = shuffle(\n",
    "        features_downsampled, target_downsampled, random_state=12345)\n",
    "    \n",
    "\n",
    "    return features_downsampled, target_downsampled"
   ]
  },
  {
   "cell_type": "markdown",
   "metadata": {},
   "source": [
    "подберём наилучший параметр repeat:"
   ]
  },
  {
   "cell_type": "code",
   "execution_count": 29,
   "metadata": {},
   "outputs": [
    {
     "name": "stdout",
     "output_type": "stream",
     "text": [
      "Repeat: 0.9\n",
      "\n",
      "Accuracy = 0.8190 F1 Score = 0.6022 ROC-AUC  = 0.8388\n",
      "\n",
      "Repeat: 0.91\n",
      "\n",
      "Accuracy = 0.8160 F1 Score = 0.5938 ROC-AUC  = 0.8388\n",
      "\n",
      "Repeat: 0.92\n",
      "\n",
      "Accuracy = 0.8175 F1 Score = 0.5913 ROC-AUC  = 0.8360\n",
      "\n",
      "Repeat: 0.93\n",
      "\n",
      "Accuracy = 0.8230 F1 Score = 0.6049 ROC-AUC  = 0.8395\n",
      "\n",
      "Repeat: 0.9400000000000001\n",
      "\n",
      "Accuracy = 0.8275 F1 Score = 0.6066 ROC-AUC  = 0.8388\n",
      "\n",
      "Repeat: 0.9500000000000001\n",
      "\n",
      "Accuracy = 0.8200 F1 Score = 0.5973 ROC-AUC  = 0.8386\n",
      "\n",
      "Repeat: 0.9600000000000001\n",
      "\n",
      "Accuracy = 0.8290 F1 Score = 0.6096 ROC-AUC  = 0.8367\n",
      "\n",
      "Repeat: 0.9700000000000001\n",
      "\n",
      "Accuracy = 0.8235 F1 Score = 0.6002 ROC-AUC  = 0.8342\n",
      "\n",
      "Repeat: 0.9800000000000001\n",
      "\n",
      "Accuracy = 0.8210 F1 Score = 0.5913 ROC-AUC  = 0.8358\n",
      "\n",
      "Repeat: 0.9900000000000001\n",
      "\n",
      "Accuracy = 0.8190 F1 Score = 0.5896 ROC-AUC  = 0.8410\n",
      "\n",
      "Repeat: 1.0\n",
      "\n",
      "Accuracy = 0.8250 F1 Score = 0.6023 ROC-AUC  = 0.8357\n",
      "\n"
     ]
    }
   ],
   "source": [
    "for repeat in np.arange(0.9, 1.01, 0.01):\n",
    "    print('Repeat:', repeat)\n",
    "    features_downsampled, target_downsampled = downsample(features_upsampled, target_upsampled, repeat)\n",
    "    model('',RandomForestClassifier(random_state=12345, n_estimators=50, max_depth = 14),\n",
    "          features_downsampled, target_downsampled)\n",
    "    print()"
   ]
  },
  {
   "cell_type": "markdown",
   "metadata": {},
   "source": [
    "Наилучший F1_score при repeat=0.96 ✅\n",
    "\n",
    "Используем это далее. Смешаем train и valid и получим из них наборы данных features_upsampled, target_upsampled"
   ]
  },
  {
   "cell_type": "code",
   "execution_count": 30,
   "metadata": {},
   "outputs": [
    {
     "data": {
      "text/plain": [
       "(22526, 11)"
      ]
     },
     "execution_count": 30,
     "metadata": {},
     "output_type": "execute_result"
    }
   ],
   "source": [
    "features = pd.concat([features_train, features_valid])\n",
    "target = pd.concat([target_train, target_valid])\n",
    "\n",
    "features_upsampled, target_upsampled = upsample(features, target, 10)\n",
    "np.shape(features_upsampled)\n",
    "#features_downsampled, target_downsampled = downsample(features_upsampled, target_upsampled, 0.96) "
   ]
  },
  {
   "cell_type": "markdown",
   "metadata": {},
   "source": [
    "### Вывод:\n",
    "\n",
    "Для корректировки дисбаланса между классами были рассмотрены апсэмплинг и даунсэмплинг.\n",
    "\n",
    "Было установлено, что для правильного баланса классов нужно сделать upsampling с параметром repeat = 10, downsampling с параметром repeat = 0.96.\n",
    "\n",
    "Лучшее значение метрики F1 показала модель случайного леса с гиперпараметрами n_estim = 50, max_depth = 14. \n",
    "\n",
    "Эта модель станет основной в работе и будет проверяться на тестовой выборке.\n"
   ]
  },
  {
   "cell_type": "markdown",
   "metadata": {},
   "source": [
    "## 4. Проверка на тестовой выборке"
   ]
  },
  {
   "cell_type": "code",
   "execution_count": 31,
   "metadata": {},
   "outputs": [
    {
     "name": "stdout",
     "output_type": "stream",
     "text": [
      "Accuracy = 0.8175 ROC-AUC = 0.9998 F1 = 0.6011\n"
     ]
    }
   ],
   "source": [
    "model = RandomForestClassifier(random_state=12345, n_estimators=50, max_depth = 14)\n",
    "model.fit(features_upsampled, target_upsampled)\n",
    "predicted_test = model.predict(features_test)\n",
    "\n",
    "probabilities = model.predict_proba(features)\n",
    "probabilities_one = probabilities[:, 1]\n",
    "accuracy = accuracy_score(target_test, predicted_test)\n",
    "ROCAUC = roc_auc_score(target, probabilities_one)\n",
    "F1 = f1_score(target_test, predicted_test)\n",
    "\n",
    "print(\"Accuracy =\", '{:.4f}'.format(round(accuracy, 4)),\n",
    "      \"ROC-AUC =\",  '{:.4f}'.format(round(ROCAUC, 4)), \n",
    "      \"F1 =\", '{:.4f}'.format(round(F1, 4)))"
   ]
  },
  {
   "cell_type": "markdown",
   "metadata": {},
   "source": [
    "### Вывод:\n",
    "Для тестирования модели был выбран алгоритм случайного леса, при этом выборка прошла апсэмплинг.\n",
    "\n",
    "По наибольшему значению F1 score были определены оптимальные значения гиперпараметров: \n",
    "\n",
    "- количество деревьев - 50\n",
    "- глубина дерева - 14\n",
    "\n",
    "При этом значение метрики F1 составило 0.6011. Accuracy = 0.82\n",
    "\n",
    "Метрика AUC-ROC составила 0.99, что означает: количество пар объектов {1,0} , которые модель определила правильно, составляет 99%."
   ]
  },
  {
   "cell_type": "code",
   "execution_count": null,
   "metadata": {},
   "outputs": [],
   "source": []
  }
 ],
 "metadata": {
  "kernelspec": {
   "display_name": "Python 3",
   "language": "python",
   "name": "python3"
  },
  "language_info": {
   "codemirror_mode": {
    "name": "ipython",
    "version": 3
   },
   "file_extension": ".py",
   "mimetype": "text/x-python",
   "name": "python",
   "nbconvert_exporter": "python",
   "pygments_lexer": "ipython3",
   "version": "3.7.4"
  }
 },
 "nbformat": 4,
 "nbformat_minor": 2
}
