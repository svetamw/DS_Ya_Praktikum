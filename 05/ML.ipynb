{
 "cells": [
  {
   "cell_type": "markdown",
   "metadata": {},
   "source": [
    "Оператор мобильной связи «Мегалайн» выяснил: многие клиенты пользуются архивными тарифами. Они хотят построить систему, способную проанализировать поведение клиентов и предложить пользователям новый тариф: «Смарт» или «Ультра».\n",
    "___\n",
    "В распоряжении данные о поведении клиентов, которые уже перешли на эти тарифы (из проекта курса «Статистический анализ данных»). \n",
    "\n",
    "**Цель:** построить модель для задачи классификации, которая выберет подходящий тариф.\n",
    "\n",
    "Построим модель с максимально большим значением accuracy. \n",
    "\n",
    "Чтобы сдать проект успешно, нужно довести долю правильных ответов по крайней мере до *0.75*. \n",
    "\n",
    "Проверим accuracy на тестовой выборке самостоятельно."
   ]
  },
  {
   "cell_type": "markdown",
   "metadata": {},
   "source": [
    "## 1. Откроем файл с данными и изучим его"
   ]
  },
  {
   "cell_type": "code",
   "execution_count": 1,
   "metadata": {},
   "outputs": [],
   "source": [
    "import pandas as pd\n",
    "\n",
    "from sklearn.model_selection import train_test_split\n",
    "\n",
    "from sklearn.tree import DecisionTreeClassifier\n",
    "from sklearn.ensemble import RandomForestClassifier\n",
    "from sklearn.linear_model import LogisticRegression\n",
    "\n",
    "from sklearn.metrics import accuracy_score"
   ]
  },
  {
   "cell_type": "code",
   "execution_count": 2,
   "metadata": {},
   "outputs": [
    {
     "data": {
      "text/html": [
       "<div>\n",
       "<style scoped>\n",
       "    .dataframe tbody tr th:only-of-type {\n",
       "        vertical-align: middle;\n",
       "    }\n",
       "\n",
       "    .dataframe tbody tr th {\n",
       "        vertical-align: top;\n",
       "    }\n",
       "\n",
       "    .dataframe thead th {\n",
       "        text-align: right;\n",
       "    }\n",
       "</style>\n",
       "<table border=\"1\" class=\"dataframe\">\n",
       "  <thead>\n",
       "    <tr style=\"text-align: right;\">\n",
       "      <th></th>\n",
       "      <th>calls</th>\n",
       "      <th>minutes</th>\n",
       "      <th>messages</th>\n",
       "      <th>mb_used</th>\n",
       "      <th>is_ultra</th>\n",
       "    </tr>\n",
       "  </thead>\n",
       "  <tbody>\n",
       "    <tr>\n",
       "      <td>0</td>\n",
       "      <td>40.0</td>\n",
       "      <td>311.90</td>\n",
       "      <td>83.0</td>\n",
       "      <td>19915.42</td>\n",
       "      <td>0</td>\n",
       "    </tr>\n",
       "    <tr>\n",
       "      <td>1</td>\n",
       "      <td>85.0</td>\n",
       "      <td>516.75</td>\n",
       "      <td>56.0</td>\n",
       "      <td>22696.96</td>\n",
       "      <td>0</td>\n",
       "    </tr>\n",
       "    <tr>\n",
       "      <td>2</td>\n",
       "      <td>77.0</td>\n",
       "      <td>467.66</td>\n",
       "      <td>86.0</td>\n",
       "      <td>21060.45</td>\n",
       "      <td>0</td>\n",
       "    </tr>\n",
       "    <tr>\n",
       "      <td>3</td>\n",
       "      <td>106.0</td>\n",
       "      <td>745.53</td>\n",
       "      <td>81.0</td>\n",
       "      <td>8437.39</td>\n",
       "      <td>1</td>\n",
       "    </tr>\n",
       "    <tr>\n",
       "      <td>4</td>\n",
       "      <td>66.0</td>\n",
       "      <td>418.74</td>\n",
       "      <td>1.0</td>\n",
       "      <td>14502.75</td>\n",
       "      <td>0</td>\n",
       "    </tr>\n",
       "  </tbody>\n",
       "</table>\n",
       "</div>"
      ],
      "text/plain": [
       "   calls  minutes  messages   mb_used  is_ultra\n",
       "0   40.0   311.90      83.0  19915.42         0\n",
       "1   85.0   516.75      56.0  22696.96         0\n",
       "2   77.0   467.66      86.0  21060.45         0\n",
       "3  106.0   745.53      81.0   8437.39         1\n",
       "4   66.0   418.74       1.0  14502.75         0"
      ]
     },
     "execution_count": 2,
     "metadata": {},
     "output_type": "execute_result"
    }
   ],
   "source": [
    "#data = pd.read_csv('datasets/users_behavior.csv')\n",
    "data = pd.read_csv('/datasets/users_behavior.csv')\n",
    "data.head()"
   ]
  },
  {
   "cell_type": "code",
   "execution_count": 3,
   "metadata": {},
   "outputs": [
    {
     "name": "stdout",
     "output_type": "stream",
     "text": [
      "<class 'pandas.core.frame.DataFrame'>\n",
      "RangeIndex: 3214 entries, 0 to 3213\n",
      "Data columns (total 5 columns):\n",
      "calls       3214 non-null float64\n",
      "minutes     3214 non-null float64\n",
      "messages    3214 non-null float64\n",
      "mb_used     3214 non-null float64\n",
      "is_ultra    3214 non-null int64\n",
      "dtypes: float64(4), int64(1)\n",
      "memory usage: 125.7 KB\n"
     ]
    }
   ],
   "source": [
    "data.info()"
   ]
  },
  {
   "cell_type": "markdown",
   "metadata": {},
   "source": [
    "Датасет состоит из 3214 объектов и 5 признаков. \n",
    "\n",
    "Целевой признак – `is_ultra`. Он является категориальным, следовательно, перед нами задача классификации.\n",
    "\n",
    "Модель машинного обучения будет предсказывать значение 1, если клиенту нужно предложить тариф \"Ультра\" или 0, если тариф \"Смарт\"."
   ]
  },
  {
   "cell_type": "markdown",
   "metadata": {},
   "source": [
    "## 2. Разделим исходные данные на обучающую/валидационную/тестовую выборки"
   ]
  },
  {
   "cell_type": "markdown",
   "metadata": {},
   "source": [
    "Будем делить в следующем соотношении:\n",
    "\n",
    "- 60% - обучающая выборка\n",
    "- 20% - валидационная выборка\n",
    "- 20% - тестовая выборка\n",
    "\n",
    "Так же зафиксируем random_state = 12345"
   ]
  },
  {
   "cell_type": "code",
   "execution_count": 4,
   "metadata": {},
   "outputs": [],
   "source": [
    "rnd = 1234\n",
    "\n",
    "data_train, data_valid = train_test_split(data, test_size=0.4, random_state=rnd)\n",
    "data_valid, data_test = train_test_split(data_valid, test_size=0.5, random_state=rnd)"
   ]
  },
  {
   "cell_type": "markdown",
   "metadata": {},
   "source": [
    "На обучающей выборке обучаем, на валидационной проверяем, а на тестовой оцениваем модель."
   ]
  },
  {
   "cell_type": "markdown",
   "metadata": {},
   "source": [
    "## 3. Исследуем разные модели"
   ]
  },
  {
   "cell_type": "markdown",
   "metadata": {},
   "source": [
    "Подготовка признаков и таргета для обучающей и валидационной и тестовой выборок"
   ]
  },
  {
   "cell_type": "code",
   "execution_count": 5,
   "metadata": {},
   "outputs": [],
   "source": [
    "features_train = data_train.drop(['is_ultra'], axis=1)\n",
    "target_train = data_train['is_ultra']\n",
    "\n",
    "features_valid = data_valid.drop(['is_ultra'], axis=1)\n",
    "target_valid = data_valid['is_ultra']\n",
    "\n",
    "features_test = data_test.drop(['is_ultra'], axis=1)\n",
    "target_test = data_test['is_ultra']"
   ]
  },
  {
   "cell_type": "markdown",
   "metadata": {},
   "source": [
    "Функция для расчёта accuracy модели на валидационной выборке:"
   ]
  },
  {
   "cell_type": "code",
   "execution_count": 6,
   "metadata": {},
   "outputs": [],
   "source": [
    "def accuracy_score_valid(model):\n",
    "    predictions_valid = model.predict(features_valid)\n",
    "    return accuracy_score(target_valid, predictions_valid)"
   ]
  },
  {
   "cell_type": "markdown",
   "metadata": {},
   "source": [
    "### Дерево решений\n",
    "Для дерева решений подберем гиперпараметр max_depth (глубина) на кросс валидации."
   ]
  },
  {
   "cell_type": "code",
   "execution_count": 7,
   "metadata": {},
   "outputs": [
    {
     "name": "stdout",
     "output_type": "stream",
     "text": [
      "max_depth = 1:\t0.776049766718507\n",
      "max_depth = 3:\t0.8118195956454122\n",
      "max_depth = 5:\t0.8087091757387247\n",
      "max_depth = 7:\t0.8320373250388803\n",
      "max_depth = 9:\t0.8180404354587869\n",
      "max_depth = 11:\t0.8180404354587869\n",
      "max_depth = 13:\t0.8040435458786936\n",
      "max_depth = 15:\t0.7744945567651633\n",
      "max_depth = 17:\t0.7480559875583204\n",
      "max_depth = 19:\t0.744945567651633\n"
     ]
    }
   ],
   "source": [
    "for max_depth in range(1, 21, 2):\n",
    "    model = DecisionTreeClassifier(max_depth=max_depth, random_state=rnd)\n",
    "    model.fit(features_train, target_train)\n",
    "    print(f\"max_depth = {max_depth}:\\t{accuracy_score_valid(model)}\")"
   ]
  },
  {
   "cell_type": "markdown",
   "metadata": {},
   "source": [
    "По результатам на валидационной выборке, дерево решений имеет самую высокую оценку правильности приблизительно 0.832, когда гиперпараметр глубины равен 7."
   ]
  },
  {
   "cell_type": "markdown",
   "metadata": {},
   "source": [
    "### Случайный лес\n",
    "Подберем количество деревьев n_estimators  при  max_depth=7.\n",
    "\n",
    "Количества деревьев, на которых испытываем модель – от 10 до 100 с шагом 10."
   ]
  },
  {
   "cell_type": "code",
   "execution_count": 8,
   "metadata": {},
   "outputs": [
    {
     "name": "stdout",
     "output_type": "stream",
     "text": [
      "n_estimators = 10:\t0.8227060653188181\n",
      "n_estimators = 20:\t0.8258164852255054\n",
      "n_estimators = 30:\t0.8289269051321928\n",
      "n_estimators = 40:\t0.8320373250388803\n",
      "n_estimators = 50:\t0.8351477449455676\n",
      "n_estimators = 60:\t0.833592534992224\n",
      "n_estimators = 70:\t0.833592534992224\n",
      "n_estimators = 80:\t0.8367029548989113\n",
      "n_estimators = 90:\t0.833592534992224\n",
      "n_estimators = 100:\t0.8351477449455676\n"
     ]
    }
   ],
   "source": [
    "for estim in range(10, 101, 10):\n",
    "    model = RandomForestClassifier(n_estimators=estim, max_depth=7, random_state=rnd)\n",
    "    model.fit(features_train, target_train)\n",
    "    print(f\"n_estimators = {estim}:\\t{accuracy_score_valid(model)}\")"
   ]
  },
  {
   "cell_type": "markdown",
   "metadata": {},
   "source": [
    "Модель случайного леса имеет более высокую accuracy, но не на много – 0.837 при количестве деревьев леса n_estimators=80."
   ]
  },
  {
   "cell_type": "markdown",
   "metadata": {},
   "source": [
    "### Логистическая регрессия"
   ]
  },
  {
   "cell_type": "code",
   "execution_count": 9,
   "metadata": {},
   "outputs": [],
   "source": [
    "def logistic_regression(solver):\n",
    "    model = LogisticRegression(solver=solver, random_state=rnd)\n",
    "    model.fit(features_train, target_train)\n",
    "    return accuracy_score_valid(model)"
   ]
  },
  {
   "cell_type": "code",
   "execution_count": 10,
   "metadata": {},
   "outputs": [
    {
     "data": {
      "text/plain": [
       "0.7216174183514774"
      ]
     },
     "execution_count": 10,
     "metadata": {},
     "output_type": "execute_result"
    }
   ],
   "source": [
    "logistic_regression('liblinear')"
   ]
  },
  {
   "cell_type": "markdown",
   "metadata": {},
   "source": [
    "Логистическая регрессия на валидационной выборке показала наихудшие результаты. \n",
    "\n",
    "Попробуем изменить гиперпараметры, например, solver – алгоритм задачи оптимизации."
   ]
  },
  {
   "cell_type": "code",
   "execution_count": 11,
   "metadata": {},
   "outputs": [
    {
     "name": "stdout",
     "output_type": "stream",
     "text": [
      "lbfgs: 0.7589424572317263\n"
     ]
    }
   ],
   "source": [
    "print('lbfgs:', logistic_regression('lbfgs'))"
   ]
  },
  {
   "cell_type": "markdown",
   "metadata": {},
   "source": [
    "При использовании lbfgs-солвера хоть и удалось достичь лучшего решения относительно liblinear-солвера, но это решение не лучше, чем у дерева или случайного леса."
   ]
  },
  {
   "cell_type": "markdown",
   "metadata": {},
   "source": [
    "## 4. Проверка модели на тестовой выборке\n",
    "\n",
    "В результате эксперимента на валидационной выборке в части 3 было определено, что самую высокую оценку правильности дает лес решений с глубиной  max_depth=7 и количеством деревьев n_estimator=80.\n",
    "\n",
    "Проверим модель на тестовой выборке."
   ]
  },
  {
   "cell_type": "code",
   "execution_count": 12,
   "metadata": {},
   "outputs": [
    {
     "data": {
      "text/plain": [
       "0.8087091757387247"
      ]
     },
     "execution_count": 12,
     "metadata": {},
     "output_type": "execute_result"
    }
   ],
   "source": [
    "model = RandomForestClassifier(n_estimators=80, max_depth=7, random_state=rnd)\n",
    "model.fit(features_train, target_train)\n",
    "\n",
    "predictions_test = model.predict(features_test)\n",
    "accuracy_score(target_test, predictions_test)"
   ]
  },
  {
   "cell_type": "markdown",
   "metadata": {},
   "source": [
    "На тестовой выборке данная модель показывает приближенное к валидационной выборке значение accuracy. \n",
    "\n",
    "Т.е. здесь нет проблемы с переобучением, следовательно, нам удалось построить модель для задачи бинарной классификации для выбора оптимального тарифа."
   ]
  },
  {
   "cell_type": "markdown",
   "metadata": {},
   "source": [
    "## 5. Доп. задание: проверка модели на адекватность\n",
    "\n",
    "Необходимо, чтобы модель машинного обучения хорого работала на практике, в т.ч. не испытывала проблем с переообучением.\n",
    "\n",
    "Проверка модели машинного обучения на адекватность может иметь разные подходы. \n",
    "\n",
    "Например, проверка правильности выбора метрики. В задачах классификации мы используем accuracy, но в случае дисбаланса классов, т.е. когда в целевом признаке 0 встречается чаще, чем 1 (или наоборот), на accuracy нельзя полагаться.\n",
    "\n",
    "Проверим, как распределены классы в нашей задаче:"
   ]
  },
  {
   "cell_type": "code",
   "execution_count": 13,
   "metadata": {},
   "outputs": [
    {
     "data": {
      "text/plain": [
       "0    2229\n",
       "1     985\n",
       "Name: is_ultra, dtype: int64"
      ]
     },
     "execution_count": 13,
     "metadata": {},
     "output_type": "execute_result"
    }
   ],
   "source": [
    "data['is_ultra'].value_counts()"
   ]
  },
  {
   "cell_type": "markdown",
   "metadata": {},
   "source": [
    "Для задач бинарной классификации могут быть использованы следующие методы:\n",
    "- Матрица ошибок / confusion matrix\n",
    "- Тесты бинарной классификации / binary classification tests\n",
    "- Коэффициент конверсии / conversion rates\n",
    "- ROC-кривая / ROC curve\n",
    "- Совокупный доход / cumulative gain\n",
    "- Lift-кривая / lift chart"
   ]
  },
  {
   "cell_type": "code",
   "execution_count": 14,
   "metadata": {},
   "outputs": [
    {
     "data": {
      "text/plain": [
       "0    449\n",
       "1    194\n",
       "Name: is_ultra, dtype: int64"
      ]
     },
     "execution_count": 14,
     "metadata": {},
     "output_type": "execute_result"
    }
   ],
   "source": [
    "data_test['is_ultra'].value_counts()"
   ]
  },
  {
   "cell_type": "markdown",
   "metadata": {},
   "source": [
    "Данные распределены неравномерно, как в датасете в целом, так и в тестовой выборке: `is_ultra` с меткой 0 перевешивает в 2 раза."
   ]
  },
  {
   "cell_type": "code",
   "execution_count": 15,
   "metadata": {},
   "outputs": [
    {
     "data": {
      "text/plain": [
       "0.6982892690513219"
      ]
     },
     "execution_count": 15,
     "metadata": {},
     "output_type": "execute_result"
    }
   ],
   "source": [
    "(data_test['is_ultra']==0).sum() / data_test.shape[0]"
   ]
  },
  {
   "cell_type": "markdown",
   "metadata": {},
   "source": [
    "Доля бОльшего класса тестовой выборки равна ~0.7; полученная нами модель имеет accuracy ~0.81. \n",
    "\n",
    "Таким образом, можно считать модель адекватной для использования на практике.\n",
    "\n",
    "Стоит отметить, что обученная модель должна быть учитывать предположения, что дисбаланс классов в обучающей выборке будет таким же и на тестовой выборке."
   ]
  },
  {
   "cell_type": "code",
   "execution_count": null,
   "metadata": {},
   "outputs": [],
   "source": []
  }
 ],
 "metadata": {
  "kernelspec": {
   "display_name": "Python 3",
   "language": "python",
   "name": "python3"
  },
  "language_info": {
   "codemirror_mode": {
    "name": "ipython",
    "version": 3
   },
   "file_extension": ".py",
   "mimetype": "text/x-python",
   "name": "python",
   "nbconvert_exporter": "python",
   "pygments_lexer": "ipython3",
   "version": "3.7.4"
  }
 },
 "nbformat": 4,
 "nbformat_minor": 2
}
