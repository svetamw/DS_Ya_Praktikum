{
 "cells": [
  {
   "cell_type": "markdown",
   "metadata": {},
   "source": [
    "# Исследование объявлений о продаже квартир\n",
    "\n",
    "В вашем распоряжении данные сервиса Яндекс.Недвижимость — архив объявлений о продаже квартир в Санкт-Петербурге и соседних населённых пунктов за несколько лет. Нужно научиться определять рыночную стоимость объектов недвижимости. Ваша задача — установить параметры. Это позволит построить автоматизированную систему: она отследит аномалии и мошенническую деятельность. \n",
    "\n",
    "По каждой квартире на продажу доступны два вида данных. Первые вписаны пользователем, вторые — получены автоматически на основе картографических данных. Например, расстояние до центра, аэропорта, ближайшего парка и водоёма. "
   ]
  },
  {
   "cell_type": "markdown",
   "metadata": {},
   "source": [
    "### Шаг 1. Откройте файл с данными и изучите общую информацию. "
   ]
  },
  {
   "cell_type": "markdown",
   "metadata": {},
   "source": [
    "Импортируем необходимые библиотеки"
   ]
  },
  {
   "cell_type": "code",
   "execution_count": 1,
   "metadata": {},
   "outputs": [],
   "source": [
    "import pandas as pd\n",
    "import numpy as np\n",
    "import matplotlib.pyplot as plt"
   ]
  },
  {
   "cell_type": "markdown",
   "metadata": {},
   "source": [
    "Читаем файл. Из-за \"слипшихся\" значений добавляем разделитель колонок **sep = '\\t'**.\n",
    "\n",
    "Вывод первых 5 строк:"
   ]
  },
  {
   "cell_type": "code",
   "execution_count": 2,
   "metadata": {},
   "outputs": [
    {
     "data": {
      "text/html": [
       "<div>\n",
       "<style scoped>\n",
       "    .dataframe tbody tr th:only-of-type {\n",
       "        vertical-align: middle;\n",
       "    }\n",
       "\n",
       "    .dataframe tbody tr th {\n",
       "        vertical-align: top;\n",
       "    }\n",
       "\n",
       "    .dataframe thead th {\n",
       "        text-align: right;\n",
       "    }\n",
       "</style>\n",
       "<table border=\"1\" class=\"dataframe\">\n",
       "  <thead>\n",
       "    <tr style=\"text-align: right;\">\n",
       "      <th></th>\n",
       "      <th>total_images</th>\n",
       "      <th>last_price</th>\n",
       "      <th>total_area</th>\n",
       "      <th>first_day_exposition</th>\n",
       "      <th>rooms</th>\n",
       "      <th>ceiling_height</th>\n",
       "      <th>floors_total</th>\n",
       "      <th>living_area</th>\n",
       "      <th>floor</th>\n",
       "      <th>is_apartment</th>\n",
       "      <th>...</th>\n",
       "      <th>kitchen_area</th>\n",
       "      <th>balcony</th>\n",
       "      <th>locality_name</th>\n",
       "      <th>airports_nearest</th>\n",
       "      <th>cityCenters_nearest</th>\n",
       "      <th>parks_around3000</th>\n",
       "      <th>parks_nearest</th>\n",
       "      <th>ponds_around3000</th>\n",
       "      <th>ponds_nearest</th>\n",
       "      <th>days_exposition</th>\n",
       "    </tr>\n",
       "  </thead>\n",
       "  <tbody>\n",
       "    <tr>\n",
       "      <td>0</td>\n",
       "      <td>20</td>\n",
       "      <td>13000000.0</td>\n",
       "      <td>108.0</td>\n",
       "      <td>2019-03-07T00:00:00</td>\n",
       "      <td>3</td>\n",
       "      <td>2.70</td>\n",
       "      <td>16.0</td>\n",
       "      <td>51.0</td>\n",
       "      <td>8</td>\n",
       "      <td>NaN</td>\n",
       "      <td>...</td>\n",
       "      <td>25.0</td>\n",
       "      <td>NaN</td>\n",
       "      <td>Санкт-Петербург</td>\n",
       "      <td>18863.0</td>\n",
       "      <td>16028.0</td>\n",
       "      <td>1.0</td>\n",
       "      <td>482.0</td>\n",
       "      <td>2.0</td>\n",
       "      <td>755.0</td>\n",
       "      <td>NaN</td>\n",
       "    </tr>\n",
       "    <tr>\n",
       "      <td>1</td>\n",
       "      <td>7</td>\n",
       "      <td>3350000.0</td>\n",
       "      <td>40.4</td>\n",
       "      <td>2018-12-04T00:00:00</td>\n",
       "      <td>1</td>\n",
       "      <td>NaN</td>\n",
       "      <td>11.0</td>\n",
       "      <td>18.6</td>\n",
       "      <td>1</td>\n",
       "      <td>NaN</td>\n",
       "      <td>...</td>\n",
       "      <td>11.0</td>\n",
       "      <td>2.0</td>\n",
       "      <td>посёлок Шушары</td>\n",
       "      <td>12817.0</td>\n",
       "      <td>18603.0</td>\n",
       "      <td>0.0</td>\n",
       "      <td>NaN</td>\n",
       "      <td>0.0</td>\n",
       "      <td>NaN</td>\n",
       "      <td>81.0</td>\n",
       "    </tr>\n",
       "    <tr>\n",
       "      <td>2</td>\n",
       "      <td>10</td>\n",
       "      <td>5196000.0</td>\n",
       "      <td>56.0</td>\n",
       "      <td>2015-08-20T00:00:00</td>\n",
       "      <td>2</td>\n",
       "      <td>NaN</td>\n",
       "      <td>5.0</td>\n",
       "      <td>34.3</td>\n",
       "      <td>4</td>\n",
       "      <td>NaN</td>\n",
       "      <td>...</td>\n",
       "      <td>8.3</td>\n",
       "      <td>0.0</td>\n",
       "      <td>Санкт-Петербург</td>\n",
       "      <td>21741.0</td>\n",
       "      <td>13933.0</td>\n",
       "      <td>1.0</td>\n",
       "      <td>90.0</td>\n",
       "      <td>2.0</td>\n",
       "      <td>574.0</td>\n",
       "      <td>558.0</td>\n",
       "    </tr>\n",
       "    <tr>\n",
       "      <td>3</td>\n",
       "      <td>0</td>\n",
       "      <td>64900000.0</td>\n",
       "      <td>159.0</td>\n",
       "      <td>2015-07-24T00:00:00</td>\n",
       "      <td>3</td>\n",
       "      <td>NaN</td>\n",
       "      <td>14.0</td>\n",
       "      <td>NaN</td>\n",
       "      <td>9</td>\n",
       "      <td>NaN</td>\n",
       "      <td>...</td>\n",
       "      <td>NaN</td>\n",
       "      <td>0.0</td>\n",
       "      <td>Санкт-Петербург</td>\n",
       "      <td>28098.0</td>\n",
       "      <td>6800.0</td>\n",
       "      <td>2.0</td>\n",
       "      <td>84.0</td>\n",
       "      <td>3.0</td>\n",
       "      <td>234.0</td>\n",
       "      <td>424.0</td>\n",
       "    </tr>\n",
       "    <tr>\n",
       "      <td>4</td>\n",
       "      <td>2</td>\n",
       "      <td>10000000.0</td>\n",
       "      <td>100.0</td>\n",
       "      <td>2018-06-19T00:00:00</td>\n",
       "      <td>2</td>\n",
       "      <td>3.03</td>\n",
       "      <td>14.0</td>\n",
       "      <td>32.0</td>\n",
       "      <td>13</td>\n",
       "      <td>NaN</td>\n",
       "      <td>...</td>\n",
       "      <td>41.0</td>\n",
       "      <td>NaN</td>\n",
       "      <td>Санкт-Петербург</td>\n",
       "      <td>31856.0</td>\n",
       "      <td>8098.0</td>\n",
       "      <td>2.0</td>\n",
       "      <td>112.0</td>\n",
       "      <td>1.0</td>\n",
       "      <td>48.0</td>\n",
       "      <td>121.0</td>\n",
       "    </tr>\n",
       "  </tbody>\n",
       "</table>\n",
       "<p>5 rows × 22 columns</p>\n",
       "</div>"
      ],
      "text/plain": [
       "   total_images  last_price  total_area first_day_exposition  rooms  \\\n",
       "0            20  13000000.0       108.0  2019-03-07T00:00:00      3   \n",
       "1             7   3350000.0        40.4  2018-12-04T00:00:00      1   \n",
       "2            10   5196000.0        56.0  2015-08-20T00:00:00      2   \n",
       "3             0  64900000.0       159.0  2015-07-24T00:00:00      3   \n",
       "4             2  10000000.0       100.0  2018-06-19T00:00:00      2   \n",
       "\n",
       "   ceiling_height  floors_total  living_area  floor is_apartment  ...  \\\n",
       "0            2.70          16.0         51.0      8          NaN  ...   \n",
       "1             NaN          11.0         18.6      1          NaN  ...   \n",
       "2             NaN           5.0         34.3      4          NaN  ...   \n",
       "3             NaN          14.0          NaN      9          NaN  ...   \n",
       "4            3.03          14.0         32.0     13          NaN  ...   \n",
       "\n",
       "   kitchen_area  balcony    locality_name  airports_nearest  \\\n",
       "0          25.0      NaN  Санкт-Петербург           18863.0   \n",
       "1          11.0      2.0   посёлок Шушары           12817.0   \n",
       "2           8.3      0.0  Санкт-Петербург           21741.0   \n",
       "3           NaN      0.0  Санкт-Петербург           28098.0   \n",
       "4          41.0      NaN  Санкт-Петербург           31856.0   \n",
       "\n",
       "  cityCenters_nearest  parks_around3000  parks_nearest  ponds_around3000  \\\n",
       "0             16028.0               1.0          482.0               2.0   \n",
       "1             18603.0               0.0            NaN               0.0   \n",
       "2             13933.0               1.0           90.0               2.0   \n",
       "3              6800.0               2.0           84.0               3.0   \n",
       "4              8098.0               2.0          112.0               1.0   \n",
       "\n",
       "   ponds_nearest  days_exposition  \n",
       "0          755.0              NaN  \n",
       "1            NaN             81.0  \n",
       "2          574.0            558.0  \n",
       "3          234.0            424.0  \n",
       "4           48.0            121.0  \n",
       "\n",
       "[5 rows x 22 columns]"
      ]
     },
     "execution_count": 2,
     "metadata": {},
     "output_type": "execute_result"
    }
   ],
   "source": [
    "df = pd.read_csv('datasets/real_estate_data.csv', sep='\\t')\n",
    "df.head()"
   ]
  },
  {
   "cell_type": "markdown",
   "metadata": {},
   "source": [
    "Последние 5 строк:"
   ]
  },
  {
   "cell_type": "code",
   "execution_count": 3,
   "metadata": {},
   "outputs": [
    {
     "data": {
      "text/html": [
       "<div>\n",
       "<style scoped>\n",
       "    .dataframe tbody tr th:only-of-type {\n",
       "        vertical-align: middle;\n",
       "    }\n",
       "\n",
       "    .dataframe tbody tr th {\n",
       "        vertical-align: top;\n",
       "    }\n",
       "\n",
       "    .dataframe thead th {\n",
       "        text-align: right;\n",
       "    }\n",
       "</style>\n",
       "<table border=\"1\" class=\"dataframe\">\n",
       "  <thead>\n",
       "    <tr style=\"text-align: right;\">\n",
       "      <th></th>\n",
       "      <th>total_images</th>\n",
       "      <th>last_price</th>\n",
       "      <th>total_area</th>\n",
       "      <th>first_day_exposition</th>\n",
       "      <th>rooms</th>\n",
       "      <th>ceiling_height</th>\n",
       "      <th>floors_total</th>\n",
       "      <th>living_area</th>\n",
       "      <th>floor</th>\n",
       "      <th>is_apartment</th>\n",
       "      <th>...</th>\n",
       "      <th>kitchen_area</th>\n",
       "      <th>balcony</th>\n",
       "      <th>locality_name</th>\n",
       "      <th>airports_nearest</th>\n",
       "      <th>cityCenters_nearest</th>\n",
       "      <th>parks_around3000</th>\n",
       "      <th>parks_nearest</th>\n",
       "      <th>ponds_around3000</th>\n",
       "      <th>ponds_nearest</th>\n",
       "      <th>days_exposition</th>\n",
       "    </tr>\n",
       "  </thead>\n",
       "  <tbody>\n",
       "    <tr>\n",
       "      <td>23694</td>\n",
       "      <td>9</td>\n",
       "      <td>9700000.0</td>\n",
       "      <td>133.81</td>\n",
       "      <td>2017-03-21T00:00:00</td>\n",
       "      <td>3</td>\n",
       "      <td>3.7</td>\n",
       "      <td>5.0</td>\n",
       "      <td>73.3</td>\n",
       "      <td>3</td>\n",
       "      <td>NaN</td>\n",
       "      <td>...</td>\n",
       "      <td>13.83</td>\n",
       "      <td>NaN</td>\n",
       "      <td>Санкт-Петербург</td>\n",
       "      <td>24665.0</td>\n",
       "      <td>4232.0</td>\n",
       "      <td>1.0</td>\n",
       "      <td>796.0</td>\n",
       "      <td>3.0</td>\n",
       "      <td>381.0</td>\n",
       "      <td>NaN</td>\n",
       "    </tr>\n",
       "    <tr>\n",
       "      <td>23695</td>\n",
       "      <td>14</td>\n",
       "      <td>3100000.0</td>\n",
       "      <td>59.00</td>\n",
       "      <td>2018-01-15T00:00:00</td>\n",
       "      <td>3</td>\n",
       "      <td>NaN</td>\n",
       "      <td>5.0</td>\n",
       "      <td>38.0</td>\n",
       "      <td>4</td>\n",
       "      <td>NaN</td>\n",
       "      <td>...</td>\n",
       "      <td>8.50</td>\n",
       "      <td>NaN</td>\n",
       "      <td>Тосно</td>\n",
       "      <td>NaN</td>\n",
       "      <td>NaN</td>\n",
       "      <td>NaN</td>\n",
       "      <td>NaN</td>\n",
       "      <td>NaN</td>\n",
       "      <td>NaN</td>\n",
       "      <td>45.0</td>\n",
       "    </tr>\n",
       "    <tr>\n",
       "      <td>23696</td>\n",
       "      <td>18</td>\n",
       "      <td>2500000.0</td>\n",
       "      <td>56.70</td>\n",
       "      <td>2018-02-11T00:00:00</td>\n",
       "      <td>2</td>\n",
       "      <td>NaN</td>\n",
       "      <td>3.0</td>\n",
       "      <td>29.7</td>\n",
       "      <td>1</td>\n",
       "      <td>NaN</td>\n",
       "      <td>...</td>\n",
       "      <td>NaN</td>\n",
       "      <td>NaN</td>\n",
       "      <td>село Рождествено</td>\n",
       "      <td>NaN</td>\n",
       "      <td>NaN</td>\n",
       "      <td>NaN</td>\n",
       "      <td>NaN</td>\n",
       "      <td>NaN</td>\n",
       "      <td>NaN</td>\n",
       "      <td>NaN</td>\n",
       "    </tr>\n",
       "    <tr>\n",
       "      <td>23697</td>\n",
       "      <td>13</td>\n",
       "      <td>11475000.0</td>\n",
       "      <td>76.75</td>\n",
       "      <td>2017-03-28T00:00:00</td>\n",
       "      <td>2</td>\n",
       "      <td>3.0</td>\n",
       "      <td>17.0</td>\n",
       "      <td>NaN</td>\n",
       "      <td>12</td>\n",
       "      <td>NaN</td>\n",
       "      <td>...</td>\n",
       "      <td>23.30</td>\n",
       "      <td>2.0</td>\n",
       "      <td>Санкт-Петербург</td>\n",
       "      <td>39140.0</td>\n",
       "      <td>10364.0</td>\n",
       "      <td>2.0</td>\n",
       "      <td>173.0</td>\n",
       "      <td>3.0</td>\n",
       "      <td>196.0</td>\n",
       "      <td>602.0</td>\n",
       "    </tr>\n",
       "    <tr>\n",
       "      <td>23698</td>\n",
       "      <td>4</td>\n",
       "      <td>1350000.0</td>\n",
       "      <td>32.30</td>\n",
       "      <td>2017-07-21T00:00:00</td>\n",
       "      <td>1</td>\n",
       "      <td>2.5</td>\n",
       "      <td>5.0</td>\n",
       "      <td>12.3</td>\n",
       "      <td>1</td>\n",
       "      <td>NaN</td>\n",
       "      <td>...</td>\n",
       "      <td>9.00</td>\n",
       "      <td>NaN</td>\n",
       "      <td>поселок Новый Учхоз</td>\n",
       "      <td>NaN</td>\n",
       "      <td>NaN</td>\n",
       "      <td>NaN</td>\n",
       "      <td>NaN</td>\n",
       "      <td>NaN</td>\n",
       "      <td>NaN</td>\n",
       "      <td>NaN</td>\n",
       "    </tr>\n",
       "  </tbody>\n",
       "</table>\n",
       "<p>5 rows × 22 columns</p>\n",
       "</div>"
      ],
      "text/plain": [
       "       total_images  last_price  total_area first_day_exposition  rooms  \\\n",
       "23694             9   9700000.0      133.81  2017-03-21T00:00:00      3   \n",
       "23695            14   3100000.0       59.00  2018-01-15T00:00:00      3   \n",
       "23696            18   2500000.0       56.70  2018-02-11T00:00:00      2   \n",
       "23697            13  11475000.0       76.75  2017-03-28T00:00:00      2   \n",
       "23698             4   1350000.0       32.30  2017-07-21T00:00:00      1   \n",
       "\n",
       "       ceiling_height  floors_total  living_area  floor is_apartment  ...  \\\n",
       "23694             3.7           5.0         73.3      3          NaN  ...   \n",
       "23695             NaN           5.0         38.0      4          NaN  ...   \n",
       "23696             NaN           3.0         29.7      1          NaN  ...   \n",
       "23697             3.0          17.0          NaN     12          NaN  ...   \n",
       "23698             2.5           5.0         12.3      1          NaN  ...   \n",
       "\n",
       "       kitchen_area  balcony        locality_name  airports_nearest  \\\n",
       "23694         13.83      NaN      Санкт-Петербург           24665.0   \n",
       "23695          8.50      NaN                Тосно               NaN   \n",
       "23696           NaN      NaN     село Рождествено               NaN   \n",
       "23697         23.30      2.0      Санкт-Петербург           39140.0   \n",
       "23698          9.00      NaN  поселок Новый Учхоз               NaN   \n",
       "\n",
       "      cityCenters_nearest  parks_around3000  parks_nearest  ponds_around3000  \\\n",
       "23694              4232.0               1.0          796.0               3.0   \n",
       "23695                 NaN               NaN            NaN               NaN   \n",
       "23696                 NaN               NaN            NaN               NaN   \n",
       "23697             10364.0               2.0          173.0               3.0   \n",
       "23698                 NaN               NaN            NaN               NaN   \n",
       "\n",
       "       ponds_nearest  days_exposition  \n",
       "23694          381.0              NaN  \n",
       "23695            NaN             45.0  \n",
       "23696            NaN              NaN  \n",
       "23697          196.0            602.0  \n",
       "23698            NaN              NaN  \n",
       "\n",
       "[5 rows x 22 columns]"
      ]
     },
     "execution_count": 3,
     "metadata": {},
     "output_type": "execute_result"
    }
   ],
   "source": [
    "df.tail()"
   ]
  },
  {
   "cell_type": "markdown",
   "metadata": {},
   "source": [
    "И 5 рандомных строк:"
   ]
  },
  {
   "cell_type": "code",
   "execution_count": 4,
   "metadata": {
    "scrolled": true
   },
   "outputs": [
    {
     "data": {
      "text/html": [
       "<div>\n",
       "<style scoped>\n",
       "    .dataframe tbody tr th:only-of-type {\n",
       "        vertical-align: middle;\n",
       "    }\n",
       "\n",
       "    .dataframe tbody tr th {\n",
       "        vertical-align: top;\n",
       "    }\n",
       "\n",
       "    .dataframe thead th {\n",
       "        text-align: right;\n",
       "    }\n",
       "</style>\n",
       "<table border=\"1\" class=\"dataframe\">\n",
       "  <thead>\n",
       "    <tr style=\"text-align: right;\">\n",
       "      <th></th>\n",
       "      <th>total_images</th>\n",
       "      <th>last_price</th>\n",
       "      <th>total_area</th>\n",
       "      <th>first_day_exposition</th>\n",
       "      <th>rooms</th>\n",
       "      <th>ceiling_height</th>\n",
       "      <th>floors_total</th>\n",
       "      <th>living_area</th>\n",
       "      <th>floor</th>\n",
       "      <th>is_apartment</th>\n",
       "      <th>...</th>\n",
       "      <th>kitchen_area</th>\n",
       "      <th>balcony</th>\n",
       "      <th>locality_name</th>\n",
       "      <th>airports_nearest</th>\n",
       "      <th>cityCenters_nearest</th>\n",
       "      <th>parks_around3000</th>\n",
       "      <th>parks_nearest</th>\n",
       "      <th>ponds_around3000</th>\n",
       "      <th>ponds_nearest</th>\n",
       "      <th>days_exposition</th>\n",
       "    </tr>\n",
       "  </thead>\n",
       "  <tbody>\n",
       "    <tr>\n",
       "      <td>23466</td>\n",
       "      <td>15</td>\n",
       "      <td>11900000.0</td>\n",
       "      <td>80.0</td>\n",
       "      <td>2017-08-16T00:00:00</td>\n",
       "      <td>2</td>\n",
       "      <td>NaN</td>\n",
       "      <td>5.0</td>\n",
       "      <td>NaN</td>\n",
       "      <td>3</td>\n",
       "      <td>NaN</td>\n",
       "      <td>...</td>\n",
       "      <td>NaN</td>\n",
       "      <td>NaN</td>\n",
       "      <td>Санкт-Петербург</td>\n",
       "      <td>36813.0</td>\n",
       "      <td>8572.0</td>\n",
       "      <td>1.0</td>\n",
       "      <td>2467.0</td>\n",
       "      <td>3.0</td>\n",
       "      <td>214.0</td>\n",
       "      <td>116.0</td>\n",
       "    </tr>\n",
       "    <tr>\n",
       "      <td>22731</td>\n",
       "      <td>7</td>\n",
       "      <td>2950000.0</td>\n",
       "      <td>64.0</td>\n",
       "      <td>2018-02-25T00:00:00</td>\n",
       "      <td>3</td>\n",
       "      <td>2.50</td>\n",
       "      <td>5.0</td>\n",
       "      <td>45.0</td>\n",
       "      <td>4</td>\n",
       "      <td>False</td>\n",
       "      <td>...</td>\n",
       "      <td>7.0</td>\n",
       "      <td>4.0</td>\n",
       "      <td>Выборг</td>\n",
       "      <td>NaN</td>\n",
       "      <td>NaN</td>\n",
       "      <td>NaN</td>\n",
       "      <td>NaN</td>\n",
       "      <td>NaN</td>\n",
       "      <td>NaN</td>\n",
       "      <td>182.0</td>\n",
       "    </tr>\n",
       "    <tr>\n",
       "      <td>9837</td>\n",
       "      <td>17</td>\n",
       "      <td>4300000.0</td>\n",
       "      <td>36.0</td>\n",
       "      <td>2019-02-26T00:00:00</td>\n",
       "      <td>1</td>\n",
       "      <td>NaN</td>\n",
       "      <td>12.0</td>\n",
       "      <td>21.0</td>\n",
       "      <td>9</td>\n",
       "      <td>NaN</td>\n",
       "      <td>...</td>\n",
       "      <td>7.0</td>\n",
       "      <td>NaN</td>\n",
       "      <td>Санкт-Петербург</td>\n",
       "      <td>41844.0</td>\n",
       "      <td>14347.0</td>\n",
       "      <td>1.0</td>\n",
       "      <td>308.0</td>\n",
       "      <td>0.0</td>\n",
       "      <td>NaN</td>\n",
       "      <td>NaN</td>\n",
       "    </tr>\n",
       "    <tr>\n",
       "      <td>7696</td>\n",
       "      <td>11</td>\n",
       "      <td>5700000.0</td>\n",
       "      <td>63.5</td>\n",
       "      <td>2018-06-17T00:00:00</td>\n",
       "      <td>2</td>\n",
       "      <td>4.00</td>\n",
       "      <td>5.0</td>\n",
       "      <td>NaN</td>\n",
       "      <td>5</td>\n",
       "      <td>NaN</td>\n",
       "      <td>...</td>\n",
       "      <td>NaN</td>\n",
       "      <td>NaN</td>\n",
       "      <td>Всеволожск</td>\n",
       "      <td>NaN</td>\n",
       "      <td>NaN</td>\n",
       "      <td>NaN</td>\n",
       "      <td>NaN</td>\n",
       "      <td>NaN</td>\n",
       "      <td>NaN</td>\n",
       "      <td>60.0</td>\n",
       "    </tr>\n",
       "    <tr>\n",
       "      <td>16724</td>\n",
       "      <td>4</td>\n",
       "      <td>32000000.0</td>\n",
       "      <td>235.0</td>\n",
       "      <td>2015-06-02T00:00:00</td>\n",
       "      <td>5</td>\n",
       "      <td>3.75</td>\n",
       "      <td>5.0</td>\n",
       "      <td>160.0</td>\n",
       "      <td>3</td>\n",
       "      <td>NaN</td>\n",
       "      <td>...</td>\n",
       "      <td>23.0</td>\n",
       "      <td>4.0</td>\n",
       "      <td>Санкт-Петербург</td>\n",
       "      <td>24188.0</td>\n",
       "      <td>3755.0</td>\n",
       "      <td>0.0</td>\n",
       "      <td>NaN</td>\n",
       "      <td>3.0</td>\n",
       "      <td>568.0</td>\n",
       "      <td>1275.0</td>\n",
       "    </tr>\n",
       "  </tbody>\n",
       "</table>\n",
       "<p>5 rows × 22 columns</p>\n",
       "</div>"
      ],
      "text/plain": [
       "       total_images  last_price  total_area first_day_exposition  rooms  \\\n",
       "23466            15  11900000.0        80.0  2017-08-16T00:00:00      2   \n",
       "22731             7   2950000.0        64.0  2018-02-25T00:00:00      3   \n",
       "9837             17   4300000.0        36.0  2019-02-26T00:00:00      1   \n",
       "7696             11   5700000.0        63.5  2018-06-17T00:00:00      2   \n",
       "16724             4  32000000.0       235.0  2015-06-02T00:00:00      5   \n",
       "\n",
       "       ceiling_height  floors_total  living_area  floor is_apartment  ...  \\\n",
       "23466             NaN           5.0          NaN      3          NaN  ...   \n",
       "22731            2.50           5.0         45.0      4        False  ...   \n",
       "9837              NaN          12.0         21.0      9          NaN  ...   \n",
       "7696             4.00           5.0          NaN      5          NaN  ...   \n",
       "16724            3.75           5.0        160.0      3          NaN  ...   \n",
       "\n",
       "       kitchen_area  balcony    locality_name  airports_nearest  \\\n",
       "23466           NaN      NaN  Санкт-Петербург           36813.0   \n",
       "22731           7.0      4.0           Выборг               NaN   \n",
       "9837            7.0      NaN  Санкт-Петербург           41844.0   \n",
       "7696            NaN      NaN       Всеволожск               NaN   \n",
       "16724          23.0      4.0  Санкт-Петербург           24188.0   \n",
       "\n",
       "      cityCenters_nearest  parks_around3000  parks_nearest  ponds_around3000  \\\n",
       "23466              8572.0               1.0         2467.0               3.0   \n",
       "22731                 NaN               NaN            NaN               NaN   \n",
       "9837              14347.0               1.0          308.0               0.0   \n",
       "7696                  NaN               NaN            NaN               NaN   \n",
       "16724              3755.0               0.0            NaN               3.0   \n",
       "\n",
       "       ponds_nearest  days_exposition  \n",
       "23466          214.0            116.0  \n",
       "22731            NaN            182.0  \n",
       "9837             NaN              NaN  \n",
       "7696             NaN             60.0  \n",
       "16724          568.0           1275.0  \n",
       "\n",
       "[5 rows x 22 columns]"
      ]
     },
     "execution_count": 4,
     "metadata": {},
     "output_type": "execute_result"
    }
   ],
   "source": [
    "df.sample(5)"
   ]
  },
  {
   "cell_type": "markdown",
   "metadata": {},
   "source": [
    "Получим краткую информацию о данных:"
   ]
  },
  {
   "cell_type": "code",
   "execution_count": 5,
   "metadata": {},
   "outputs": [
    {
     "name": "stdout",
     "output_type": "stream",
     "text": [
      "<class 'pandas.core.frame.DataFrame'>\n",
      "RangeIndex: 23699 entries, 0 to 23698\n",
      "Data columns (total 22 columns):\n",
      "total_images            23699 non-null int64\n",
      "last_price              23699 non-null float64\n",
      "total_area              23699 non-null float64\n",
      "first_day_exposition    23699 non-null object\n",
      "rooms                   23699 non-null int64\n",
      "ceiling_height          14504 non-null float64\n",
      "floors_total            23613 non-null float64\n",
      "living_area             21796 non-null float64\n",
      "floor                   23699 non-null int64\n",
      "is_apartment            2775 non-null object\n",
      "studio                  23699 non-null bool\n",
      "open_plan               23699 non-null bool\n",
      "kitchen_area            21421 non-null float64\n",
      "balcony                 12180 non-null float64\n",
      "locality_name           23650 non-null object\n",
      "airports_nearest        18157 non-null float64\n",
      "cityCenters_nearest     18180 non-null float64\n",
      "parks_around3000        18181 non-null float64\n",
      "parks_nearest           8079 non-null float64\n",
      "ponds_around3000        18181 non-null float64\n",
      "ponds_nearest           9110 non-null float64\n",
      "days_exposition         20518 non-null float64\n",
      "dtypes: bool(2), float64(14), int64(3), object(3)\n",
      "memory usage: 3.7+ MB\n"
     ]
    }
   ],
   "source": [
    "df.info()"
   ]
  },
  {
   "cell_type": "markdown",
   "metadata": {},
   "source": [
    "`days_exposition`, `balcony`, `floors_total`, `parks_around3000`, `ponds_around3000` нам не подходят в вещественном формате, позже сведём к целочисленному.\n",
    "\n",
    "И ещё подумаем над преобразованием `last_price` к целочисленному типу."
   ]
  },
  {
   "cell_type": "code",
   "execution_count": 6,
   "metadata": {},
   "outputs": [
    {
     "data": {
      "text/html": [
       "<div>\n",
       "<style scoped>\n",
       "    .dataframe tbody tr th:only-of-type {\n",
       "        vertical-align: middle;\n",
       "    }\n",
       "\n",
       "    .dataframe tbody tr th {\n",
       "        vertical-align: top;\n",
       "    }\n",
       "\n",
       "    .dataframe thead th {\n",
       "        text-align: right;\n",
       "    }\n",
       "</style>\n",
       "<table border=\"1\" class=\"dataframe\">\n",
       "  <thead>\n",
       "    <tr style=\"text-align: right;\">\n",
       "      <th></th>\n",
       "      <th>total_images</th>\n",
       "      <th>last_price</th>\n",
       "      <th>total_area</th>\n",
       "      <th>rooms</th>\n",
       "      <th>ceiling_height</th>\n",
       "      <th>floors_total</th>\n",
       "      <th>living_area</th>\n",
       "      <th>floor</th>\n",
       "      <th>kitchen_area</th>\n",
       "      <th>balcony</th>\n",
       "      <th>airports_nearest</th>\n",
       "      <th>cityCenters_nearest</th>\n",
       "      <th>parks_around3000</th>\n",
       "      <th>parks_nearest</th>\n",
       "      <th>ponds_around3000</th>\n",
       "      <th>ponds_nearest</th>\n",
       "      <th>days_exposition</th>\n",
       "    </tr>\n",
       "  </thead>\n",
       "  <tbody>\n",
       "    <tr>\n",
       "      <td>count</td>\n",
       "      <td>23699.000000</td>\n",
       "      <td>2.369900e+04</td>\n",
       "      <td>23699.000000</td>\n",
       "      <td>23699.000000</td>\n",
       "      <td>14504.000000</td>\n",
       "      <td>23613.000000</td>\n",
       "      <td>21796.000000</td>\n",
       "      <td>23699.000000</td>\n",
       "      <td>21421.000000</td>\n",
       "      <td>12180.000000</td>\n",
       "      <td>18157.000000</td>\n",
       "      <td>18180.000000</td>\n",
       "      <td>18181.000000</td>\n",
       "      <td>8079.000000</td>\n",
       "      <td>18181.000000</td>\n",
       "      <td>9110.000000</td>\n",
       "      <td>20518.000000</td>\n",
       "    </tr>\n",
       "    <tr>\n",
       "      <td>mean</td>\n",
       "      <td>9.858475</td>\n",
       "      <td>6.541549e+06</td>\n",
       "      <td>60.348651</td>\n",
       "      <td>2.070636</td>\n",
       "      <td>2.771499</td>\n",
       "      <td>10.673824</td>\n",
       "      <td>34.457852</td>\n",
       "      <td>5.892358</td>\n",
       "      <td>10.569807</td>\n",
       "      <td>1.150082</td>\n",
       "      <td>28793.672193</td>\n",
       "      <td>14191.277833</td>\n",
       "      <td>0.611408</td>\n",
       "      <td>490.804555</td>\n",
       "      <td>0.770255</td>\n",
       "      <td>517.980900</td>\n",
       "      <td>180.888634</td>\n",
       "    </tr>\n",
       "    <tr>\n",
       "      <td>std</td>\n",
       "      <td>5.682529</td>\n",
       "      <td>1.088701e+07</td>\n",
       "      <td>35.654083</td>\n",
       "      <td>1.078405</td>\n",
       "      <td>1.261056</td>\n",
       "      <td>6.597173</td>\n",
       "      <td>22.030445</td>\n",
       "      <td>4.885249</td>\n",
       "      <td>5.905438</td>\n",
       "      <td>1.071300</td>\n",
       "      <td>12630.880622</td>\n",
       "      <td>8608.386210</td>\n",
       "      <td>0.802074</td>\n",
       "      <td>342.317995</td>\n",
       "      <td>0.938346</td>\n",
       "      <td>277.720643</td>\n",
       "      <td>219.727988</td>\n",
       "    </tr>\n",
       "    <tr>\n",
       "      <td>min</td>\n",
       "      <td>0.000000</td>\n",
       "      <td>1.219000e+04</td>\n",
       "      <td>12.000000</td>\n",
       "      <td>0.000000</td>\n",
       "      <td>1.000000</td>\n",
       "      <td>1.000000</td>\n",
       "      <td>2.000000</td>\n",
       "      <td>1.000000</td>\n",
       "      <td>1.300000</td>\n",
       "      <td>0.000000</td>\n",
       "      <td>0.000000</td>\n",
       "      <td>181.000000</td>\n",
       "      <td>0.000000</td>\n",
       "      <td>1.000000</td>\n",
       "      <td>0.000000</td>\n",
       "      <td>13.000000</td>\n",
       "      <td>1.000000</td>\n",
       "    </tr>\n",
       "    <tr>\n",
       "      <td>25%</td>\n",
       "      <td>6.000000</td>\n",
       "      <td>3.400000e+06</td>\n",
       "      <td>40.000000</td>\n",
       "      <td>1.000000</td>\n",
       "      <td>2.520000</td>\n",
       "      <td>5.000000</td>\n",
       "      <td>18.600000</td>\n",
       "      <td>2.000000</td>\n",
       "      <td>7.000000</td>\n",
       "      <td>0.000000</td>\n",
       "      <td>18585.000000</td>\n",
       "      <td>9238.000000</td>\n",
       "      <td>0.000000</td>\n",
       "      <td>288.000000</td>\n",
       "      <td>0.000000</td>\n",
       "      <td>294.000000</td>\n",
       "      <td>45.000000</td>\n",
       "    </tr>\n",
       "    <tr>\n",
       "      <td>50%</td>\n",
       "      <td>9.000000</td>\n",
       "      <td>4.650000e+06</td>\n",
       "      <td>52.000000</td>\n",
       "      <td>2.000000</td>\n",
       "      <td>2.650000</td>\n",
       "      <td>9.000000</td>\n",
       "      <td>30.000000</td>\n",
       "      <td>4.000000</td>\n",
       "      <td>9.100000</td>\n",
       "      <td>1.000000</td>\n",
       "      <td>26726.000000</td>\n",
       "      <td>13098.500000</td>\n",
       "      <td>0.000000</td>\n",
       "      <td>455.000000</td>\n",
       "      <td>1.000000</td>\n",
       "      <td>502.000000</td>\n",
       "      <td>95.000000</td>\n",
       "    </tr>\n",
       "    <tr>\n",
       "      <td>75%</td>\n",
       "      <td>14.000000</td>\n",
       "      <td>6.800000e+06</td>\n",
       "      <td>69.900000</td>\n",
       "      <td>3.000000</td>\n",
       "      <td>2.800000</td>\n",
       "      <td>16.000000</td>\n",
       "      <td>42.300000</td>\n",
       "      <td>8.000000</td>\n",
       "      <td>12.000000</td>\n",
       "      <td>2.000000</td>\n",
       "      <td>37273.000000</td>\n",
       "      <td>16293.000000</td>\n",
       "      <td>1.000000</td>\n",
       "      <td>612.000000</td>\n",
       "      <td>1.000000</td>\n",
       "      <td>729.000000</td>\n",
       "      <td>232.000000</td>\n",
       "    </tr>\n",
       "    <tr>\n",
       "      <td>max</td>\n",
       "      <td>50.000000</td>\n",
       "      <td>7.630000e+08</td>\n",
       "      <td>900.000000</td>\n",
       "      <td>19.000000</td>\n",
       "      <td>100.000000</td>\n",
       "      <td>60.000000</td>\n",
       "      <td>409.700000</td>\n",
       "      <td>33.000000</td>\n",
       "      <td>112.000000</td>\n",
       "      <td>5.000000</td>\n",
       "      <td>84869.000000</td>\n",
       "      <td>65968.000000</td>\n",
       "      <td>3.000000</td>\n",
       "      <td>3190.000000</td>\n",
       "      <td>3.000000</td>\n",
       "      <td>1344.000000</td>\n",
       "      <td>1580.000000</td>\n",
       "    </tr>\n",
       "  </tbody>\n",
       "</table>\n",
       "</div>"
      ],
      "text/plain": [
       "       total_images    last_price    total_area         rooms  ceiling_height  \\\n",
       "count  23699.000000  2.369900e+04  23699.000000  23699.000000    14504.000000   \n",
       "mean       9.858475  6.541549e+06     60.348651      2.070636        2.771499   \n",
       "std        5.682529  1.088701e+07     35.654083      1.078405        1.261056   \n",
       "min        0.000000  1.219000e+04     12.000000      0.000000        1.000000   \n",
       "25%        6.000000  3.400000e+06     40.000000      1.000000        2.520000   \n",
       "50%        9.000000  4.650000e+06     52.000000      2.000000        2.650000   \n",
       "75%       14.000000  6.800000e+06     69.900000      3.000000        2.800000   \n",
       "max       50.000000  7.630000e+08    900.000000     19.000000      100.000000   \n",
       "\n",
       "       floors_total   living_area         floor  kitchen_area       balcony  \\\n",
       "count  23613.000000  21796.000000  23699.000000  21421.000000  12180.000000   \n",
       "mean      10.673824     34.457852      5.892358     10.569807      1.150082   \n",
       "std        6.597173     22.030445      4.885249      5.905438      1.071300   \n",
       "min        1.000000      2.000000      1.000000      1.300000      0.000000   \n",
       "25%        5.000000     18.600000      2.000000      7.000000      0.000000   \n",
       "50%        9.000000     30.000000      4.000000      9.100000      1.000000   \n",
       "75%       16.000000     42.300000      8.000000     12.000000      2.000000   \n",
       "max       60.000000    409.700000     33.000000    112.000000      5.000000   \n",
       "\n",
       "       airports_nearest  cityCenters_nearest  parks_around3000  parks_nearest  \\\n",
       "count      18157.000000         18180.000000      18181.000000    8079.000000   \n",
       "mean       28793.672193         14191.277833          0.611408     490.804555   \n",
       "std        12630.880622          8608.386210          0.802074     342.317995   \n",
       "min            0.000000           181.000000          0.000000       1.000000   \n",
       "25%        18585.000000          9238.000000          0.000000     288.000000   \n",
       "50%        26726.000000         13098.500000          0.000000     455.000000   \n",
       "75%        37273.000000         16293.000000          1.000000     612.000000   \n",
       "max        84869.000000         65968.000000          3.000000    3190.000000   \n",
       "\n",
       "       ponds_around3000  ponds_nearest  days_exposition  \n",
       "count      18181.000000    9110.000000     20518.000000  \n",
       "mean           0.770255     517.980900       180.888634  \n",
       "std            0.938346     277.720643       219.727988  \n",
       "min            0.000000      13.000000         1.000000  \n",
       "25%            0.000000     294.000000        45.000000  \n",
       "50%            1.000000     502.000000        95.000000  \n",
       "75%            1.000000     729.000000       232.000000  \n",
       "max            3.000000    1344.000000      1580.000000  "
      ]
     },
     "execution_count": 6,
     "metadata": {},
     "output_type": "execute_result"
    }
   ],
   "source": [
    "df.describe()"
   ]
  },
  {
   "cell_type": "markdown",
   "metadata": {},
   "source": [
    "Оценим количество пропущенных значений:"
   ]
  },
  {
   "cell_type": "code",
   "execution_count": 7,
   "metadata": {},
   "outputs": [],
   "source": [
    "%matplotlib inline"
   ]
  },
  {
   "cell_type": "code",
   "execution_count": 8,
   "metadata": {},
   "outputs": [
    {
     "data": {
      "text/plain": [
       "is_apartment            20924\n",
       "parks_nearest           15620\n",
       "ponds_nearest           14589\n",
       "balcony                 11519\n",
       "ceiling_height           9195\n",
       "airports_nearest         5542\n",
       "cityCenters_nearest      5519\n",
       "parks_around3000         5518\n",
       "ponds_around3000         5518\n",
       "days_exposition          3181\n",
       "kitchen_area             2278\n",
       "living_area              1903\n",
       "floors_total               86\n",
       "locality_name              49\n",
       "first_day_exposition        0\n",
       "last_price                  0\n",
       "total_area                  0\n",
       "studio                      0\n",
       "rooms                       0\n",
       "floor                       0\n",
       "open_plan                   0\n",
       "total_images                0\n",
       "dtype: int64"
      ]
     },
     "execution_count": 8,
     "metadata": {},
     "output_type": "execute_result"
    }
   ],
   "source": [
    "df.isna().sum().sort_values(ascending = False)"
   ]
  },
  {
   "cell_type": "markdown",
   "metadata": {},
   "source": [
    "На первый вгляд много, но масштаб до конца непонятен.\n",
    "\n",
    "Пересчитаем количество пропусков в процентном соотношении:"
   ]
  },
  {
   "cell_type": "code",
   "execution_count": 9,
   "metadata": {},
   "outputs": [
    {
     "data": {
      "text/plain": [
       "is_apartment            88.29\n",
       "parks_nearest           65.91\n",
       "ponds_nearest           61.56\n",
       "balcony                 48.61\n",
       "ceiling_height          38.80\n",
       "airports_nearest        23.38\n",
       "cityCenters_nearest     23.29\n",
       "parks_around3000        23.28\n",
       "ponds_around3000        23.28\n",
       "days_exposition         13.42\n",
       "kitchen_area             9.61\n",
       "living_area              8.03\n",
       "floors_total             0.36\n",
       "locality_name            0.21\n",
       "first_day_exposition     0.00\n",
       "last_price               0.00\n",
       "total_area               0.00\n",
       "studio                   0.00\n",
       "rooms                    0.00\n",
       "floor                    0.00\n",
       "open_plan                0.00\n",
       "total_images             0.00\n",
       "dtype: float64"
      ]
     },
     "execution_count": 9,
     "metadata": {},
     "output_type": "execute_result"
    }
   ],
   "source": [
    "(df.isnull().mean() * 100).round(2).sort_values(ascending = False)"
   ]
  },
  {
   "cell_type": "markdown",
   "metadata": {},
   "source": [
    "Количество дубликатов до обработки данных:"
   ]
  },
  {
   "cell_type": "code",
   "execution_count": 10,
   "metadata": {},
   "outputs": [
    {
     "data": {
      "text/plain": [
       "0"
      ]
     },
     "execution_count": 10,
     "metadata": {},
     "output_type": "execute_result"
    }
   ],
   "source": [
    "df.duplicated().sum()"
   ]
  },
  {
   "cell_type": "markdown",
   "metadata": {},
   "source": [
    "Изучим названия населённых пунктов, в них могут скрываться неочевидные дубликаты:"
   ]
  },
  {
   "cell_type": "code",
   "execution_count": 11,
   "metadata": {},
   "outputs": [
    {
     "data": {
      "text/plain": [
       "array(['Бокситогорск', 'Волосово', 'Волхов', 'Всеволожск', 'Выборг',\n",
       "       'Высоцк', 'Гатчина', 'Зеленогорск', 'Ивангород', 'Каменногорск',\n",
       "       'Кингисепп', 'Кириши', 'Кировск', 'Колпино', 'Коммунар',\n",
       "       'Красное Село', 'Кронштадт', 'Кудрово', 'Лодейное Поле',\n",
       "       'Ломоносов', 'Луга', 'Любань', 'Мурино', 'Никольское',\n",
       "       'Новая Ладога', 'Отрадное', 'Павловск', 'Петергоф', 'Пикалёво',\n",
       "       'Подпорожье', 'Приморск', 'Приозерск', 'Пушкин', 'Санкт-Петербург',\n",
       "       'Светогорск', 'Сертолово', 'Сестрорецк', 'Сланцы', 'Сосновый Бор',\n",
       "       'Сясьстрой', 'Тихвин', 'Тосно', 'Шлиссельбург',\n",
       "       'городской поселок Большая Ижора', 'городской поселок Янино-1',\n",
       "       'городской посёлок Будогощь', 'городской посёлок Виллози',\n",
       "       'городской посёлок Лесогорский', 'городской посёлок Мга',\n",
       "       'городской посёлок Назия', 'городской посёлок Новоселье',\n",
       "       'городской посёлок Павлово', 'городской посёлок Рощино',\n",
       "       'городской посёлок Свирьстрой', 'городской посёлок Советский',\n",
       "       'городской посёлок Фёдоровское', 'городской посёлок Янино-1',\n",
       "       'деревня Агалатово', 'деревня Аро', 'деревня Батово',\n",
       "       'деревня Бегуницы', 'деревня Белогорка', 'деревня Большая Вруда',\n",
       "       'деревня Большая Пустомержа', 'деревня Большие Колпаны',\n",
       "       'деревня Большое Рейзино', 'деревня Большой Сабск', 'деревня Бор',\n",
       "       'деревня Борисова Грива', 'деревня Ваганово', 'деревня Вартемяги',\n",
       "       'деревня Вахнова Кара', 'деревня Выскатка', 'деревня Гарболово',\n",
       "       'деревня Глинка', 'деревня Горбунки', 'деревня Гостилицы',\n",
       "       'деревня Заклинье', 'деревня Заневка', 'деревня Зимитицы',\n",
       "       'деревня Извара', 'деревня Иссад', 'деревня Калитино',\n",
       "       'деревня Кальтино', 'деревня Камышовка', 'деревня Каськово',\n",
       "       'деревня Келози', 'деревня Кипень', 'деревня Кисельня',\n",
       "       'деревня Колтуши', 'деревня Коркино', 'деревня Котлы',\n",
       "       'деревня Кривко', 'деревня Кудрово', 'деревня Кузьмолово',\n",
       "       'деревня Курковицы', 'деревня Куровицы', 'деревня Куттузи',\n",
       "       'деревня Лаврики', 'деревня Лаголово', 'деревня Лампово',\n",
       "       'деревня Лесколово', 'деревня Лопухинка', 'деревня Лупполово',\n",
       "       'деревня Малая Романовка', 'деревня Малое Верево',\n",
       "       'деревня Малое Карлино', 'деревня Малые Колпаны',\n",
       "       'деревня Мануйлово', 'деревня Меньково', 'деревня Мины',\n",
       "       'деревня Мистолово', 'деревня Ненимяки', 'деревня Нижние Осельки',\n",
       "       'деревня Нижняя', 'деревня Низино', 'деревня Новое Девяткино',\n",
       "       'деревня Новолисино', 'деревня Нурма', 'деревня Оржицы',\n",
       "       'деревня Парицы', 'деревня Пельгора', 'деревня Пеники',\n",
       "       'деревня Пижма', 'деревня Пикколово', 'деревня Пудомяги',\n",
       "       'деревня Пустынка', 'деревня Пчева', 'деревня Рабитицы',\n",
       "       'деревня Разбегаево', 'деревня Раздолье', 'деревня Разметелево',\n",
       "       'деревня Рапполово', 'деревня Реброво', 'деревня Русско',\n",
       "       'деревня Сижно', 'деревня Снегирёвка', 'деревня Старая',\n",
       "       'деревня Старая Пустошь', 'деревня Старое Хинколово',\n",
       "       'деревня Старополье', 'деревня Старосиверская',\n",
       "       'деревня Старые Бегуницы', 'деревня Суоранда',\n",
       "       'деревня Сяськелево', 'деревня Тарасово', 'деревня Терпилицы',\n",
       "       'деревня Тихковицы', 'деревня Тойворово', 'деревня Торосово',\n",
       "       'деревня Торошковичи', 'деревня Трубников Бор',\n",
       "       'деревня Фалилеево', 'деревня Фёдоровское', 'деревня Хапо-Ое',\n",
       "       'деревня Хязельки', 'деревня Чудской Бор', 'деревня Шпаньково',\n",
       "       'деревня Щеглово', 'деревня Юкки', 'деревня Ялгино',\n",
       "       'деревня Яльгелево', 'деревня Ям-Тесово',\n",
       "       'коттеджный поселок Кивеннапа Север', 'коттеджный поселок Счастье',\n",
       "       'коттеджный посёлок Лесное', 'поселок Аннино', 'поселок Барышево',\n",
       "       'поселок Бугры', 'поселок Возрождение', 'поселок Войсковицы',\n",
       "       'поселок Володарское', 'поселок Гаврилово', 'поселок Гарболово',\n",
       "       'поселок Гладкое', 'поселок Глажево', 'поселок Глебычево',\n",
       "       'поселок Гончарово', 'поселок Громово', 'поселок Дружноселье',\n",
       "       'поселок Елизаветино', 'поселок Жилгородок', 'поселок Жилпосёлок',\n",
       "       'поселок Житково', 'поселок Заводской', 'поселок Запорожское',\n",
       "       'поселок Зимитицы', 'поселок Ильичёво', 'поселок Калитино',\n",
       "       'поселок Каложицы', 'поселок Кингисеппский', 'поселок Кирпичное',\n",
       "       'поселок Кобралово', 'поселок Кобринское', 'поселок Коммунары',\n",
       "       'поселок Коробицыно', 'поселок Котельский',\n",
       "       'поселок Красная Долина', 'поселок Красносельское',\n",
       "       'поселок Лесное', 'поселок Лисий Нос', 'поселок Лукаши',\n",
       "       'поселок Любань', 'поселок Мельниково', 'поселок Мичуринское',\n",
       "       'поселок Молодцово', 'поселок Мурино', 'поселок Новый Свет',\n",
       "       'поселок Новый Учхоз', 'поселок Оредеж',\n",
       "       'поселок Пансионат Зелёный Бор', 'поселок Первомайское',\n",
       "       'поселок Перово', 'поселок Петровское', 'поселок Победа',\n",
       "       'поселок Поляны', 'поселок Почап', 'поселок Починок',\n",
       "       'поселок Пушное', 'поселок Пчевжа', 'поселок Рабитицы',\n",
       "       'поселок Романовка', 'поселок Ромашки', 'поселок Рябово',\n",
       "       'поселок Севастьяново', 'поселок Селезнёво', 'поселок Сельцо',\n",
       "       'поселок Семиозерье', 'поселок Семрино', 'поселок Серебрянский',\n",
       "       'поселок Совхозный', 'поселок Старая Малукса',\n",
       "       'поселок Стеклянный', 'поселок Сумино', 'поселок Суходолье',\n",
       "       'поселок Тельмана', 'поселок Терволово', 'поселок Торковичи',\n",
       "       'поселок Тёсово-4', 'поселок Углово', 'поселок Усть-Луга',\n",
       "       'поселок Ушаки', 'поселок Цвелодубово', 'поселок Цвылёво',\n",
       "       'поселок городского типа Большая Ижора',\n",
       "       'поселок городского типа Вырица',\n",
       "       'поселок городского типа Дружная Горка',\n",
       "       'поселок городского типа Дубровка',\n",
       "       'поселок городского типа Ефимовский',\n",
       "       'поселок городского типа Кондратьево',\n",
       "       'поселок городского типа Красный Бор',\n",
       "       'поселок городского типа Кузьмоловский',\n",
       "       'поселок городского типа Лебяжье',\n",
       "       'поселок городского типа Лесогорский',\n",
       "       'поселок городского типа Назия',\n",
       "       'поселок городского типа Никольский',\n",
       "       'поселок городского типа Приладожский',\n",
       "       'поселок городского типа Рахья', 'поселок городского типа Рощино',\n",
       "       'поселок городского типа Рябово',\n",
       "       'поселок городского типа Синявино',\n",
       "       'поселок городского типа Советский',\n",
       "       'поселок городского типа Токсово',\n",
       "       'поселок городского типа Форносово',\n",
       "       'поселок городского типа имени Свердлова',\n",
       "       'поселок станции Вещево', 'поселок станции Корнево',\n",
       "       'поселок станции Лужайка', 'поселок станции Приветнинское',\n",
       "       'посёлок Александровская', 'посёлок Алексеевка', 'посёлок Аннино',\n",
       "       'посёлок Белоостров', 'посёлок Бугры', 'посёлок Возрождение',\n",
       "       'посёлок Войскорово', 'посёлок Высокоключевой',\n",
       "       'посёлок Гаврилово', 'посёлок Дзержинского', 'посёлок Жилгородок',\n",
       "       'посёлок Ильичёво', 'посёлок Кикерино', 'посёлок Кобралово',\n",
       "       'посёлок Коробицыно', 'посёлок Левашово', 'посёлок Ленинское',\n",
       "       'посёлок Лисий Нос', 'посёлок Мельниково', 'посёлок Металлострой',\n",
       "       'посёлок Мичуринское', 'посёлок Молодёжное', 'посёлок Мурино',\n",
       "       'посёлок Мыза-Ивановка', 'посёлок Новогорелово',\n",
       "       'посёлок Новый Свет', 'посёлок Пансионат Зелёный Бор',\n",
       "       'посёлок Парголово', 'посёлок Перово', 'посёлок Песочный',\n",
       "       'посёлок Петро-Славянка', 'посёлок Петровское',\n",
       "       'посёлок Платформа 69-й километр', 'посёлок Плодовое',\n",
       "       'посёлок Плоское', 'посёлок Победа', 'посёлок Поляны',\n",
       "       'посёлок Понтонный', 'посёлок Пригородный', 'посёлок Пудость',\n",
       "       'посёлок Репино', 'посёлок Ропша', 'посёлок Сапёрное',\n",
       "       'посёлок Сапёрный', 'посёлок Сосново', 'посёлок Старая Малукса',\n",
       "       'посёлок Стеклянный', 'посёлок Стрельна', 'посёлок Суйда',\n",
       "       'посёлок Сумино', 'посёлок Тельмана', 'посёлок Терволово',\n",
       "       'посёлок Торфяное', 'посёлок Усть-Ижора', 'посёлок Усть-Луга',\n",
       "       'посёлок Форт Красная Горка', 'посёлок Шугозеро', 'посёлок Шушары',\n",
       "       'посёлок Щеглово', 'посёлок городского типа Важины',\n",
       "       'посёлок городского типа Вознесенье',\n",
       "       'посёлок городского типа Вырица',\n",
       "       'посёлок городского типа Красный Бор',\n",
       "       'посёлок городского типа Кузнечное',\n",
       "       'посёлок городского типа Кузьмоловский',\n",
       "       'посёлок городского типа Лебяжье', 'посёлок городского типа Мга',\n",
       "       'посёлок городского типа Павлово',\n",
       "       'посёлок городского типа Рощино', 'посёлок городского типа Рябово',\n",
       "       'посёлок городского типа Сиверский',\n",
       "       'посёлок городского типа Тайцы', 'посёлок городского типа Токсово',\n",
       "       'посёлок городского типа Ульяновка',\n",
       "       'посёлок городского типа Форносово',\n",
       "       'посёлок городского типа имени Морозова',\n",
       "       'посёлок городского типа имени Свердлова',\n",
       "       'посёлок при железнодорожной станции Вещево',\n",
       "       'посёлок при железнодорожной станции Приветнинское',\n",
       "       'посёлок станции Громово', 'посёлок станции Свирь',\n",
       "       'садоводческое некоммерческое товарищество Лесная Поляна',\n",
       "       'садовое товарищество Новая Ропша',\n",
       "       'садовое товарищество Приладожский', 'садовое товарищество Рахья',\n",
       "       'садовое товарищество Садко', 'село Копорье', 'село Никольское',\n",
       "       'село Павлово', 'село Паша', 'село Путилово', 'село Рождествено',\n",
       "       'село Русско-Высоцкое', 'село Старая Ладога', 'село Шум', nan],\n",
       "      dtype=object)"
      ]
     },
     "execution_count": 11,
     "metadata": {},
     "output_type": "execute_result"
    }
   ],
   "source": [
    "df['locality_name'].sort_values().unique()"
   ]
  },
  {
   "cell_type": "code",
   "execution_count": 12,
   "metadata": {},
   "outputs": [
    {
     "data": {
      "text/plain": [
       "365"
      ]
     },
     "execution_count": 12,
     "metadata": {},
     "output_type": "execute_result"
    }
   ],
   "source": [
    "len(df['locality_name'].sort_values().unique())"
   ]
  },
  {
   "cell_type": "markdown",
   "metadata": {},
   "source": [
    "Целых 365 уникальных значений!\n",
    "\n",
    "Видно, что проблемы с буквой ё: где-то могут совпасть поселок *название* и посёлок *название*.\n",
    "\n",
    "Также присутствуют населённые пункты, обозначенные как деревня *название* и *название*.\n",
    "\n",
    "Такие экземпляры нужно сливать в единый."
   ]
  },
  {
   "cell_type": "markdown",
   "metadata": {},
   "source": [
    "### Вывод"
   ]
  },
  {
   "cell_type": "markdown",
   "metadata": {},
   "source": [
    "Данные: 22 колонки с признаками и 23699 строк\n",
    "\n",
    "- Очень много пропусков, особенно в `is_apartament`.\n",
    "\n",
    "- Дубликаты не обнаружены, но это нужно будет проверить ещё раз после обработки данных.\n",
    "\n",
    "- Населённые пункты: встречаются дубли из-за е и ё, названия с *деревня* <название> и без. Нужно разбираться с этим.\n",
    "\n",
    "- Необходимо преобразование в целочисленный формат для `days_exposition`, `balcony`, `floors_total`, `parks_around3000`, `ponds_around3000`. Такие данные не измеряются дробными числами\n",
    "\n",
    "- Расстояния можно перевести в километры, а цену – в миллионы\n",
    "\n",
    "- Из `first_day_exposition` нам не понадобится время, поэтому можно будет преобразовать к формату %Y-%m-%d.\n",
    "\n",
    "- В `describe()`  были обнаружены странные значения вроде высоты потолков 1м или количество комнат: 0. 1580 дней с выставления объявления - это тоже очень много."
   ]
  },
  {
   "cell_type": "markdown",
   "metadata": {},
   "source": [
    "### Шаг 2. Предобработка данных"
   ]
  },
  {
   "cell_type": "markdown",
   "metadata": {},
   "source": [
    "### Заполнение пропусков\n",
    "#### Балконы"
   ]
  },
  {
   "cell_type": "markdown",
   "metadata": {},
   "source": [
    "Заполним пропуски в `balcony` нулём.\n",
    "\n",
    "Видимо, этот пропуск появился благодаря пользователям без балкона, которые решили не сообщать о том, что у них целых 0 балконов."
   ]
  },
  {
   "cell_type": "code",
   "execution_count": 13,
   "metadata": {},
   "outputs": [
    {
     "data": {
      "text/plain": [
       "3758"
      ]
     },
     "execution_count": 13,
     "metadata": {},
     "output_type": "execute_result"
    }
   ],
   "source": [
    "df[df['balcony'] == 0]['balcony'].count()"
   ]
  },
  {
   "cell_type": "markdown",
   "metadata": {},
   "source": [
    "Хотя известно, что 3758 человек всё же заполнили информацию о **0** балконов."
   ]
  },
  {
   "cell_type": "code",
   "execution_count": 14,
   "metadata": {},
   "outputs": [],
   "source": [
    "df['balcony'] = df['balcony'].fillna(0)"
   ]
  },
  {
   "cell_type": "markdown",
   "metadata": {},
   "source": [
    "Проверяем:"
   ]
  },
  {
   "cell_type": "code",
   "execution_count": 15,
   "metadata": {},
   "outputs": [
    {
     "data": {
      "text/plain": [
       "0"
      ]
     },
     "execution_count": 15,
     "metadata": {},
     "output_type": "execute_result"
    }
   ],
   "source": [
    "df['balcony'].isna().sum()"
   ]
  },
  {
   "cell_type": "markdown",
   "metadata": {},
   "source": [
    "____\n",
    "#### Количество этажей\n",
    "Аналогично можно было предположить, что незаполнение `floors_total` означает, что это однаэтажные дома.\n",
    "\n",
    "Однако по строкам с пропущенными значениями видно, что `floor` в большинстве случаев отнюдь не 1."
   ]
  },
  {
   "cell_type": "code",
   "execution_count": 16,
   "metadata": {
    "scrolled": true
   },
   "outputs": [
    {
     "data": {
      "text/html": [
       "<div>\n",
       "<style scoped>\n",
       "    .dataframe tbody tr th:only-of-type {\n",
       "        vertical-align: middle;\n",
       "    }\n",
       "\n",
       "    .dataframe tbody tr th {\n",
       "        vertical-align: top;\n",
       "    }\n",
       "\n",
       "    .dataframe thead th {\n",
       "        text-align: right;\n",
       "    }\n",
       "</style>\n",
       "<table border=\"1\" class=\"dataframe\">\n",
       "  <thead>\n",
       "    <tr style=\"text-align: right;\">\n",
       "      <th></th>\n",
       "      <th>total_images</th>\n",
       "      <th>last_price</th>\n",
       "      <th>total_area</th>\n",
       "      <th>first_day_exposition</th>\n",
       "      <th>rooms</th>\n",
       "      <th>ceiling_height</th>\n",
       "      <th>floors_total</th>\n",
       "      <th>living_area</th>\n",
       "      <th>floor</th>\n",
       "      <th>is_apartment</th>\n",
       "      <th>...</th>\n",
       "      <th>kitchen_area</th>\n",
       "      <th>balcony</th>\n",
       "      <th>locality_name</th>\n",
       "      <th>airports_nearest</th>\n",
       "      <th>cityCenters_nearest</th>\n",
       "      <th>parks_around3000</th>\n",
       "      <th>parks_nearest</th>\n",
       "      <th>ponds_around3000</th>\n",
       "      <th>ponds_nearest</th>\n",
       "      <th>days_exposition</th>\n",
       "    </tr>\n",
       "  </thead>\n",
       "  <tbody>\n",
       "    <tr>\n",
       "      <td>186</td>\n",
       "      <td>12</td>\n",
       "      <td>11640000.0</td>\n",
       "      <td>65.2</td>\n",
       "      <td>2018-10-02T00:00:00</td>\n",
       "      <td>2</td>\n",
       "      <td>NaN</td>\n",
       "      <td>NaN</td>\n",
       "      <td>30.80</td>\n",
       "      <td>4</td>\n",
       "      <td>NaN</td>\n",
       "      <td>...</td>\n",
       "      <td>12.00</td>\n",
       "      <td>0.0</td>\n",
       "      <td>Санкт-Петербург</td>\n",
       "      <td>39197.0</td>\n",
       "      <td>12373.0</td>\n",
       "      <td>1.0</td>\n",
       "      <td>123.0</td>\n",
       "      <td>0.0</td>\n",
       "      <td>NaN</td>\n",
       "      <td>49.0</td>\n",
       "    </tr>\n",
       "    <tr>\n",
       "      <td>237</td>\n",
       "      <td>4</td>\n",
       "      <td>2438033.0</td>\n",
       "      <td>28.1</td>\n",
       "      <td>2016-11-23T00:00:00</td>\n",
       "      <td>1</td>\n",
       "      <td>NaN</td>\n",
       "      <td>NaN</td>\n",
       "      <td>20.75</td>\n",
       "      <td>1</td>\n",
       "      <td>NaN</td>\n",
       "      <td>...</td>\n",
       "      <td>NaN</td>\n",
       "      <td>0.0</td>\n",
       "      <td>Санкт-Петербург</td>\n",
       "      <td>22041.0</td>\n",
       "      <td>17369.0</td>\n",
       "      <td>0.0</td>\n",
       "      <td>NaN</td>\n",
       "      <td>1.0</td>\n",
       "      <td>374.0</td>\n",
       "      <td>251.0</td>\n",
       "    </tr>\n",
       "    <tr>\n",
       "      <td>457</td>\n",
       "      <td>4</td>\n",
       "      <td>9788348.0</td>\n",
       "      <td>70.8</td>\n",
       "      <td>2015-08-01T00:00:00</td>\n",
       "      <td>2</td>\n",
       "      <td>NaN</td>\n",
       "      <td>NaN</td>\n",
       "      <td>38.40</td>\n",
       "      <td>12</td>\n",
       "      <td>NaN</td>\n",
       "      <td>...</td>\n",
       "      <td>10.63</td>\n",
       "      <td>0.0</td>\n",
       "      <td>Санкт-Петербург</td>\n",
       "      <td>37364.0</td>\n",
       "      <td>8322.0</td>\n",
       "      <td>2.0</td>\n",
       "      <td>309.0</td>\n",
       "      <td>2.0</td>\n",
       "      <td>706.0</td>\n",
       "      <td>727.0</td>\n",
       "    </tr>\n",
       "    <tr>\n",
       "      <td>671</td>\n",
       "      <td>4</td>\n",
       "      <td>6051191.0</td>\n",
       "      <td>93.6</td>\n",
       "      <td>2017-04-06T00:00:00</td>\n",
       "      <td>3</td>\n",
       "      <td>NaN</td>\n",
       "      <td>NaN</td>\n",
       "      <td>47.10</td>\n",
       "      <td>8</td>\n",
       "      <td>NaN</td>\n",
       "      <td>...</td>\n",
       "      <td>16.80</td>\n",
       "      <td>0.0</td>\n",
       "      <td>Санкт-Петербург</td>\n",
       "      <td>22041.0</td>\n",
       "      <td>17369.0</td>\n",
       "      <td>0.0</td>\n",
       "      <td>NaN</td>\n",
       "      <td>1.0</td>\n",
       "      <td>374.0</td>\n",
       "      <td>123.0</td>\n",
       "    </tr>\n",
       "    <tr>\n",
       "      <td>1757</td>\n",
       "      <td>5</td>\n",
       "      <td>3600000.0</td>\n",
       "      <td>39.0</td>\n",
       "      <td>2017-04-22T00:00:00</td>\n",
       "      <td>1</td>\n",
       "      <td>NaN</td>\n",
       "      <td>NaN</td>\n",
       "      <td>NaN</td>\n",
       "      <td>9</td>\n",
       "      <td>NaN</td>\n",
       "      <td>...</td>\n",
       "      <td>NaN</td>\n",
       "      <td>0.0</td>\n",
       "      <td>Санкт-Петербург</td>\n",
       "      <td>22735.0</td>\n",
       "      <td>11618.0</td>\n",
       "      <td>1.0</td>\n",
       "      <td>835.0</td>\n",
       "      <td>1.0</td>\n",
       "      <td>652.0</td>\n",
       "      <td>77.0</td>\n",
       "    </tr>\n",
       "    <tr>\n",
       "      <td>...</td>\n",
       "      <td>...</td>\n",
       "      <td>...</td>\n",
       "      <td>...</td>\n",
       "      <td>...</td>\n",
       "      <td>...</td>\n",
       "      <td>...</td>\n",
       "      <td>...</td>\n",
       "      <td>...</td>\n",
       "      <td>...</td>\n",
       "      <td>...</td>\n",
       "      <td>...</td>\n",
       "      <td>...</td>\n",
       "      <td>...</td>\n",
       "      <td>...</td>\n",
       "      <td>...</td>\n",
       "      <td>...</td>\n",
       "      <td>...</td>\n",
       "      <td>...</td>\n",
       "      <td>...</td>\n",
       "      <td>...</td>\n",
       "      <td>...</td>\n",
       "    </tr>\n",
       "    <tr>\n",
       "      <td>22542</td>\n",
       "      <td>5</td>\n",
       "      <td>8500000.0</td>\n",
       "      <td>63.5</td>\n",
       "      <td>2017-05-24T00:00:00</td>\n",
       "      <td>2</td>\n",
       "      <td>2.8</td>\n",
       "      <td>NaN</td>\n",
       "      <td>NaN</td>\n",
       "      <td>3</td>\n",
       "      <td>NaN</td>\n",
       "      <td>...</td>\n",
       "      <td>NaN</td>\n",
       "      <td>0.0</td>\n",
       "      <td>Санкт-Петербург</td>\n",
       "      <td>51340.0</td>\n",
       "      <td>15363.0</td>\n",
       "      <td>0.0</td>\n",
       "      <td>NaN</td>\n",
       "      <td>1.0</td>\n",
       "      <td>853.0</td>\n",
       "      <td>512.0</td>\n",
       "    </tr>\n",
       "    <tr>\n",
       "      <td>22656</td>\n",
       "      <td>4</td>\n",
       "      <td>4574160.0</td>\n",
       "      <td>64.5</td>\n",
       "      <td>2017-04-02T00:00:00</td>\n",
       "      <td>2</td>\n",
       "      <td>NaN</td>\n",
       "      <td>NaN</td>\n",
       "      <td>31.70</td>\n",
       "      <td>20</td>\n",
       "      <td>NaN</td>\n",
       "      <td>...</td>\n",
       "      <td>14.40</td>\n",
       "      <td>0.0</td>\n",
       "      <td>Санкт-Петербург</td>\n",
       "      <td>22041.0</td>\n",
       "      <td>17369.0</td>\n",
       "      <td>0.0</td>\n",
       "      <td>NaN</td>\n",
       "      <td>1.0</td>\n",
       "      <td>374.0</td>\n",
       "      <td>127.0</td>\n",
       "    </tr>\n",
       "    <tr>\n",
       "      <td>22808</td>\n",
       "      <td>0</td>\n",
       "      <td>14569263.0</td>\n",
       "      <td>110.4</td>\n",
       "      <td>2016-11-20T00:00:00</td>\n",
       "      <td>3</td>\n",
       "      <td>NaN</td>\n",
       "      <td>NaN</td>\n",
       "      <td>45.38</td>\n",
       "      <td>6</td>\n",
       "      <td>NaN</td>\n",
       "      <td>...</td>\n",
       "      <td>23.42</td>\n",
       "      <td>0.0</td>\n",
       "      <td>Санкт-Петербург</td>\n",
       "      <td>19095.0</td>\n",
       "      <td>4529.0</td>\n",
       "      <td>0.0</td>\n",
       "      <td>NaN</td>\n",
       "      <td>0.0</td>\n",
       "      <td>NaN</td>\n",
       "      <td>260.0</td>\n",
       "    </tr>\n",
       "    <tr>\n",
       "      <td>23590</td>\n",
       "      <td>0</td>\n",
       "      <td>21187872.0</td>\n",
       "      <td>123.3</td>\n",
       "      <td>2017-04-25T00:00:00</td>\n",
       "      <td>3</td>\n",
       "      <td>NaN</td>\n",
       "      <td>NaN</td>\n",
       "      <td>50.40</td>\n",
       "      <td>18</td>\n",
       "      <td>NaN</td>\n",
       "      <td>...</td>\n",
       "      <td>23.60</td>\n",
       "      <td>0.0</td>\n",
       "      <td>Санкт-Петербург</td>\n",
       "      <td>19095.0</td>\n",
       "      <td>4529.0</td>\n",
       "      <td>0.0</td>\n",
       "      <td>NaN</td>\n",
       "      <td>0.0</td>\n",
       "      <td>NaN</td>\n",
       "      <td>104.0</td>\n",
       "    </tr>\n",
       "    <tr>\n",
       "      <td>23658</td>\n",
       "      <td>6</td>\n",
       "      <td>3063600.0</td>\n",
       "      <td>43.8</td>\n",
       "      <td>2016-11-28T00:00:00</td>\n",
       "      <td>1</td>\n",
       "      <td>2.7</td>\n",
       "      <td>NaN</td>\n",
       "      <td>14.00</td>\n",
       "      <td>8</td>\n",
       "      <td>NaN</td>\n",
       "      <td>...</td>\n",
       "      <td>15.50</td>\n",
       "      <td>2.0</td>\n",
       "      <td>Санкт-Петербург</td>\n",
       "      <td>8426.0</td>\n",
       "      <td>12082.0</td>\n",
       "      <td>2.0</td>\n",
       "      <td>24.0</td>\n",
       "      <td>1.0</td>\n",
       "      <td>271.0</td>\n",
       "      <td>246.0</td>\n",
       "    </tr>\n",
       "  </tbody>\n",
       "</table>\n",
       "<p>86 rows × 22 columns</p>\n",
       "</div>"
      ],
      "text/plain": [
       "       total_images  last_price  total_area first_day_exposition  rooms  \\\n",
       "186              12  11640000.0        65.2  2018-10-02T00:00:00      2   \n",
       "237               4   2438033.0        28.1  2016-11-23T00:00:00      1   \n",
       "457               4   9788348.0        70.8  2015-08-01T00:00:00      2   \n",
       "671               4   6051191.0        93.6  2017-04-06T00:00:00      3   \n",
       "1757              5   3600000.0        39.0  2017-04-22T00:00:00      1   \n",
       "...             ...         ...         ...                  ...    ...   \n",
       "22542             5   8500000.0        63.5  2017-05-24T00:00:00      2   \n",
       "22656             4   4574160.0        64.5  2017-04-02T00:00:00      2   \n",
       "22808             0  14569263.0       110.4  2016-11-20T00:00:00      3   \n",
       "23590             0  21187872.0       123.3  2017-04-25T00:00:00      3   \n",
       "23658             6   3063600.0        43.8  2016-11-28T00:00:00      1   \n",
       "\n",
       "       ceiling_height  floors_total  living_area  floor is_apartment  ...  \\\n",
       "186               NaN           NaN        30.80      4          NaN  ...   \n",
       "237               NaN           NaN        20.75      1          NaN  ...   \n",
       "457               NaN           NaN        38.40     12          NaN  ...   \n",
       "671               NaN           NaN        47.10      8          NaN  ...   \n",
       "1757              NaN           NaN          NaN      9          NaN  ...   \n",
       "...               ...           ...          ...    ...          ...  ...   \n",
       "22542             2.8           NaN          NaN      3          NaN  ...   \n",
       "22656             NaN           NaN        31.70     20          NaN  ...   \n",
       "22808             NaN           NaN        45.38      6          NaN  ...   \n",
       "23590             NaN           NaN        50.40     18          NaN  ...   \n",
       "23658             2.7           NaN        14.00      8          NaN  ...   \n",
       "\n",
       "       kitchen_area  balcony    locality_name  airports_nearest  \\\n",
       "186           12.00      0.0  Санкт-Петербург           39197.0   \n",
       "237             NaN      0.0  Санкт-Петербург           22041.0   \n",
       "457           10.63      0.0  Санкт-Петербург           37364.0   \n",
       "671           16.80      0.0  Санкт-Петербург           22041.0   \n",
       "1757            NaN      0.0  Санкт-Петербург           22735.0   \n",
       "...             ...      ...              ...               ...   \n",
       "22542           NaN      0.0  Санкт-Петербург           51340.0   \n",
       "22656         14.40      0.0  Санкт-Петербург           22041.0   \n",
       "22808         23.42      0.0  Санкт-Петербург           19095.0   \n",
       "23590         23.60      0.0  Санкт-Петербург           19095.0   \n",
       "23658         15.50      2.0  Санкт-Петербург            8426.0   \n",
       "\n",
       "      cityCenters_nearest  parks_around3000  parks_nearest  ponds_around3000  \\\n",
       "186               12373.0               1.0          123.0               0.0   \n",
       "237               17369.0               0.0            NaN               1.0   \n",
       "457                8322.0               2.0          309.0               2.0   \n",
       "671               17369.0               0.0            NaN               1.0   \n",
       "1757              11618.0               1.0          835.0               1.0   \n",
       "...                   ...               ...            ...               ...   \n",
       "22542             15363.0               0.0            NaN               1.0   \n",
       "22656             17369.0               0.0            NaN               1.0   \n",
       "22808              4529.0               0.0            NaN               0.0   \n",
       "23590              4529.0               0.0            NaN               0.0   \n",
       "23658             12082.0               2.0           24.0               1.0   \n",
       "\n",
       "       ponds_nearest  days_exposition  \n",
       "186              NaN             49.0  \n",
       "237            374.0            251.0  \n",
       "457            706.0            727.0  \n",
       "671            374.0            123.0  \n",
       "1757           652.0             77.0  \n",
       "...              ...              ...  \n",
       "22542          853.0            512.0  \n",
       "22656          374.0            127.0  \n",
       "22808            NaN            260.0  \n",
       "23590            NaN            104.0  \n",
       "23658          271.0            246.0  \n",
       "\n",
       "[86 rows x 22 columns]"
      ]
     },
     "execution_count": 16,
     "metadata": {},
     "output_type": "execute_result"
    }
   ],
   "source": [
    "df[df['floors_total'].isnull()]"
   ]
  },
  {
   "cell_type": "markdown",
   "metadata": {},
   "source": [
    "Заполним пропуски номером этажа, на котором находится жильё. \n",
    "\n",
    "Как будто он последний."
   ]
  },
  {
   "cell_type": "code",
   "execution_count": 17,
   "metadata": {},
   "outputs": [],
   "source": [
    "df['floors_total'] = df['floors_total'].fillna(df['floor'])"
   ]
  },
  {
   "cell_type": "markdown",
   "metadata": {},
   "source": [
    "Проверка:"
   ]
  },
  {
   "cell_type": "code",
   "execution_count": 18,
   "metadata": {},
   "outputs": [
    {
     "data": {
      "text/plain": [
       "0"
      ]
     },
     "execution_count": 18,
     "metadata": {},
     "output_type": "execute_result"
    }
   ],
   "source": [
    "df['floors_total'].isna().sum()"
   ]
  },
  {
   "cell_type": "markdown",
   "metadata": {},
   "source": [
    "### Обработка данных\n",
    "#### Названия населённых пунктов\n",
    "Мурино и Кудрово – города в Ленинградской области. Дополнение 'деревня' к ним неактуально.\n",
    "\n",
    "Так же надо заменить посЁлки на посЕлки\n",
    "___"
   ]
  },
  {
   "cell_type": "markdown",
   "metadata": {},
   "source": [
    "Для этого я написала функцию:\n",
    "\n",
    "она ищет Мурино и Кудрово и возвращает только эти названия, даже если к ним приписано 'деревня'.\n",
    "\n",
    "посЁлки выкидываются и заменяются на посЕлки и складываются со второй частью – его названием.\n",
    "\n",
    "try–except для того, чтобы избегать пока не заполненные пропуски."
   ]
  },
  {
   "cell_type": "code",
   "execution_count": 19,
   "metadata": {},
   "outputs": [],
   "source": [
    "def locality_names(name):\n",
    "    try:\n",
    "        if 'Кудрово' in name:\n",
    "            name = 'Кудрово'\n",
    "        elif 'Мурино' in name:\n",
    "            name = 'Мурино'\n",
    "        elif 'городской посёлок' in name:\n",
    "            name1 = name[17:]\n",
    "            name = 'городской поселок' + name1\n",
    "        elif 'коттеджный посёлок' in name:\n",
    "            name1 = name[18:]\n",
    "            name = 'коттеджный поселок' + name1\n",
    "        elif 'посёлок' in name:\n",
    "            name1 = name[7:]\n",
    "            name = 'поселок' + name1\n",
    "        return name\n",
    "    except:\n",
    "        return name"
   ]
  },
  {
   "cell_type": "markdown",
   "metadata": {},
   "source": [
    "Проверим функцию:"
   ]
  },
  {
   "cell_type": "code",
   "execution_count": 20,
   "metadata": {},
   "outputs": [
    {
     "data": {
      "text/plain": [
       "'городской поселок поселочек'"
      ]
     },
     "execution_count": 20,
     "metadata": {},
     "output_type": "execute_result"
    }
   ],
   "source": [
    "locality_names('городской посёлок поселочек')"
   ]
  },
  {
   "cell_type": "code",
   "execution_count": 21,
   "metadata": {},
   "outputs": [],
   "source": [
    "df['locality_name'] = df['locality_name'].apply(locality_names)"
   ]
  },
  {
   "cell_type": "code",
   "execution_count": 22,
   "metadata": {},
   "outputs": [
    {
     "data": {
      "text/plain": [
       "array(['Бокситогорск', 'Волосово', 'Волхов', 'Всеволожск', 'Выборг',\n",
       "       'Высоцк', 'Гатчина', 'Зеленогорск', 'Ивангород', 'Каменногорск',\n",
       "       'Кингисепп', 'Кириши', 'Кировск', 'Колпино', 'Коммунар',\n",
       "       'Красное Село', 'Кронштадт', 'Кудрово', 'Лодейное Поле',\n",
       "       'Ломоносов', 'Луга', 'Любань', 'Мурино', 'Никольское',\n",
       "       'Новая Ладога', 'Отрадное', 'Павловск', 'Петергоф', 'Пикалёво',\n",
       "       'Подпорожье', 'Приморск', 'Приозерск', 'Пушкин', 'Санкт-Петербург',\n",
       "       'Светогорск', 'Сертолово', 'Сестрорецк', 'Сланцы', 'Сосновый Бор',\n",
       "       'Сясьстрой', 'Тихвин', 'Тосно', 'Шлиссельбург',\n",
       "       'городской поселок Большая Ижора', 'городской поселок Будогощь',\n",
       "       'городской поселок Виллози', 'городской поселок Лесогорский',\n",
       "       'городской поселок Мга', 'городской поселок Назия',\n",
       "       'городской поселок Новоселье', 'городской поселок Павлово',\n",
       "       'городской поселок Рощино', 'городской поселок Свирьстрой',\n",
       "       'городской поселок Советский', 'городской поселок Фёдоровское',\n",
       "       'городской поселок Янино-1', 'деревня Агалатово', 'деревня Аро',\n",
       "       'деревня Батово', 'деревня Бегуницы', 'деревня Белогорка',\n",
       "       'деревня Большая Вруда', 'деревня Большая Пустомержа',\n",
       "       'деревня Большие Колпаны', 'деревня Большое Рейзино',\n",
       "       'деревня Большой Сабск', 'деревня Бор', 'деревня Борисова Грива',\n",
       "       'деревня Ваганово', 'деревня Вартемяги', 'деревня Вахнова Кара',\n",
       "       'деревня Выскатка', 'деревня Гарболово', 'деревня Глинка',\n",
       "       'деревня Горбунки', 'деревня Гостилицы', 'деревня Заклинье',\n",
       "       'деревня Заневка', 'деревня Зимитицы', 'деревня Извара',\n",
       "       'деревня Иссад', 'деревня Калитино', 'деревня Кальтино',\n",
       "       'деревня Камышовка', 'деревня Каськово', 'деревня Келози',\n",
       "       'деревня Кипень', 'деревня Кисельня', 'деревня Колтуши',\n",
       "       'деревня Коркино', 'деревня Котлы', 'деревня Кривко',\n",
       "       'деревня Кузьмолово', 'деревня Курковицы', 'деревня Куровицы',\n",
       "       'деревня Куттузи', 'деревня Лаврики', 'деревня Лаголово',\n",
       "       'деревня Лампово', 'деревня Лесколово', 'деревня Лопухинка',\n",
       "       'деревня Лупполово', 'деревня Малая Романовка',\n",
       "       'деревня Малое Верево', 'деревня Малое Карлино',\n",
       "       'деревня Малые Колпаны', 'деревня Мануйлово', 'деревня Меньково',\n",
       "       'деревня Мины', 'деревня Мистолово', 'деревня Ненимяки',\n",
       "       'деревня Нижние Осельки', 'деревня Нижняя', 'деревня Низино',\n",
       "       'деревня Новое Девяткино', 'деревня Новолисино', 'деревня Нурма',\n",
       "       'деревня Оржицы', 'деревня Парицы', 'деревня Пельгора',\n",
       "       'деревня Пеники', 'деревня Пижма', 'деревня Пикколово',\n",
       "       'деревня Пудомяги', 'деревня Пустынка', 'деревня Пчева',\n",
       "       'деревня Рабитицы', 'деревня Разбегаево', 'деревня Раздолье',\n",
       "       'деревня Разметелево', 'деревня Рапполово', 'деревня Реброво',\n",
       "       'деревня Русско', 'деревня Сижно', 'деревня Снегирёвка',\n",
       "       'деревня Старая', 'деревня Старая Пустошь',\n",
       "       'деревня Старое Хинколово', 'деревня Старополье',\n",
       "       'деревня Старосиверская', 'деревня Старые Бегуницы',\n",
       "       'деревня Суоранда', 'деревня Сяськелево', 'деревня Тарасово',\n",
       "       'деревня Терпилицы', 'деревня Тихковицы', 'деревня Тойворово',\n",
       "       'деревня Торосово', 'деревня Торошковичи', 'деревня Трубников Бор',\n",
       "       'деревня Фалилеево', 'деревня Фёдоровское', 'деревня Хапо-Ое',\n",
       "       'деревня Хязельки', 'деревня Чудской Бор', 'деревня Шпаньково',\n",
       "       'деревня Щеглово', 'деревня Юкки', 'деревня Ялгино',\n",
       "       'деревня Яльгелево', 'деревня Ям-Тесово',\n",
       "       'коттеджный поселок Кивеннапа Север', 'коттеджный поселок Лесное',\n",
       "       'коттеджный поселок Счастье', 'поселок Александровская',\n",
       "       'поселок Алексеевка', 'поселок Аннино', 'поселок Барышево',\n",
       "       'поселок Белоостров', 'поселок Бугры', 'поселок Возрождение',\n",
       "       'поселок Войсковицы', 'поселок Войскорово', 'поселок Володарское',\n",
       "       'поселок Высокоключевой', 'поселок Гаврилово', 'поселок Гарболово',\n",
       "       'поселок Гладкое', 'поселок Глажево', 'поселок Глебычево',\n",
       "       'поселок Гончарово', 'поселок Громово', 'поселок Дзержинского',\n",
       "       'поселок Дружноселье', 'поселок Елизаветино', 'поселок Жилгородок',\n",
       "       'поселок Жилпосёлок', 'поселок Житково', 'поселок Заводской',\n",
       "       'поселок Запорожское', 'поселок Зимитицы', 'поселок Ильичёво',\n",
       "       'поселок Калитино', 'поселок Каложицы', 'поселок Кикерино',\n",
       "       'поселок Кингисеппский', 'поселок Кирпичное', 'поселок Кобралово',\n",
       "       'поселок Кобринское', 'поселок Коммунары', 'поселок Коробицыно',\n",
       "       'поселок Котельский', 'поселок Красная Долина',\n",
       "       'поселок Красносельское', 'поселок Левашово', 'поселок Ленинское',\n",
       "       'поселок Лесное', 'поселок Лисий Нос', 'поселок Лукаши',\n",
       "       'поселок Любань', 'поселок Мельниково', 'поселок Металлострой',\n",
       "       'поселок Мичуринское', 'поселок Молодцово', 'поселок Молодёжное',\n",
       "       'поселок Мыза-Ивановка', 'поселок Новогорелово',\n",
       "       'поселок Новый Свет', 'поселок Новый Учхоз', 'поселок Оредеж',\n",
       "       'поселок Пансионат Зелёный Бор', 'поселок Парголово',\n",
       "       'поселок Первомайское', 'поселок Перово', 'поселок Песочный',\n",
       "       'поселок Петро-Славянка', 'поселок Петровское',\n",
       "       'поселок Платформа 69-й километр', 'поселок Плодовое',\n",
       "       'поселок Плоское', 'поселок Победа', 'поселок Поляны',\n",
       "       'поселок Понтонный', 'поселок Почап', 'поселок Починок',\n",
       "       'поселок Пригородный', 'поселок Пудость', 'поселок Пушное',\n",
       "       'поселок Пчевжа', 'поселок Рабитицы', 'поселок Репино',\n",
       "       'поселок Романовка', 'поселок Ромашки', 'поселок Ропша',\n",
       "       'поселок Рябово', 'поселок Сапёрное', 'поселок Сапёрный',\n",
       "       'поселок Севастьяново', 'поселок Селезнёво', 'поселок Сельцо',\n",
       "       'поселок Семиозерье', 'поселок Семрино', 'поселок Серебрянский',\n",
       "       'поселок Совхозный', 'поселок Сосново', 'поселок Старая Малукса',\n",
       "       'поселок Стеклянный', 'поселок Стрельна', 'поселок Суйда',\n",
       "       'поселок Сумино', 'поселок Суходолье', 'поселок Тельмана',\n",
       "       'поселок Терволово', 'поселок Торковичи', 'поселок Торфяное',\n",
       "       'поселок Тёсово-4', 'поселок Углово', 'поселок Усть-Ижора',\n",
       "       'поселок Усть-Луга', 'поселок Ушаки', 'поселок Форт Красная Горка',\n",
       "       'поселок Цвелодубово', 'поселок Цвылёво', 'поселок Шугозеро',\n",
       "       'поселок Шушары', 'поселок Щеглово',\n",
       "       'поселок городского типа Большая Ижора',\n",
       "       'поселок городского типа Важины',\n",
       "       'поселок городского типа Вознесенье',\n",
       "       'поселок городского типа Вырица',\n",
       "       'поселок городского типа Дружная Горка',\n",
       "       'поселок городского типа Дубровка',\n",
       "       'поселок городского типа Ефимовский',\n",
       "       'поселок городского типа Кондратьево',\n",
       "       'поселок городского типа Красный Бор',\n",
       "       'поселок городского типа Кузнечное',\n",
       "       'поселок городского типа Кузьмоловский',\n",
       "       'поселок городского типа Лебяжье',\n",
       "       'поселок городского типа Лесогорский',\n",
       "       'поселок городского типа Мга', 'поселок городского типа Назия',\n",
       "       'поселок городского типа Никольский',\n",
       "       'поселок городского типа Павлово',\n",
       "       'поселок городского типа Приладожский',\n",
       "       'поселок городского типа Рахья', 'поселок городского типа Рощино',\n",
       "       'поселок городского типа Рябово',\n",
       "       'поселок городского типа Сиверский',\n",
       "       'поселок городского типа Синявино',\n",
       "       'поселок городского типа Советский',\n",
       "       'поселок городского типа Тайцы', 'поселок городского типа Токсово',\n",
       "       'поселок городского типа Ульяновка',\n",
       "       'поселок городского типа Форносово',\n",
       "       'поселок городского типа имени Морозова',\n",
       "       'поселок городского типа имени Свердлова',\n",
       "       'поселок при железнодорожной станции Вещево',\n",
       "       'поселок при железнодорожной станции Приветнинское',\n",
       "       'поселок станции Вещево', 'поселок станции Громово',\n",
       "       'поселок станции Корнево', 'поселок станции Лужайка',\n",
       "       'поселок станции Приветнинское', 'поселок станции Свирь',\n",
       "       'садоводческое некоммерческое товарищество Лесная Поляна',\n",
       "       'садовое товарищество Новая Ропша',\n",
       "       'садовое товарищество Приладожский', 'садовое товарищество Рахья',\n",
       "       'садовое товарищество Садко', 'село Копорье', 'село Никольское',\n",
       "       'село Павлово', 'село Паша', 'село Путилово', 'село Рождествено',\n",
       "       'село Русско-Высоцкое', 'село Старая Ладога', 'село Шум', nan],\n",
       "      dtype=object)"
      ]
     },
     "execution_count": 22,
     "metadata": {},
     "output_type": "execute_result"
    }
   ],
   "source": [
    "df['locality_name'].sort_values().unique()"
   ]
  },
  {
   "cell_type": "code",
   "execution_count": 23,
   "metadata": {},
   "outputs": [
    {
     "data": {
      "text/plain": [
       "329"
      ]
     },
     "execution_count": 23,
     "metadata": {},
     "output_type": "execute_result"
    }
   ],
   "source": [
    "len(df['locality_name'].sort_values().unique())"
   ]
  },
  {
   "cell_type": "markdown",
   "metadata": {},
   "source": [
    "Интересно, *коттеджный поселок Лесное* и *поселок Лесное* – это одно и то же?\n",
    "\n",
    "Тем не менее количество уникальных значений сократилось на 36 штук, это неплохой результат.\n",
    "\n",
    "___________\n",
    "Проверим, не появились ли дубликаты:"
   ]
  },
  {
   "cell_type": "code",
   "execution_count": 24,
   "metadata": {},
   "outputs": [
    {
     "data": {
      "text/plain": [
       "0"
      ]
     },
     "execution_count": 24,
     "metadata": {},
     "output_type": "execute_result"
    }
   ],
   "source": [
    "df.duplicated().sum()"
   ]
  },
  {
   "cell_type": "markdown",
   "metadata": {},
   "source": [
    "Дубликатов не оказалось.\n",
    "\n",
    "Посмотрим на населённые пункты более внимательно: выведем топ-10 от всего списка"
   ]
  },
  {
   "cell_type": "code",
   "execution_count": 25,
   "metadata": {},
   "outputs": [
    {
     "data": {
      "text/plain": [
       "Санкт-Петербург      15721\n",
       "Мурино                 590\n",
       "Кудрово                472\n",
       "поселок Шушары         440\n",
       "Всеволожск             398\n",
       "Пушкин                 369\n",
       "Колпино                338\n",
       "поселок Парголово      327\n",
       "Гатчина                307\n",
       "Выборг                 237\n",
       "Name: locality_name, dtype: int64"
      ]
     },
     "execution_count": 25,
     "metadata": {},
     "output_type": "execute_result"
    }
   ],
   "source": [
    "df['locality_name'].value_counts().head(10)"
   ]
  },
  {
   "cell_type": "markdown",
   "metadata": {},
   "source": [
    "топ-10 с конца: неудивительно, что там всего лишь по одному объявлению"
   ]
  },
  {
   "cell_type": "code",
   "execution_count": 26,
   "metadata": {},
   "outputs": [
    {
     "data": {
      "text/plain": [
       "поселок при железнодорожной станции Приветнинское    1\n",
       "деревня Чудской Бор                                  1\n",
       "деревня Сижно                                        1\n",
       "поселок Жилпосёлок                                   1\n",
       "поселок Высокоключевой                               1\n",
       "поселок городского типа Кондратьево                  1\n",
       "деревня Иссад                                        1\n",
       "поселок Шугозеро                                     1\n",
       "деревня Ялгино                                       1\n",
       "деревня Большое Рейзино                              1\n",
       "Name: locality_name, dtype: int64"
      ]
     },
     "execution_count": 26,
     "metadata": {},
     "output_type": "execute_result"
    }
   ],
   "source": [
    "df['locality_name'].value_counts().tail(10)"
   ]
  },
  {
   "cell_type": "markdown",
   "metadata": {},
   "source": [
    "___\n",
    "#### Обработка пропусков в жилой площади\n",
    "\n",
    "Исходя из логики, у студий средняя площадь всегда меньше. \n",
    "\n",
    "Проверим по нашему датасету:"
   ]
  },
  {
   "cell_type": "code",
   "execution_count": 27,
   "metadata": {},
   "outputs": [
    {
     "data": {
      "text/plain": [
       "count    139.000000\n",
       "mean      18.995396\n",
       "std        7.345598\n",
       "min        2.000000\n",
       "25%       16.000000\n",
       "50%       18.000000\n",
       "75%       19.850000\n",
       "max       68.000000\n",
       "Name: living_area, dtype: float64"
      ]
     },
     "execution_count": 27,
     "metadata": {},
     "output_type": "execute_result"
    }
   ],
   "source": [
    "df[df['studio'] == 1]['living_area'].describe()"
   ]
  },
  {
   "cell_type": "code",
   "execution_count": 28,
   "metadata": {
    "scrolled": true
   },
   "outputs": [
    {
     "data": {
      "text/plain": [
       "count    21657.000000\n",
       "mean        34.557094\n",
       "std         22.058273\n",
       "min          2.000000\n",
       "25%         18.700000\n",
       "50%         30.000000\n",
       "75%         42.400000\n",
       "max        409.700000\n",
       "Name: living_area, dtype: float64"
      ]
     },
     "execution_count": 28,
     "metadata": {},
     "output_type": "execute_result"
    }
   ],
   "source": [
    "df[df['studio'] == 0]['living_area'].describe()"
   ]
  },
  {
   "cell_type": "markdown",
   "metadata": {},
   "source": [
    "Так и есть. У студий площадь почти вполовину меньше, чем у нестудий.\n",
    "\n",
    "Так же есть различие жилой/нежилой фонд: в жилом фонде средняя площадь чуть меньше"
   ]
  },
  {
   "cell_type": "code",
   "execution_count": 29,
   "metadata": {},
   "outputs": [
    {
     "data": {
      "text/plain": [
       "count    2613.000000\n",
       "mean       35.026973\n",
       "std        19.939367\n",
       "min        10.000000\n",
       "25%        19.000000\n",
       "50%        31.000000\n",
       "75%        43.000000\n",
       "max       204.000000\n",
       "Name: living_area, dtype: float64"
      ]
     },
     "execution_count": 29,
     "metadata": {},
     "output_type": "execute_result"
    }
   ],
   "source": [
    "df[df['is_apartment'] == 0]['living_area'].describe()"
   ]
  },
  {
   "cell_type": "code",
   "execution_count": 30,
   "metadata": {},
   "outputs": [
    {
     "data": {
      "text/plain": [
       "count     42.000000\n",
       "mean      47.979524\n",
       "std       49.462974\n",
       "min       13.920000\n",
       "25%       20.422500\n",
       "50%       33.250000\n",
       "75%       55.700000\n",
       "max      301.500000\n",
       "Name: living_area, dtype: float64"
      ]
     },
     "execution_count": 30,
     "metadata": {},
     "output_type": "execute_result"
    }
   ],
   "source": [
    "df[df['is_apartment'] == 1]['living_area'].describe()"
   ]
  },
  {
   "cell_type": "markdown",
   "metadata": {},
   "source": [
    "Так же есть сочетания с пропусками жилой площади жилой фонд/не студия, нежилой фонд/не студия.\n",
    "\n",
    "Бережно и внимательно заполним их:"
   ]
  },
  {
   "cell_type": "code",
   "execution_count": 31,
   "metadata": {},
   "outputs": [
    {
     "data": {
      "text/plain": [
       "112"
      ]
     },
     "execution_count": 31,
     "metadata": {},
     "output_type": "execute_result"
    }
   ],
   "source": [
    "df.query('is_apartment == 0 and studio == 0')['living_area'].isna().sum()"
   ]
  },
  {
   "cell_type": "code",
   "execution_count": 32,
   "metadata": {},
   "outputs": [
    {
     "data": {
      "text/plain": [
       "0"
      ]
     },
     "execution_count": 32,
     "metadata": {},
     "output_type": "execute_result"
    }
   ],
   "source": [
    "df.query('is_apartment == 0 and studio == 1')['living_area'].isna().sum()"
   ]
  },
  {
   "cell_type": "code",
   "execution_count": 33,
   "metadata": {},
   "outputs": [
    {
     "data": {
      "text/plain": [
       "8"
      ]
     },
     "execution_count": 33,
     "metadata": {},
     "output_type": "execute_result"
    }
   ],
   "source": [
    "df.loc[(df[\"is_apartment\"] == 1) & (df[\"studio\"] == 0)]['living_area'].isna().sum()"
   ]
  },
  {
   "cell_type": "code",
   "execution_count": 34,
   "metadata": {},
   "outputs": [
    {
     "data": {
      "text/plain": [
       "0"
      ]
     },
     "execution_count": 34,
     "metadata": {},
     "output_type": "execute_result"
    }
   ],
   "source": [
    "df.query('is_apartment == 1 and studio == 1')['living_area'].isna().sum()"
   ]
  },
  {
   "cell_type": "code",
   "execution_count": 35,
   "metadata": {},
   "outputs": [],
   "source": [
    "mask10 = (df[\"is_apartment\"] == 1) & (df[\"studio\"] == 0)\n",
    "median10 = df.loc[mask10, 'living_area'].median()\n",
    "df.loc[mask10, 'living_area'] = df.loc[mask10, 'living_area'].fillna(median10)"
   ]
  },
  {
   "cell_type": "code",
   "execution_count": 36,
   "metadata": {},
   "outputs": [],
   "source": [
    "mask00 = (df[\"is_apartment\"] == 0) & (df[\"studio\"] == 0)\n",
    "median00 = df.loc[mask00, 'living_area'].median()\n",
    "df.loc[mask00, 'living_area'] = df.loc[mask00, 'living_area'].fillna(median00)"
   ]
  },
  {
   "cell_type": "markdown",
   "metadata": {},
   "source": [
    "Проверим, сколько пропущенных значений `living_area` осталось:"
   ]
  },
  {
   "cell_type": "code",
   "execution_count": 37,
   "metadata": {},
   "outputs": [
    {
     "data": {
      "text/plain": [
       "1783"
      ]
     },
     "execution_count": 37,
     "metadata": {},
     "output_type": "execute_result"
    }
   ],
   "source": [
    "df['living_area'].isnull().sum()"
   ]
  },
  {
   "cell_type": "markdown",
   "metadata": {},
   "source": [
    "Немногим меньше. \n",
    "\n",
    "Оставшиеся пропуски заполним по принципу **студия / не студия**, к тому же пропусков в `studio` совсем нет:"
   ]
  },
  {
   "cell_type": "code",
   "execution_count": 38,
   "metadata": {},
   "outputs": [],
   "source": [
    "mask_is_studio = (df[\"studio\"] == 1)\n",
    "median_is_studio = df.loc[mask_is_studio, 'living_area'].median()\n",
    "df.loc[mask_is_studio, 'living_area'] = df.loc[mask_is_studio, 'living_area'].fillna(median_is_studio)"
   ]
  },
  {
   "cell_type": "code",
   "execution_count": 39,
   "metadata": {},
   "outputs": [],
   "source": [
    "mask_not_studio = (df[\"studio\"] == 0)\n",
    "median_not_studio = df.loc[mask_not_studio, 'living_area'].median()\n",
    "df.loc[mask_not_studio, 'living_area'] = df.loc[mask_not_studio, 'living_area'].fillna(median_not_studio)"
   ]
  },
  {
   "cell_type": "markdown",
   "metadata": {},
   "source": [
    "Проверим, сколько пропусков после заполнения:"
   ]
  },
  {
   "cell_type": "code",
   "execution_count": 40,
   "metadata": {},
   "outputs": [
    {
     "data": {
      "text/plain": [
       "0"
      ]
     },
     "execution_count": 40,
     "metadata": {},
     "output_type": "execute_result"
    }
   ],
   "source": [
    "df['living_area'].isnull().sum()"
   ]
  },
  {
   "cell_type": "markdown",
   "metadata": {},
   "source": [
    "Проверим, не создалось ли таких экземпляров, где `living_area` больше `total_area`"
   ]
  },
  {
   "cell_type": "code",
   "execution_count": 41,
   "metadata": {},
   "outputs": [
    {
     "data": {
      "text/html": [
       "<div>\n",
       "<style scoped>\n",
       "    .dataframe tbody tr th:only-of-type {\n",
       "        vertical-align: middle;\n",
       "    }\n",
       "\n",
       "    .dataframe tbody tr th {\n",
       "        vertical-align: top;\n",
       "    }\n",
       "\n",
       "    .dataframe thead th {\n",
       "        text-align: right;\n",
       "    }\n",
       "</style>\n",
       "<table border=\"1\" class=\"dataframe\">\n",
       "  <thead>\n",
       "    <tr style=\"text-align: right;\">\n",
       "      <th></th>\n",
       "      <th>total_images</th>\n",
       "      <th>last_price</th>\n",
       "      <th>total_area</th>\n",
       "      <th>first_day_exposition</th>\n",
       "      <th>rooms</th>\n",
       "      <th>ceiling_height</th>\n",
       "      <th>floors_total</th>\n",
       "      <th>living_area</th>\n",
       "      <th>floor</th>\n",
       "      <th>is_apartment</th>\n",
       "      <th>...</th>\n",
       "      <th>kitchen_area</th>\n",
       "      <th>balcony</th>\n",
       "      <th>locality_name</th>\n",
       "      <th>airports_nearest</th>\n",
       "      <th>cityCenters_nearest</th>\n",
       "      <th>parks_around3000</th>\n",
       "      <th>parks_nearest</th>\n",
       "      <th>ponds_around3000</th>\n",
       "      <th>ponds_nearest</th>\n",
       "      <th>days_exposition</th>\n",
       "    </tr>\n",
       "  </thead>\n",
       "  <tbody>\n",
       "    <tr>\n",
       "      <td>322</td>\n",
       "      <td>6</td>\n",
       "      <td>2000000.0</td>\n",
       "      <td>25.0</td>\n",
       "      <td>2017-02-07T00:00:00</td>\n",
       "      <td>1</td>\n",
       "      <td>NaN</td>\n",
       "      <td>5.0</td>\n",
       "      <td>31.0</td>\n",
       "      <td>5</td>\n",
       "      <td>False</td>\n",
       "      <td>...</td>\n",
       "      <td>NaN</td>\n",
       "      <td>0.0</td>\n",
       "      <td>Выборг</td>\n",
       "      <td>NaN</td>\n",
       "      <td>NaN</td>\n",
       "      <td>NaN</td>\n",
       "      <td>NaN</td>\n",
       "      <td>NaN</td>\n",
       "      <td>NaN</td>\n",
       "      <td>45.0</td>\n",
       "    </tr>\n",
       "    <tr>\n",
       "      <td>546</td>\n",
       "      <td>0</td>\n",
       "      <td>6000001.0</td>\n",
       "      <td>25.0</td>\n",
       "      <td>2018-11-16T00:00:00</td>\n",
       "      <td>1</td>\n",
       "      <td>3.00</td>\n",
       "      <td>5.0</td>\n",
       "      <td>31.0</td>\n",
       "      <td>5</td>\n",
       "      <td>False</td>\n",
       "      <td>...</td>\n",
       "      <td>NaN</td>\n",
       "      <td>0.0</td>\n",
       "      <td>Санкт-Петербург</td>\n",
       "      <td>25169.0</td>\n",
       "      <td>3871.0</td>\n",
       "      <td>1.0</td>\n",
       "      <td>207.0</td>\n",
       "      <td>1.0</td>\n",
       "      <td>776.0</td>\n",
       "      <td>17.0</td>\n",
       "    </tr>\n",
       "    <tr>\n",
       "      <td>780</td>\n",
       "      <td>9</td>\n",
       "      <td>2600000.0</td>\n",
       "      <td>26.1</td>\n",
       "      <td>2018-02-20T00:00:00</td>\n",
       "      <td>0</td>\n",
       "      <td>NaN</td>\n",
       "      <td>18.0</td>\n",
       "      <td>30.0</td>\n",
       "      <td>8</td>\n",
       "      <td>NaN</td>\n",
       "      <td>...</td>\n",
       "      <td>NaN</td>\n",
       "      <td>1.0</td>\n",
       "      <td>Мурино</td>\n",
       "      <td>NaN</td>\n",
       "      <td>NaN</td>\n",
       "      <td>NaN</td>\n",
       "      <td>NaN</td>\n",
       "      <td>NaN</td>\n",
       "      <td>NaN</td>\n",
       "      <td>45.0</td>\n",
       "    </tr>\n",
       "    <tr>\n",
       "      <td>1053</td>\n",
       "      <td>13</td>\n",
       "      <td>550000.0</td>\n",
       "      <td>29.0</td>\n",
       "      <td>2018-02-01T00:00:00</td>\n",
       "      <td>1</td>\n",
       "      <td>5.00</td>\n",
       "      <td>3.0</td>\n",
       "      <td>31.0</td>\n",
       "      <td>1</td>\n",
       "      <td>False</td>\n",
       "      <td>...</td>\n",
       "      <td>NaN</td>\n",
       "      <td>0.0</td>\n",
       "      <td>Бокситогорск</td>\n",
       "      <td>NaN</td>\n",
       "      <td>NaN</td>\n",
       "      <td>NaN</td>\n",
       "      <td>NaN</td>\n",
       "      <td>NaN</td>\n",
       "      <td>NaN</td>\n",
       "      <td>6.0</td>\n",
       "    </tr>\n",
       "    <tr>\n",
       "      <td>1116</td>\n",
       "      <td>12</td>\n",
       "      <td>3490000.0</td>\n",
       "      <td>29.0</td>\n",
       "      <td>2017-10-21T00:00:00</td>\n",
       "      <td>1</td>\n",
       "      <td>2.50</td>\n",
       "      <td>9.0</td>\n",
       "      <td>30.0</td>\n",
       "      <td>6</td>\n",
       "      <td>NaN</td>\n",
       "      <td>...</td>\n",
       "      <td>NaN</td>\n",
       "      <td>0.0</td>\n",
       "      <td>Санкт-Петербург</td>\n",
       "      <td>45501.0</td>\n",
       "      <td>18226.0</td>\n",
       "      <td>0.0</td>\n",
       "      <td>NaN</td>\n",
       "      <td>0.0</td>\n",
       "      <td>NaN</td>\n",
       "      <td>280.0</td>\n",
       "    </tr>\n",
       "    <tr>\n",
       "      <td>...</td>\n",
       "      <td>...</td>\n",
       "      <td>...</td>\n",
       "      <td>...</td>\n",
       "      <td>...</td>\n",
       "      <td>...</td>\n",
       "      <td>...</td>\n",
       "      <td>...</td>\n",
       "      <td>...</td>\n",
       "      <td>...</td>\n",
       "      <td>...</td>\n",
       "      <td>...</td>\n",
       "      <td>...</td>\n",
       "      <td>...</td>\n",
       "      <td>...</td>\n",
       "      <td>...</td>\n",
       "      <td>...</td>\n",
       "      <td>...</td>\n",
       "      <td>...</td>\n",
       "      <td>...</td>\n",
       "      <td>...</td>\n",
       "      <td>...</td>\n",
       "    </tr>\n",
       "    <tr>\n",
       "      <td>21718</td>\n",
       "      <td>11</td>\n",
       "      <td>2540000.0</td>\n",
       "      <td>23.0</td>\n",
       "      <td>2018-03-22T00:00:00</td>\n",
       "      <td>1</td>\n",
       "      <td>NaN</td>\n",
       "      <td>5.0</td>\n",
       "      <td>30.0</td>\n",
       "      <td>1</td>\n",
       "      <td>NaN</td>\n",
       "      <td>...</td>\n",
       "      <td>NaN</td>\n",
       "      <td>0.0</td>\n",
       "      <td>Санкт-Петербург</td>\n",
       "      <td>27289.0</td>\n",
       "      <td>7997.0</td>\n",
       "      <td>0.0</td>\n",
       "      <td>NaN</td>\n",
       "      <td>1.0</td>\n",
       "      <td>698.0</td>\n",
       "      <td>45.0</td>\n",
       "    </tr>\n",
       "    <tr>\n",
       "      <td>22356</td>\n",
       "      <td>6</td>\n",
       "      <td>2050000.0</td>\n",
       "      <td>17.2</td>\n",
       "      <td>2019-01-13T00:00:00</td>\n",
       "      <td>1</td>\n",
       "      <td>2.77</td>\n",
       "      <td>23.0</td>\n",
       "      <td>31.0</td>\n",
       "      <td>1</td>\n",
       "      <td>False</td>\n",
       "      <td>...</td>\n",
       "      <td>NaN</td>\n",
       "      <td>0.0</td>\n",
       "      <td>Санкт-Петербург</td>\n",
       "      <td>33645.0</td>\n",
       "      <td>13513.0</td>\n",
       "      <td>0.0</td>\n",
       "      <td>NaN</td>\n",
       "      <td>0.0</td>\n",
       "      <td>NaN</td>\n",
       "      <td>7.0</td>\n",
       "    </tr>\n",
       "    <tr>\n",
       "      <td>22661</td>\n",
       "      <td>6</td>\n",
       "      <td>3150000.0</td>\n",
       "      <td>24.0</td>\n",
       "      <td>2019-04-16T00:00:00</td>\n",
       "      <td>1</td>\n",
       "      <td>NaN</td>\n",
       "      <td>5.0</td>\n",
       "      <td>30.0</td>\n",
       "      <td>3</td>\n",
       "      <td>NaN</td>\n",
       "      <td>...</td>\n",
       "      <td>NaN</td>\n",
       "      <td>0.0</td>\n",
       "      <td>Санкт-Петербург</td>\n",
       "      <td>26737.0</td>\n",
       "      <td>5235.0</td>\n",
       "      <td>1.0</td>\n",
       "      <td>359.0</td>\n",
       "      <td>1.0</td>\n",
       "      <td>964.0</td>\n",
       "      <td>NaN</td>\n",
       "    </tr>\n",
       "    <tr>\n",
       "      <td>22839</td>\n",
       "      <td>14</td>\n",
       "      <td>3350000.0</td>\n",
       "      <td>27.0</td>\n",
       "      <td>2018-11-03T00:00:00</td>\n",
       "      <td>1</td>\n",
       "      <td>2.70</td>\n",
       "      <td>16.0</td>\n",
       "      <td>31.0</td>\n",
       "      <td>6</td>\n",
       "      <td>False</td>\n",
       "      <td>...</td>\n",
       "      <td>4.0</td>\n",
       "      <td>2.0</td>\n",
       "      <td>Санкт-Петербург</td>\n",
       "      <td>41935.0</td>\n",
       "      <td>9551.0</td>\n",
       "      <td>0.0</td>\n",
       "      <td>NaN</td>\n",
       "      <td>0.0</td>\n",
       "      <td>NaN</td>\n",
       "      <td>35.0</td>\n",
       "    </tr>\n",
       "    <tr>\n",
       "      <td>23500</td>\n",
       "      <td>7</td>\n",
       "      <td>2850000.0</td>\n",
       "      <td>29.0</td>\n",
       "      <td>2018-02-11T00:00:00</td>\n",
       "      <td>1</td>\n",
       "      <td>NaN</td>\n",
       "      <td>9.0</td>\n",
       "      <td>30.0</td>\n",
       "      <td>9</td>\n",
       "      <td>NaN</td>\n",
       "      <td>...</td>\n",
       "      <td>NaN</td>\n",
       "      <td>0.0</td>\n",
       "      <td>Санкт-Петербург</td>\n",
       "      <td>26953.0</td>\n",
       "      <td>12051.0</td>\n",
       "      <td>0.0</td>\n",
       "      <td>NaN</td>\n",
       "      <td>0.0</td>\n",
       "      <td>NaN</td>\n",
       "      <td>45.0</td>\n",
       "    </tr>\n",
       "  </tbody>\n",
       "</table>\n",
       "<p>73 rows × 22 columns</p>\n",
       "</div>"
      ],
      "text/plain": [
       "       total_images  last_price  total_area first_day_exposition  rooms  \\\n",
       "322               6   2000000.0        25.0  2017-02-07T00:00:00      1   \n",
       "546               0   6000001.0        25.0  2018-11-16T00:00:00      1   \n",
       "780               9   2600000.0        26.1  2018-02-20T00:00:00      0   \n",
       "1053             13    550000.0        29.0  2018-02-01T00:00:00      1   \n",
       "1116             12   3490000.0        29.0  2017-10-21T00:00:00      1   \n",
       "...             ...         ...         ...                  ...    ...   \n",
       "21718            11   2540000.0        23.0  2018-03-22T00:00:00      1   \n",
       "22356             6   2050000.0        17.2  2019-01-13T00:00:00      1   \n",
       "22661             6   3150000.0        24.0  2019-04-16T00:00:00      1   \n",
       "22839            14   3350000.0        27.0  2018-11-03T00:00:00      1   \n",
       "23500             7   2850000.0        29.0  2018-02-11T00:00:00      1   \n",
       "\n",
       "       ceiling_height  floors_total  living_area  floor is_apartment  ...  \\\n",
       "322               NaN           5.0         31.0      5        False  ...   \n",
       "546              3.00           5.0         31.0      5        False  ...   \n",
       "780               NaN          18.0         30.0      8          NaN  ...   \n",
       "1053             5.00           3.0         31.0      1        False  ...   \n",
       "1116             2.50           9.0         30.0      6          NaN  ...   \n",
       "...               ...           ...          ...    ...          ...  ...   \n",
       "21718             NaN           5.0         30.0      1          NaN  ...   \n",
       "22356            2.77          23.0         31.0      1        False  ...   \n",
       "22661             NaN           5.0         30.0      3          NaN  ...   \n",
       "22839            2.70          16.0         31.0      6        False  ...   \n",
       "23500             NaN           9.0         30.0      9          NaN  ...   \n",
       "\n",
       "       kitchen_area  balcony    locality_name  airports_nearest  \\\n",
       "322             NaN      0.0           Выборг               NaN   \n",
       "546             NaN      0.0  Санкт-Петербург           25169.0   \n",
       "780             NaN      1.0           Мурино               NaN   \n",
       "1053            NaN      0.0     Бокситогорск               NaN   \n",
       "1116            NaN      0.0  Санкт-Петербург           45501.0   \n",
       "...             ...      ...              ...               ...   \n",
       "21718           NaN      0.0  Санкт-Петербург           27289.0   \n",
       "22356           NaN      0.0  Санкт-Петербург           33645.0   \n",
       "22661           NaN      0.0  Санкт-Петербург           26737.0   \n",
       "22839           4.0      2.0  Санкт-Петербург           41935.0   \n",
       "23500           NaN      0.0  Санкт-Петербург           26953.0   \n",
       "\n",
       "      cityCenters_nearest  parks_around3000  parks_nearest  ponds_around3000  \\\n",
       "322                   NaN               NaN            NaN               NaN   \n",
       "546                3871.0               1.0          207.0               1.0   \n",
       "780                   NaN               NaN            NaN               NaN   \n",
       "1053                  NaN               NaN            NaN               NaN   \n",
       "1116              18226.0               0.0            NaN               0.0   \n",
       "...                   ...               ...            ...               ...   \n",
       "21718              7997.0               0.0            NaN               1.0   \n",
       "22356             13513.0               0.0            NaN               0.0   \n",
       "22661              5235.0               1.0          359.0               1.0   \n",
       "22839              9551.0               0.0            NaN               0.0   \n",
       "23500             12051.0               0.0            NaN               0.0   \n",
       "\n",
       "       ponds_nearest  days_exposition  \n",
       "322              NaN             45.0  \n",
       "546            776.0             17.0  \n",
       "780              NaN             45.0  \n",
       "1053             NaN              6.0  \n",
       "1116             NaN            280.0  \n",
       "...              ...              ...  \n",
       "21718          698.0             45.0  \n",
       "22356            NaN              7.0  \n",
       "22661          964.0              NaN  \n",
       "22839            NaN             35.0  \n",
       "23500            NaN             45.0  \n",
       "\n",
       "[73 rows x 22 columns]"
      ]
     },
     "execution_count": 41,
     "metadata": {},
     "output_type": "execute_result"
    }
   ],
   "source": [
    "mask_area = (df['living_area'])>(df['total_area'])\n",
    "df.loc[mask_area]"
   ]
  },
  {
   "cell_type": "markdown",
   "metadata": {},
   "source": [
    "Создалось целых 73 штуки.\n",
    "\n",
    "Обновим `total_area` = `living_area`"
   ]
  },
  {
   "cell_type": "code",
   "execution_count": 42,
   "metadata": {},
   "outputs": [],
   "source": [
    "df.loc[mask_area, 'total_area'] = df.loc[mask_area, 'living_area']"
   ]
  },
  {
   "cell_type": "markdown",
   "metadata": {},
   "source": [
    "___\n",
    "#### Количество дней, с того момента, как выложили объявление\n",
    "Заполним пропуски в `days_exposition`.\n",
    "\n",
    "Похоже, что эти пропуски появились по вине разработчиков портала, т.к. точно известен день, когда выложили объявление.\n",
    "\n",
    "Данные, когда объявление сняли, видимо, не подтянулись.\n",
    "\n",
    "Т.к. данных, по которым можно сделать какое-либо предположение по количеству дней, у нас нет, заполним пропуски в этом столбце медианным значением:"
   ]
  },
  {
   "cell_type": "code",
   "execution_count": 43,
   "metadata": {},
   "outputs": [],
   "source": [
    "df.loc[df['days_exposition'].isnull(), 'days_exposition'] = df['days_exposition'].median()"
   ]
  },
  {
   "cell_type": "markdown",
   "metadata": {},
   "source": [
    "Проверим, получилось ли заполнить все пропуски:"
   ]
  },
  {
   "cell_type": "code",
   "execution_count": 44,
   "metadata": {},
   "outputs": [
    {
     "data": {
      "text/plain": [
       "0"
      ]
     },
     "execution_count": 44,
     "metadata": {},
     "output_type": "execute_result"
    }
   ],
   "source": [
    "df['days_exposition'].isnull().sum()"
   ]
  },
  {
   "cell_type": "markdown",
   "metadata": {},
   "source": [
    "___\n",
    "#### `airports_nearest` и `cityCenters_nearest`\n",
    "Заполним пропуски в `airports_nearest` и `cityCenters_nearest`, исходя из данных в населённых пунктах, в которых эти столбцы заполнены:"
   ]
  },
  {
   "cell_type": "code",
   "execution_count": 45,
   "metadata": {},
   "outputs": [
    {
     "data": {
      "text/html": [
       "<div>\n",
       "<style scoped>\n",
       "    .dataframe tbody tr th:only-of-type {\n",
       "        vertical-align: middle;\n",
       "    }\n",
       "\n",
       "    .dataframe tbody tr th {\n",
       "        vertical-align: top;\n",
       "    }\n",
       "\n",
       "    .dataframe thead th {\n",
       "        text-align: right;\n",
       "    }\n",
       "</style>\n",
       "<table border=\"1\" class=\"dataframe\">\n",
       "  <thead>\n",
       "    <tr style=\"text-align: right;\">\n",
       "      <th></th>\n",
       "      <th>airports_nearest</th>\n",
       "      <th>cityCenters_nearest</th>\n",
       "    </tr>\n",
       "    <tr>\n",
       "      <th>locality_name</th>\n",
       "      <th></th>\n",
       "      <th></th>\n",
       "    </tr>\n",
       "  </thead>\n",
       "  <tbody>\n",
       "    <tr>\n",
       "      <td>Зеленогорск</td>\n",
       "      <td>72282.0</td>\n",
       "      <td>53381.0</td>\n",
       "    </tr>\n",
       "    <tr>\n",
       "      <td>Колпино</td>\n",
       "      <td>26232.0</td>\n",
       "      <td>32018.0</td>\n",
       "    </tr>\n",
       "    <tr>\n",
       "      <td>Красное Село</td>\n",
       "      <td>25715.5</td>\n",
       "      <td>29140.5</td>\n",
       "    </tr>\n",
       "    <tr>\n",
       "      <td>Кронштадт</td>\n",
       "      <td>67850.0</td>\n",
       "      <td>49575.0</td>\n",
       "    </tr>\n",
       "    <tr>\n",
       "      <td>Ломоносов</td>\n",
       "      <td>48415.5</td>\n",
       "      <td>51677.0</td>\n",
       "    </tr>\n",
       "    <tr>\n",
       "      <td>Мурино</td>\n",
       "      <td>51553.0</td>\n",
       "      <td>21888.0</td>\n",
       "    </tr>\n",
       "    <tr>\n",
       "      <td>Павловск</td>\n",
       "      <td>20529.5</td>\n",
       "      <td>32683.0</td>\n",
       "    </tr>\n",
       "    <tr>\n",
       "      <td>Петергоф</td>\n",
       "      <td>39231.0</td>\n",
       "      <td>33771.0</td>\n",
       "    </tr>\n",
       "    <tr>\n",
       "      <td>Пушкин</td>\n",
       "      <td>15766.0</td>\n",
       "      <td>27930.5</td>\n",
       "    </tr>\n",
       "    <tr>\n",
       "      <td>Санкт-Петербург</td>\n",
       "      <td>26757.5</td>\n",
       "      <td>12244.5</td>\n",
       "    </tr>\n",
       "    <tr>\n",
       "      <td>Сестрорецк</td>\n",
       "      <td>56692.0</td>\n",
       "      <td>34821.0</td>\n",
       "    </tr>\n",
       "    <tr>\n",
       "      <td>поселок Александровская</td>\n",
       "      <td>12896.5</td>\n",
       "      <td>27468.0</td>\n",
       "    </tr>\n",
       "    <tr>\n",
       "      <td>поселок Белоостров</td>\n",
       "      <td>57769.0</td>\n",
       "      <td>38868.0</td>\n",
       "    </tr>\n",
       "    <tr>\n",
       "      <td>поселок Левашово</td>\n",
       "      <td>52693.0</td>\n",
       "      <td>25727.0</td>\n",
       "    </tr>\n",
       "    <tr>\n",
       "      <td>поселок Лисий Нос</td>\n",
       "      <td>55909.0</td>\n",
       "      <td>28226.0</td>\n",
       "    </tr>\n",
       "    <tr>\n",
       "      <td>поселок Металлострой</td>\n",
       "      <td>25758.0</td>\n",
       "      <td>27602.0</td>\n",
       "    </tr>\n",
       "    <tr>\n",
       "      <td>поселок Молодёжное</td>\n",
       "      <td>84665.0</td>\n",
       "      <td>65764.0</td>\n",
       "    </tr>\n",
       "    <tr>\n",
       "      <td>поселок Парголово</td>\n",
       "      <td>53426.0</td>\n",
       "      <td>19311.0</td>\n",
       "    </tr>\n",
       "    <tr>\n",
       "      <td>поселок Песочный</td>\n",
       "      <td>54831.5</td>\n",
       "      <td>26099.5</td>\n",
       "    </tr>\n",
       "    <tr>\n",
       "      <td>поселок Петро-Славянка</td>\n",
       "      <td>20605.0</td>\n",
       "      <td>27165.0</td>\n",
       "    </tr>\n",
       "    <tr>\n",
       "      <td>поселок Понтонный</td>\n",
       "      <td>30642.0</td>\n",
       "      <td>32354.0</td>\n",
       "    </tr>\n",
       "    <tr>\n",
       "      <td>поселок Репино</td>\n",
       "      <td>61797.5</td>\n",
       "      <td>42896.5</td>\n",
       "    </tr>\n",
       "    <tr>\n",
       "      <td>поселок Сапёрный</td>\n",
       "      <td>34147.5</td>\n",
       "      <td>35859.5</td>\n",
       "    </tr>\n",
       "    <tr>\n",
       "      <td>поселок Стрельна</td>\n",
       "      <td>28317.0</td>\n",
       "      <td>23506.0</td>\n",
       "    </tr>\n",
       "    <tr>\n",
       "      <td>поселок Усть-Ижора</td>\n",
       "      <td>26510.5</td>\n",
       "      <td>28222.5</td>\n",
       "    </tr>\n",
       "    <tr>\n",
       "      <td>поселок Шушары</td>\n",
       "      <td>17427.0</td>\n",
       "      <td>24212.0</td>\n",
       "    </tr>\n",
       "    <tr>\n",
       "      <td>поселок Щеглово</td>\n",
       "      <td>61908.0</td>\n",
       "      <td>34085.0</td>\n",
       "    </tr>\n",
       "  </tbody>\n",
       "</table>\n",
       "</div>"
      ],
      "text/plain": [
       "                         airports_nearest  cityCenters_nearest\n",
       "locality_name                                                 \n",
       "Зеленогорск                       72282.0              53381.0\n",
       "Колпино                           26232.0              32018.0\n",
       "Красное Село                      25715.5              29140.5\n",
       "Кронштадт                         67850.0              49575.0\n",
       "Ломоносов                         48415.5              51677.0\n",
       "Мурино                            51553.0              21888.0\n",
       "Павловск                          20529.5              32683.0\n",
       "Петергоф                          39231.0              33771.0\n",
       "Пушкин                            15766.0              27930.5\n",
       "Санкт-Петербург                   26757.5              12244.5\n",
       "Сестрорецк                        56692.0              34821.0\n",
       "поселок Александровская           12896.5              27468.0\n",
       "поселок Белоостров                57769.0              38868.0\n",
       "поселок Левашово                  52693.0              25727.0\n",
       "поселок Лисий Нос                 55909.0              28226.0\n",
       "поселок Металлострой              25758.0              27602.0\n",
       "поселок Молодёжное                84665.0              65764.0\n",
       "поселок Парголово                 53426.0              19311.0\n",
       "поселок Песочный                  54831.5              26099.5\n",
       "поселок Петро-Славянка            20605.0              27165.0\n",
       "поселок Понтонный                 30642.0              32354.0\n",
       "поселок Репино                    61797.5              42896.5\n",
       "поселок Сапёрный                  34147.5              35859.5\n",
       "поселок Стрельна                  28317.0              23506.0\n",
       "поселок Усть-Ижора                26510.5              28222.5\n",
       "поселок Шушары                    17427.0              24212.0\n",
       "поселок Щеглово                   61908.0              34085.0"
      ]
     },
     "execution_count": 45,
     "metadata": {},
     "output_type": "execute_result"
    }
   ],
   "source": [
    "median_data = df.pivot_table(\n",
    "    index='locality_name',\n",
    "    values=['airports_nearest', 'cityCenters_nearest'],\n",
    "    aggfunc='median'\n",
    ")\n",
    "median_data"
   ]
  },
  {
   "cell_type": "code",
   "execution_count": 46,
   "metadata": {},
   "outputs": [],
   "source": [
    "def fill_missing_data(row, col):\n",
    "    locality = row['locality_name']\n",
    "    \n",
    "    if locality in median_data.index:\n",
    "        return median_data.loc[locality][col]\n",
    "    \n",
    "    return row[col]"
   ]
  },
  {
   "cell_type": "code",
   "execution_count": 47,
   "metadata": {},
   "outputs": [],
   "source": [
    "cols = ['airports_nearest', 'cityCenters_nearest']\n",
    "\n",
    "for col in cols:\n",
    "    df.loc[df[col].isnull(), col] = df.apply(fill_missing_data, axis=1, args=(col,))"
   ]
  },
  {
   "cell_type": "markdown",
   "metadata": {},
   "source": [
    "Сколько пропусков осталось:"
   ]
  },
  {
   "cell_type": "code",
   "execution_count": 48,
   "metadata": {},
   "outputs": [
    {
     "data": {
      "text/plain": [
       "4838"
      ]
     },
     "execution_count": 48,
     "metadata": {},
     "output_type": "execute_result"
    }
   ],
   "source": [
    "df['cityCenters_nearest'].isnull().sum()"
   ]
  },
  {
   "cell_type": "markdown",
   "metadata": {},
   "source": [
    "Во скольких населённых пунктах:"
   ]
  },
  {
   "cell_type": "code",
   "execution_count": 49,
   "metadata": {},
   "outputs": [
    {
     "data": {
      "text/plain": [
       "302"
      ]
     },
     "execution_count": 49,
     "metadata": {},
     "output_type": "execute_result"
    }
   ],
   "source": [
    "len(df[df['cityCenters_nearest'].isnull()]['locality_name'].unique())"
   ]
  },
  {
   "cell_type": "markdown",
   "metadata": {},
   "source": [
    "#### Приведение к целочисленному формату"
   ]
  },
  {
   "cell_type": "code",
   "execution_count": 50,
   "metadata": {},
   "outputs": [],
   "source": [
    "# float63 -> int64\n",
    "\n",
    "list_of_cols_to_int = ['balcony', 'floors_total', 'days_exposition']\n",
    "\n",
    "for col in list_of_cols_to_int:\n",
    "    df[col] = df[col].astype('int')\n"
   ]
  },
  {
   "cell_type": "code",
   "execution_count": 51,
   "metadata": {},
   "outputs": [
    {
     "name": "stdout",
     "output_type": "stream",
     "text": [
      "<class 'pandas.core.frame.DataFrame'>\n",
      "RangeIndex: 23699 entries, 0 to 23698\n",
      "Data columns (total 22 columns):\n",
      "total_images            23699 non-null int64\n",
      "last_price              23699 non-null float64\n",
      "total_area              23699 non-null float64\n",
      "first_day_exposition    23699 non-null object\n",
      "rooms                   23699 non-null int64\n",
      "ceiling_height          14504 non-null float64\n",
      "floors_total            23699 non-null int64\n",
      "living_area             23699 non-null float64\n",
      "floor                   23699 non-null int64\n",
      "is_apartment            2775 non-null object\n",
      "studio                  23699 non-null bool\n",
      "open_plan               23699 non-null bool\n",
      "kitchen_area            21421 non-null float64\n",
      "balcony                 23699 non-null int64\n",
      "locality_name           23650 non-null object\n",
      "airports_nearest        18861 non-null float64\n",
      "cityCenters_nearest     18861 non-null float64\n",
      "parks_around3000        18181 non-null float64\n",
      "parks_nearest           8079 non-null float64\n",
      "ponds_around3000        18181 non-null float64\n",
      "ponds_nearest           9110 non-null float64\n",
      "days_exposition         23699 non-null int64\n",
      "dtypes: bool(2), float64(11), int64(6), object(3)\n",
      "memory usage: 3.7+ MB\n"
     ]
    }
   ],
   "source": [
    "df.info()"
   ]
  },
  {
   "cell_type": "markdown",
   "metadata": {},
   "source": [
    "Переведём цену в миллионы:"
   ]
  },
  {
   "cell_type": "code",
   "execution_count": 52,
   "metadata": {},
   "outputs": [],
   "source": [
    "df['last_price'] = df['last_price'] / 10**6"
   ]
  },
  {
   "cell_type": "code",
   "execution_count": 53,
   "metadata": {},
   "outputs": [],
   "source": [
    "df['last_price'] = df['last_price'].round(3)"
   ]
  },
  {
   "cell_type": "markdown",
   "metadata": {},
   "source": [
    "### Шаг 3. Посчитайте и добавьте в таблицу"
   ]
  },
  {
   "cell_type": "markdown",
   "metadata": {},
   "source": [
    "#### Стоимость квадратного метра\n",
    "\n",
    "$$square\\_meter\\_price = \\frac{last\\_price}{total\\_area}$$"
   ]
  },
  {
   "cell_type": "code",
   "execution_count": 54,
   "metadata": {},
   "outputs": [],
   "source": [
    "df['square_meter_price'] = df['last_price'] / df['total_area']"
   ]
  },
  {
   "cell_type": "markdown",
   "metadata": {},
   "source": [
    "#### День недели, месяц и год публикации объявления.\n",
    "\n",
    "Сначала приведем `first_day_exposition`  к формату %Y-%m-%d:"
   ]
  },
  {
   "cell_type": "code",
   "execution_count": 55,
   "metadata": {},
   "outputs": [],
   "source": [
    "df['first_day_exposition'] = pd.to_datetime(df['first_day_exposition'], format='%Y-%m-%d')"
   ]
  },
  {
   "cell_type": "code",
   "execution_count": 56,
   "metadata": {},
   "outputs": [],
   "source": [
    "df['day_exposition'] = df['first_day_exposition'].dt.dayofweek\n",
    "df['month_exposition'] = df['first_day_exposition'].dt.month\n",
    "df['year_exposition'] = df['first_day_exposition'].dt.year"
   ]
  },
  {
   "cell_type": "markdown",
   "metadata": {},
   "source": [
    "Функция для категоризации этажа:"
   ]
  },
  {
   "cell_type": "code",
   "execution_count": 57,
   "metadata": {},
   "outputs": [],
   "source": [
    "def cat_floor(row):\n",
    "    if row['floor'] == 1:\n",
    "        return 'первый'\n",
    "    elif row['floor'] == row['floors_total']:\n",
    "        return 'последний'\n",
    "    else:\n",
    "        return 'другой'"
   ]
  },
  {
   "cell_type": "code",
   "execution_count": 58,
   "metadata": {
    "scrolled": false
   },
   "outputs": [],
   "source": [
    "df['floor'] = df.apply(cat_floor, axis=1)"
   ]
  },
  {
   "cell_type": "markdown",
   "metadata": {},
   "source": [
    "Cоотношение жилой и общей площади:"
   ]
  },
  {
   "cell_type": "code",
   "execution_count": 59,
   "metadata": {},
   "outputs": [],
   "source": [
    "df['living_total_ratio'] = df['living_area'] / df['total_area']"
   ]
  },
  {
   "cell_type": "markdown",
   "metadata": {},
   "source": [
    "Отношение площади кухни к общей:"
   ]
  },
  {
   "cell_type": "code",
   "execution_count": 60,
   "metadata": {},
   "outputs": [],
   "source": [
    "df['kitchen_total_ratio'] = df['kitchen_area'] / df['total_area']"
   ]
  },
  {
   "cell_type": "markdown",
   "metadata": {},
   "source": [
    "Посмотрим на добавленные столбцы:"
   ]
  },
  {
   "cell_type": "code",
   "execution_count": 61,
   "metadata": {},
   "outputs": [
    {
     "data": {
      "text/html": [
       "<div>\n",
       "<style scoped>\n",
       "    .dataframe tbody tr th:only-of-type {\n",
       "        vertical-align: middle;\n",
       "    }\n",
       "\n",
       "    .dataframe tbody tr th {\n",
       "        vertical-align: top;\n",
       "    }\n",
       "\n",
       "    .dataframe thead th {\n",
       "        text-align: right;\n",
       "    }\n",
       "</style>\n",
       "<table border=\"1\" class=\"dataframe\">\n",
       "  <thead>\n",
       "    <tr style=\"text-align: right;\">\n",
       "      <th></th>\n",
       "      <th>total_images</th>\n",
       "      <th>last_price</th>\n",
       "      <th>total_area</th>\n",
       "      <th>first_day_exposition</th>\n",
       "      <th>rooms</th>\n",
       "      <th>ceiling_height</th>\n",
       "      <th>floors_total</th>\n",
       "      <th>living_area</th>\n",
       "      <th>floor</th>\n",
       "      <th>is_apartment</th>\n",
       "      <th>...</th>\n",
       "      <th>parks_nearest</th>\n",
       "      <th>ponds_around3000</th>\n",
       "      <th>ponds_nearest</th>\n",
       "      <th>days_exposition</th>\n",
       "      <th>square_meter_price</th>\n",
       "      <th>day_exposition</th>\n",
       "      <th>month_exposition</th>\n",
       "      <th>year_exposition</th>\n",
       "      <th>living_total_ratio</th>\n",
       "      <th>kitchen_total_ratio</th>\n",
       "    </tr>\n",
       "  </thead>\n",
       "  <tbody>\n",
       "    <tr>\n",
       "      <td>0</td>\n",
       "      <td>20</td>\n",
       "      <td>13.000</td>\n",
       "      <td>108.0</td>\n",
       "      <td>2019-03-07</td>\n",
       "      <td>3</td>\n",
       "      <td>2.70</td>\n",
       "      <td>16</td>\n",
       "      <td>51.0</td>\n",
       "      <td>другой</td>\n",
       "      <td>NaN</td>\n",
       "      <td>...</td>\n",
       "      <td>482.0</td>\n",
       "      <td>2.0</td>\n",
       "      <td>755.0</td>\n",
       "      <td>95</td>\n",
       "      <td>0.120370</td>\n",
       "      <td>3</td>\n",
       "      <td>3</td>\n",
       "      <td>2019</td>\n",
       "      <td>0.472222</td>\n",
       "      <td>0.231481</td>\n",
       "    </tr>\n",
       "    <tr>\n",
       "      <td>1</td>\n",
       "      <td>7</td>\n",
       "      <td>3.350</td>\n",
       "      <td>40.4</td>\n",
       "      <td>2018-12-04</td>\n",
       "      <td>1</td>\n",
       "      <td>NaN</td>\n",
       "      <td>11</td>\n",
       "      <td>18.6</td>\n",
       "      <td>первый</td>\n",
       "      <td>NaN</td>\n",
       "      <td>...</td>\n",
       "      <td>NaN</td>\n",
       "      <td>0.0</td>\n",
       "      <td>NaN</td>\n",
       "      <td>81</td>\n",
       "      <td>0.082921</td>\n",
       "      <td>1</td>\n",
       "      <td>12</td>\n",
       "      <td>2018</td>\n",
       "      <td>0.460396</td>\n",
       "      <td>0.272277</td>\n",
       "    </tr>\n",
       "    <tr>\n",
       "      <td>2</td>\n",
       "      <td>10</td>\n",
       "      <td>5.196</td>\n",
       "      <td>56.0</td>\n",
       "      <td>2015-08-20</td>\n",
       "      <td>2</td>\n",
       "      <td>NaN</td>\n",
       "      <td>5</td>\n",
       "      <td>34.3</td>\n",
       "      <td>другой</td>\n",
       "      <td>NaN</td>\n",
       "      <td>...</td>\n",
       "      <td>90.0</td>\n",
       "      <td>2.0</td>\n",
       "      <td>574.0</td>\n",
       "      <td>558</td>\n",
       "      <td>0.092786</td>\n",
       "      <td>3</td>\n",
       "      <td>8</td>\n",
       "      <td>2015</td>\n",
       "      <td>0.612500</td>\n",
       "      <td>0.148214</td>\n",
       "    </tr>\n",
       "    <tr>\n",
       "      <td>3</td>\n",
       "      <td>0</td>\n",
       "      <td>64.900</td>\n",
       "      <td>159.0</td>\n",
       "      <td>2015-07-24</td>\n",
       "      <td>3</td>\n",
       "      <td>NaN</td>\n",
       "      <td>14</td>\n",
       "      <td>30.0</td>\n",
       "      <td>другой</td>\n",
       "      <td>NaN</td>\n",
       "      <td>...</td>\n",
       "      <td>84.0</td>\n",
       "      <td>3.0</td>\n",
       "      <td>234.0</td>\n",
       "      <td>424</td>\n",
       "      <td>0.408176</td>\n",
       "      <td>4</td>\n",
       "      <td>7</td>\n",
       "      <td>2015</td>\n",
       "      <td>0.188679</td>\n",
       "      <td>NaN</td>\n",
       "    </tr>\n",
       "    <tr>\n",
       "      <td>4</td>\n",
       "      <td>2</td>\n",
       "      <td>10.000</td>\n",
       "      <td>100.0</td>\n",
       "      <td>2018-06-19</td>\n",
       "      <td>2</td>\n",
       "      <td>3.03</td>\n",
       "      <td>14</td>\n",
       "      <td>32.0</td>\n",
       "      <td>другой</td>\n",
       "      <td>NaN</td>\n",
       "      <td>...</td>\n",
       "      <td>112.0</td>\n",
       "      <td>1.0</td>\n",
       "      <td>48.0</td>\n",
       "      <td>121</td>\n",
       "      <td>0.100000</td>\n",
       "      <td>1</td>\n",
       "      <td>6</td>\n",
       "      <td>2018</td>\n",
       "      <td>0.320000</td>\n",
       "      <td>0.410000</td>\n",
       "    </tr>\n",
       "  </tbody>\n",
       "</table>\n",
       "<p>5 rows × 28 columns</p>\n",
       "</div>"
      ],
      "text/plain": [
       "   total_images  last_price  total_area first_day_exposition  rooms  \\\n",
       "0            20      13.000       108.0           2019-03-07      3   \n",
       "1             7       3.350        40.4           2018-12-04      1   \n",
       "2            10       5.196        56.0           2015-08-20      2   \n",
       "3             0      64.900       159.0           2015-07-24      3   \n",
       "4             2      10.000       100.0           2018-06-19      2   \n",
       "\n",
       "   ceiling_height  floors_total  living_area   floor is_apartment  ...  \\\n",
       "0            2.70            16         51.0  другой          NaN  ...   \n",
       "1             NaN            11         18.6  первый          NaN  ...   \n",
       "2             NaN             5         34.3  другой          NaN  ...   \n",
       "3             NaN            14         30.0  другой          NaN  ...   \n",
       "4            3.03            14         32.0  другой          NaN  ...   \n",
       "\n",
       "   parks_nearest  ponds_around3000  ponds_nearest  days_exposition  \\\n",
       "0          482.0               2.0          755.0               95   \n",
       "1            NaN               0.0            NaN               81   \n",
       "2           90.0               2.0          574.0              558   \n",
       "3           84.0               3.0          234.0              424   \n",
       "4          112.0               1.0           48.0              121   \n",
       "\n",
       "  square_meter_price  day_exposition  month_exposition  year_exposition  \\\n",
       "0           0.120370               3                 3             2019   \n",
       "1           0.082921               1                12             2018   \n",
       "2           0.092786               3                 8             2015   \n",
       "3           0.408176               4                 7             2015   \n",
       "4           0.100000               1                 6             2018   \n",
       "\n",
       "   living_total_ratio  kitchen_total_ratio  \n",
       "0            0.472222             0.231481  \n",
       "1            0.460396             0.272277  \n",
       "2            0.612500             0.148214  \n",
       "3            0.188679                  NaN  \n",
       "4            0.320000             0.410000  \n",
       "\n",
       "[5 rows x 28 columns]"
      ]
     },
     "execution_count": 61,
     "metadata": {},
     "output_type": "execute_result"
    }
   ],
   "source": [
    "df.head()"
   ]
  },
  {
   "cell_type": "markdown",
   "metadata": {},
   "source": [
    "#### Категория СПб / не СПб"
   ]
  },
  {
   "cell_type": "code",
   "execution_count": 62,
   "metadata": {},
   "outputs": [],
   "source": [
    "def cat_spb(name):\n",
    "    if name == 'Санкт-Петербург':\n",
    "        return True\n",
    "    return  False"
   ]
  },
  {
   "cell_type": "code",
   "execution_count": 63,
   "metadata": {},
   "outputs": [
    {
     "data": {
      "text/html": [
       "<div>\n",
       "<style scoped>\n",
       "    .dataframe tbody tr th:only-of-type {\n",
       "        vertical-align: middle;\n",
       "    }\n",
       "\n",
       "    .dataframe tbody tr th {\n",
       "        vertical-align: top;\n",
       "    }\n",
       "\n",
       "    .dataframe thead th {\n",
       "        text-align: right;\n",
       "    }\n",
       "</style>\n",
       "<table border=\"1\" class=\"dataframe\">\n",
       "  <thead>\n",
       "    <tr style=\"text-align: right;\">\n",
       "      <th></th>\n",
       "      <th>total_images</th>\n",
       "      <th>last_price</th>\n",
       "      <th>total_area</th>\n",
       "      <th>first_day_exposition</th>\n",
       "      <th>rooms</th>\n",
       "      <th>ceiling_height</th>\n",
       "      <th>floors_total</th>\n",
       "      <th>living_area</th>\n",
       "      <th>floor</th>\n",
       "      <th>is_apartment</th>\n",
       "      <th>...</th>\n",
       "      <th>ponds_around3000</th>\n",
       "      <th>ponds_nearest</th>\n",
       "      <th>days_exposition</th>\n",
       "      <th>square_meter_price</th>\n",
       "      <th>day_exposition</th>\n",
       "      <th>month_exposition</th>\n",
       "      <th>year_exposition</th>\n",
       "      <th>living_total_ratio</th>\n",
       "      <th>kitchen_total_ratio</th>\n",
       "      <th>is_spb</th>\n",
       "    </tr>\n",
       "  </thead>\n",
       "  <tbody>\n",
       "    <tr>\n",
       "      <td>0</td>\n",
       "      <td>20</td>\n",
       "      <td>13.000</td>\n",
       "      <td>108.0</td>\n",
       "      <td>2019-03-07</td>\n",
       "      <td>3</td>\n",
       "      <td>2.70</td>\n",
       "      <td>16</td>\n",
       "      <td>51.0</td>\n",
       "      <td>другой</td>\n",
       "      <td>NaN</td>\n",
       "      <td>...</td>\n",
       "      <td>2.0</td>\n",
       "      <td>755.0</td>\n",
       "      <td>95</td>\n",
       "      <td>0.120370</td>\n",
       "      <td>3</td>\n",
       "      <td>3</td>\n",
       "      <td>2019</td>\n",
       "      <td>0.472222</td>\n",
       "      <td>0.231481</td>\n",
       "      <td>True</td>\n",
       "    </tr>\n",
       "    <tr>\n",
       "      <td>1</td>\n",
       "      <td>7</td>\n",
       "      <td>3.350</td>\n",
       "      <td>40.4</td>\n",
       "      <td>2018-12-04</td>\n",
       "      <td>1</td>\n",
       "      <td>NaN</td>\n",
       "      <td>11</td>\n",
       "      <td>18.6</td>\n",
       "      <td>первый</td>\n",
       "      <td>NaN</td>\n",
       "      <td>...</td>\n",
       "      <td>0.0</td>\n",
       "      <td>NaN</td>\n",
       "      <td>81</td>\n",
       "      <td>0.082921</td>\n",
       "      <td>1</td>\n",
       "      <td>12</td>\n",
       "      <td>2018</td>\n",
       "      <td>0.460396</td>\n",
       "      <td>0.272277</td>\n",
       "      <td>False</td>\n",
       "    </tr>\n",
       "    <tr>\n",
       "      <td>2</td>\n",
       "      <td>10</td>\n",
       "      <td>5.196</td>\n",
       "      <td>56.0</td>\n",
       "      <td>2015-08-20</td>\n",
       "      <td>2</td>\n",
       "      <td>NaN</td>\n",
       "      <td>5</td>\n",
       "      <td>34.3</td>\n",
       "      <td>другой</td>\n",
       "      <td>NaN</td>\n",
       "      <td>...</td>\n",
       "      <td>2.0</td>\n",
       "      <td>574.0</td>\n",
       "      <td>558</td>\n",
       "      <td>0.092786</td>\n",
       "      <td>3</td>\n",
       "      <td>8</td>\n",
       "      <td>2015</td>\n",
       "      <td>0.612500</td>\n",
       "      <td>0.148214</td>\n",
       "      <td>True</td>\n",
       "    </tr>\n",
       "    <tr>\n",
       "      <td>3</td>\n",
       "      <td>0</td>\n",
       "      <td>64.900</td>\n",
       "      <td>159.0</td>\n",
       "      <td>2015-07-24</td>\n",
       "      <td>3</td>\n",
       "      <td>NaN</td>\n",
       "      <td>14</td>\n",
       "      <td>30.0</td>\n",
       "      <td>другой</td>\n",
       "      <td>NaN</td>\n",
       "      <td>...</td>\n",
       "      <td>3.0</td>\n",
       "      <td>234.0</td>\n",
       "      <td>424</td>\n",
       "      <td>0.408176</td>\n",
       "      <td>4</td>\n",
       "      <td>7</td>\n",
       "      <td>2015</td>\n",
       "      <td>0.188679</td>\n",
       "      <td>NaN</td>\n",
       "      <td>True</td>\n",
       "    </tr>\n",
       "    <tr>\n",
       "      <td>4</td>\n",
       "      <td>2</td>\n",
       "      <td>10.000</td>\n",
       "      <td>100.0</td>\n",
       "      <td>2018-06-19</td>\n",
       "      <td>2</td>\n",
       "      <td>3.03</td>\n",
       "      <td>14</td>\n",
       "      <td>32.0</td>\n",
       "      <td>другой</td>\n",
       "      <td>NaN</td>\n",
       "      <td>...</td>\n",
       "      <td>1.0</td>\n",
       "      <td>48.0</td>\n",
       "      <td>121</td>\n",
       "      <td>0.100000</td>\n",
       "      <td>1</td>\n",
       "      <td>6</td>\n",
       "      <td>2018</td>\n",
       "      <td>0.320000</td>\n",
       "      <td>0.410000</td>\n",
       "      <td>True</td>\n",
       "    </tr>\n",
       "  </tbody>\n",
       "</table>\n",
       "<p>5 rows × 29 columns</p>\n",
       "</div>"
      ],
      "text/plain": [
       "   total_images  last_price  total_area first_day_exposition  rooms  \\\n",
       "0            20      13.000       108.0           2019-03-07      3   \n",
       "1             7       3.350        40.4           2018-12-04      1   \n",
       "2            10       5.196        56.0           2015-08-20      2   \n",
       "3             0      64.900       159.0           2015-07-24      3   \n",
       "4             2      10.000       100.0           2018-06-19      2   \n",
       "\n",
       "   ceiling_height  floors_total  living_area   floor is_apartment  ...  \\\n",
       "0            2.70            16         51.0  другой          NaN  ...   \n",
       "1             NaN            11         18.6  первый          NaN  ...   \n",
       "2             NaN             5         34.3  другой          NaN  ...   \n",
       "3             NaN            14         30.0  другой          NaN  ...   \n",
       "4            3.03            14         32.0  другой          NaN  ...   \n",
       "\n",
       "   ponds_around3000  ponds_nearest  days_exposition  square_meter_price  \\\n",
       "0               2.0          755.0               95            0.120370   \n",
       "1               0.0            NaN               81            0.082921   \n",
       "2               2.0          574.0              558            0.092786   \n",
       "3               3.0          234.0              424            0.408176   \n",
       "4               1.0           48.0              121            0.100000   \n",
       "\n",
       "  day_exposition  month_exposition  year_exposition  living_total_ratio  \\\n",
       "0              3                 3             2019            0.472222   \n",
       "1              1                12             2018            0.460396   \n",
       "2              3                 8             2015            0.612500   \n",
       "3              4                 7             2015            0.188679   \n",
       "4              1                 6             2018            0.320000   \n",
       "\n",
       "   kitchen_total_ratio  is_spb  \n",
       "0             0.231481    True  \n",
       "1             0.272277   False  \n",
       "2             0.148214    True  \n",
       "3                  NaN    True  \n",
       "4             0.410000    True  \n",
       "\n",
       "[5 rows x 29 columns]"
      ]
     },
     "execution_count": 63,
     "metadata": {},
     "output_type": "execute_result"
    }
   ],
   "source": [
    "df['is_spb'] = df['locality_name'].apply(cat_spb)\n",
    "df.head()"
   ]
  },
  {
   "cell_type": "markdown",
   "metadata": {},
   "source": [
    "### Шаг 4. Проведите исследовательский анализ данных и выполните инструкции:"
   ]
  },
  {
   "cell_type": "markdown",
   "metadata": {},
   "source": [
    "Изучим следующие параметры: площадь, цена, число комнат, высота потолков. \n",
    "\n",
    "Построим гистограммы для каждого параметра.\n",
    "\n",
    "#### Площадь"
   ]
  },
  {
   "cell_type": "code",
   "execution_count": 64,
   "metadata": {},
   "outputs": [
    {
     "data": {
      "text/plain": [
       "count    23699.000000\n",
       "mean        60.365683\n",
       "std         35.637640\n",
       "min         12.000000\n",
       "25%         40.000000\n",
       "50%         52.000000\n",
       "75%         69.900000\n",
       "max        900.000000\n",
       "Name: total_area, dtype: float64"
      ]
     },
     "execution_count": 64,
     "metadata": {},
     "output_type": "execute_result"
    }
   ],
   "source": [
    "df['total_area'].describe()"
   ]
  },
  {
   "cell_type": "code",
   "execution_count": 65,
   "metadata": {},
   "outputs": [
    {
     "data": {
      "image/png": "[encoded data removed]",
      "text/plain": [
       "<Figure size 432x288 with 1 Axes>"
      ]
     },
     "metadata": {
      "needs_background": "light"
     },
     "output_type": "display_data"
    }
   ],
   "source": [
    "plt.plot(figsize=(5,10))\n",
    "plt.ylim(0, 200)\n",
    "df.boxplot('total_area')\n",
    "plt.show()"
   ]
  },
  {
   "cell_type": "markdown",
   "metadata": {},
   "source": [
    "Большая часть значений лежит в диапазоне до 70 кв.м., что выглядит правдаподобно.\n",
    "\n",
    "Нижний \"ус\" упирается в ~12, минимальное значение. \n",
    "\n",
    "Верхний \"ус\" упирается в 115 кв.м.\n",
    "\n",
    "Все, что лежит за ориентировочной границей нормального размаха, считаем выбросом."
   ]
  },
  {
   "cell_type": "code",
   "execution_count": 66,
   "metadata": {},
   "outputs": [
    {
     "data": {
      "image/png": "[encoded data removed]",
      "text/plain": [
       "<Figure size 432x288 with 1 Axes>"
      ]
     },
     "metadata": {
      "needs_background": "light"
     },
     "output_type": "display_data"
    },
    {
     "data": {
      "image/png": "[encoded data removed]",
      "text/plain": [
       "<Figure size 432x288 with 1 Axes>"
      ]
     },
     "metadata": {
      "needs_background": "light"
     },
     "output_type": "display_data"
    }
   ],
   "source": [
    "# грязные данные\n",
    "df['total_area'].hist(bins=100)\n",
    "plt.show()\n",
    "\n",
    "# данные без выбросов и ошибок\n",
    "df.query('total_area >= 12 and total_area <= 118')['total_area'].hist()\n",
    "plt.show()\n",
    "\n",
    "#фильтр данных\n",
    "total_area_query = 'total_area >= 12 and total_area <= 118'"
   ]
  },
  {
   "cell_type": "markdown",
   "metadata": {},
   "source": [
    "**Цена**"
   ]
  },
  {
   "cell_type": "code",
   "execution_count": 67,
   "metadata": {},
   "outputs": [
    {
     "data": {
      "text/plain": [
       "count    23699.000000\n",
       "mean         6.541549\n",
       "std         10.887013\n",
       "min          0.012000\n",
       "25%          3.400000\n",
       "50%          4.650000\n",
       "75%          6.800000\n",
       "max        763.000000\n",
       "Name: last_price, dtype: float64"
      ]
     },
     "execution_count": 67,
     "metadata": {},
     "output_type": "execute_result"
    }
   ],
   "source": [
    "df['last_price'].describe()"
   ]
  },
  {
   "cell_type": "code",
   "execution_count": 68,
   "metadata": {},
   "outputs": [
    {
     "data": {
      "text/plain": [
       "<matplotlib.axes._subplots.AxesSubplot at 0x11a813e90>"
      ]
     },
     "execution_count": 68,
     "metadata": {},
     "output_type": "execute_result"
    },
    {
     "data": {
      "image/png": "[encoded data removed]",
      "text/plain": [
       "<Figure size 720x504 with 1 Axes>"
      ]
     },
     "metadata": {
      "needs_background": "light"
     },
     "output_type": "display_data"
    }
   ],
   "source": [
    "plot = df.boxplot('last_price', figsize=(10,7))\n",
    "plot.set_ylim(-df['last_price'].min()*10,df['last_price'].mean()*2.5)\n",
    "plot"
   ]
  },
  {
   "cell_type": "markdown",
   "metadata": {},
   "source": [
    "Большинство значений укладывается до 7 млн, а средняя цена около 6.5 млн, это выглядит правдоподобно.\n",
    "\n",
    "Однако минимальная цена составляет 12190 рублей, куда и упирается нижний \"ус ящика\".\n"
   ]
  },
  {
   "cell_type": "markdown",
   "metadata": {},
   "source": [
    "Сравним  цены на жильё в СПб и не в СПб:\n",
    "\n",
    "По логике вещей в СПб цены должны быть выше."
   ]
  },
  {
   "cell_type": "code",
   "execution_count": 69,
   "metadata": {},
   "outputs": [
    {
     "data": {
      "text/plain": [
       "<matplotlib.axes._subplots.AxesSubplot at 0x119e4f450>"
      ]
     },
     "execution_count": 69,
     "metadata": {},
     "output_type": "execute_result"
    },
    {
     "data": {
      "image/png": "[encoded data removed]",
      "text/plain": [
       "<Figure size 720x504 with 1 Axes>"
      ]
     },
     "metadata": {
      "needs_background": "light"
     },
     "output_type": "display_data"
    }
   ],
   "source": [
    "plot = df.boxplot('last_price', by='is_spb', figsize=(10,7))\n",
    "plot.set_ylim(-df['last_price'].min()*10,df['last_price'].mean()*2.5)\n",
    "plot"
   ]
  },
  {
   "cell_type": "markdown",
   "metadata": {},
   "source": [
    "Цены в Санкт-Петербурге действительно выше, как и средняя цена.\n",
    "\n",
    "Но, судя по всему, самая маленькая цена тоже оказалась в Санкт-Петербурге.\n",
    "\n",
    "Отсеим подобные экземпляры с подозрительно низкой ценой, например, до 500 тыс."
   ]
  },
  {
   "cell_type": "code",
   "execution_count": 70,
   "metadata": {},
   "outputs": [
    {
     "data": {
      "text/html": [
       "<div>\n",
       "<style scoped>\n",
       "    .dataframe tbody tr th:only-of-type {\n",
       "        vertical-align: middle;\n",
       "    }\n",
       "\n",
       "    .dataframe tbody tr th {\n",
       "        vertical-align: top;\n",
       "    }\n",
       "\n",
       "    .dataframe thead th {\n",
       "        text-align: right;\n",
       "    }\n",
       "</style>\n",
       "<table border=\"1\" class=\"dataframe\">\n",
       "  <thead>\n",
       "    <tr style=\"text-align: right;\">\n",
       "      <th></th>\n",
       "      <th>locality_name</th>\n",
       "      <th>last_price</th>\n",
       "      <th>total_area</th>\n",
       "      <th>square_meter_price</th>\n",
       "    </tr>\n",
       "  </thead>\n",
       "  <tbody>\n",
       "    <tr>\n",
       "      <td>8793</td>\n",
       "      <td>Санкт-Петербург</td>\n",
       "      <td>0.012</td>\n",
       "      <td>109.0</td>\n",
       "      <td>0.000110</td>\n",
       "    </tr>\n",
       "    <tr>\n",
       "      <td>14911</td>\n",
       "      <td>поселок станции Свирь</td>\n",
       "      <td>0.430</td>\n",
       "      <td>54.0</td>\n",
       "      <td>0.007963</td>\n",
       "    </tr>\n",
       "    <tr>\n",
       "      <td>17456</td>\n",
       "      <td>Сланцы</td>\n",
       "      <td>0.430</td>\n",
       "      <td>30.4</td>\n",
       "      <td>0.014145</td>\n",
       "    </tr>\n",
       "    <tr>\n",
       "      <td>16274</td>\n",
       "      <td>деревня Старополье</td>\n",
       "      <td>0.440</td>\n",
       "      <td>40.0</td>\n",
       "      <td>0.011000</td>\n",
       "    </tr>\n",
       "    <tr>\n",
       "      <td>5698</td>\n",
       "      <td>городской поселок Будогощь</td>\n",
       "      <td>0.450</td>\n",
       "      <td>42.0</td>\n",
       "      <td>0.010714</td>\n",
       "    </tr>\n",
       "    <tr>\n",
       "      <td>9581</td>\n",
       "      <td>деревня Старополье</td>\n",
       "      <td>0.450</td>\n",
       "      <td>43.4</td>\n",
       "      <td>0.010369</td>\n",
       "    </tr>\n",
       "    <tr>\n",
       "      <td>16219</td>\n",
       "      <td>деревня Вахнова Кара</td>\n",
       "      <td>0.450</td>\n",
       "      <td>38.5</td>\n",
       "      <td>0.011688</td>\n",
       "    </tr>\n",
       "    <tr>\n",
       "      <td>17676</td>\n",
       "      <td>деревня Ям-Тесово</td>\n",
       "      <td>0.450</td>\n",
       "      <td>36.5</td>\n",
       "      <td>0.012329</td>\n",
       "    </tr>\n",
       "    <tr>\n",
       "      <td>18867</td>\n",
       "      <td>деревня Выскатка</td>\n",
       "      <td>0.470</td>\n",
       "      <td>41.0</td>\n",
       "      <td>0.011463</td>\n",
       "    </tr>\n",
       "    <tr>\n",
       "      <td>21912</td>\n",
       "      <td>поселок Совхозный</td>\n",
       "      <td>0.470</td>\n",
       "      <td>37.0</td>\n",
       "      <td>0.012703</td>\n",
       "    </tr>\n",
       "  </tbody>\n",
       "</table>\n",
       "</div>"
      ],
      "text/plain": [
       "                    locality_name  last_price  total_area  square_meter_price\n",
       "8793              Санкт-Петербург       0.012       109.0            0.000110\n",
       "14911       поселок станции Свирь       0.430        54.0            0.007963\n",
       "17456                      Сланцы       0.430        30.4            0.014145\n",
       "16274          деревня Старополье       0.440        40.0            0.011000\n",
       "5698   городской поселок Будогощь       0.450        42.0            0.010714\n",
       "9581           деревня Старополье       0.450        43.4            0.010369\n",
       "16219        деревня Вахнова Кара       0.450        38.5            0.011688\n",
       "17676           деревня Ям-Тесово       0.450        36.5            0.012329\n",
       "18867            деревня Выскатка       0.470        41.0            0.011463\n",
       "21912           поселок Совхозный       0.470        37.0            0.012703"
      ]
     },
     "execution_count": 70,
     "metadata": {},
     "output_type": "execute_result"
    }
   ],
   "source": [
    "df_cheapest = df.query('last_price < 0.5')\n",
    "df_cheapest.sort_values('last_price').head(10)[['locality_name', 'last_price', 'total_area', 'square_meter_price']]"
   ]
  },
  {
   "cell_type": "markdown",
   "metadata": {},
   "source": [
    "112 рублей за метр, да ещё и в Петербурге - фантастика!\n",
    "\n",
    "Пусть нижней границей выбросов станут Сланцы, потому что 4,4 млн - уже достаточно правдоподобная цена для жилья в деревне.\n",
    "\n",
    "Верхний ус вне Спб заканчивается на 7 млн, в то время как в Спб – на 14 млн.\n",
    "\n",
    "В общих данных верхняя граница - 12 млн.\n",
    "\n",
    "Опустим это сверхдорогое жилье, дворцы и замки."
   ]
  },
  {
   "cell_type": "code",
   "execution_count": 71,
   "metadata": {},
   "outputs": [
    {
     "data": {
      "image/png": "[encoded data removed]",
      "text/plain": [
       "<Figure size 432x288 with 1 Axes>"
      ]
     },
     "metadata": {
      "needs_background": "light"
     },
     "output_type": "display_data"
    },
    {
     "data": {
      "image/png": "[encoded data removed]",
      "text/plain": [
       "<Figure size 432x288 with 1 Axes>"
      ]
     },
     "metadata": {
      "needs_background": "light"
     },
     "output_type": "display_data"
    }
   ],
   "source": [
    "# грязные данные\n",
    "df['last_price'].hist(bins=100)\n",
    "plt.show()\n",
    "\n",
    "# данные без выбросов\n",
    "df.query('last_price >= 0.43 and last_price <= 12')['last_price'].hist()\n",
    "plt.show()\n",
    "\n",
    "# фильтр данных\n",
    "last_price_query = 'last_price >= 0.43 and last_price <= 12'"
   ]
  },
  {
   "cell_type": "markdown",
   "metadata": {},
   "source": [
    "Визуально данные без выбросов похожи на распределение Пуассона :)"
   ]
  },
  {
   "cell_type": "markdown",
   "metadata": {},
   "source": [
    "#### Число комнат"
   ]
  },
  {
   "cell_type": "code",
   "execution_count": 72,
   "metadata": {},
   "outputs": [
    {
     "data": {
      "text/plain": [
       "count    23699.000000\n",
       "mean         2.070636\n",
       "std          1.078405\n",
       "min          0.000000\n",
       "25%          1.000000\n",
       "50%          2.000000\n",
       "75%          3.000000\n",
       "max         19.000000\n",
       "Name: rooms, dtype: float64"
      ]
     },
     "execution_count": 72,
     "metadata": {},
     "output_type": "execute_result"
    }
   ],
   "source": [
    "df['rooms'].describe()"
   ]
  },
  {
   "cell_type": "code",
   "execution_count": 73,
   "metadata": {},
   "outputs": [
    {
     "data": {
      "text/plain": [
       "<matplotlib.axes._subplots.AxesSubplot at 0x11a033950>"
      ]
     },
     "execution_count": 73,
     "metadata": {},
     "output_type": "execute_result"
    },
    {
     "data": {
      "image/png": "[encoded data removed]",
      "text/plain": [
       "<Figure size 720x504 with 1 Axes>"
      ]
     },
     "metadata": {
      "needs_background": "light"
     },
     "output_type": "display_data"
    }
   ],
   "source": [
    "plot = df.boxplot('rooms', figsize=(10,7))\n",
    "plot.set_ylim(-1,df['rooms'].max()+1)\n",
    "plot"
   ]
  },
  {
   "cell_type": "markdown",
   "metadata": {},
   "source": [
    "Большая часть значений лежит в диапазоне до 3х комнат. Это достаточно правдоподобно.\n",
    "\n",
    "Нижний \"ус\" упирается в 0, что является минимальным значением. Это ошибка в данных, даже в студиях есть 1 комната.\n",
    "\n",
    "Верхний \"ус\" упирается в 6.\n",
    "\n",
    "Выбросами посчитаем всё то, что лежит за границей."
   ]
  },
  {
   "cell_type": "code",
   "execution_count": 74,
   "metadata": {},
   "outputs": [
    {
     "data": {
      "image/png": "[encoded data removed]",
      "text/plain": [
       "<Figure size 432x288 with 1 Axes>"
      ]
     },
     "metadata": {
      "needs_background": "light"
     },
     "output_type": "display_data"
    },
    {
     "data": {
      "image/png": "[encoded data removed]",
      "text/plain": [
       "<Figure size 432x288 with 1 Axes>"
      ]
     },
     "metadata": {
      "needs_background": "light"
     },
     "output_type": "display_data"
    }
   ],
   "source": [
    "# грязные данные\n",
    "df['rooms'].hist(bins=100)\n",
    "plt.show()\n",
    "\n",
    "# данные без выбросов\n",
    "df.query('rooms >= 1 and rooms<= 6')['rooms'].hist()\n",
    "plt.show()\n",
    "\n",
    "# фильтр данных\n",
    "rooms_query = 'rooms >= 1 and rooms<= 6'"
   ]
  },
  {
   "cell_type": "markdown",
   "metadata": {},
   "source": [
    "Видно, что самые частые варианты – однушки и двушки. Иногда трёшки.\n",
    "\n",
    "И совсем иногда четверёшки."
   ]
  },
  {
   "cell_type": "markdown",
   "metadata": {},
   "source": [
    "#### Высота потолков"
   ]
  },
  {
   "cell_type": "code",
   "execution_count": 75,
   "metadata": {},
   "outputs": [
    {
     "data": {
      "text/plain": [
       "count    14504.000000\n",
       "mean         2.771499\n",
       "std          1.261056\n",
       "min          1.000000\n",
       "25%          2.520000\n",
       "50%          2.650000\n",
       "75%          2.800000\n",
       "max        100.000000\n",
       "Name: ceiling_height, dtype: float64"
      ]
     },
     "execution_count": 75,
     "metadata": {},
     "output_type": "execute_result"
    }
   ],
   "source": [
    "df['ceiling_height'].describe()"
   ]
  },
  {
   "cell_type": "code",
   "execution_count": 76,
   "metadata": {},
   "outputs": [
    {
     "data": {
      "text/plain": [
       "<matplotlib.axes._subplots.AxesSubplot at 0x1197a6390>"
      ]
     },
     "execution_count": 76,
     "metadata": {},
     "output_type": "execute_result"
    },
    {
     "data": {
      "image/png": "[encoded data removed]",
      "text/plain": [
       "<Figure size 720x504 with 1 Axes>"
      ]
     },
     "metadata": {
      "needs_background": "light"
     },
     "output_type": "display_data"
    }
   ],
   "source": [
    "plot = df.boxplot('ceiling_height', figsize=(10,7))\n",
    "plot.set_ylim(1,df['ceiling_height'].max()/20)\n",
    "plot"
   ]
  },
  {
   "cell_type": "markdown",
   "metadata": {},
   "source": [
    "бОльшая часть значений меньше 2.75-2.8, что, в принципе, нормально.\n",
    "\n",
    "Нижний \"ус\" упирается в 2.2 метра, это очень странно, потому что известно, что нормативы снип для Ленинградской области по высоте потолков - 2.5 метра.\n",
    "\n",
    "Верхний \"ус\" упирается в 3.2 метра. Приемлемо.\n",
    "\n",
    "Будем считать выбросами всё, меньше 2.5 и больше 3.2 метров."
   ]
  },
  {
   "cell_type": "code",
   "execution_count": 77,
   "metadata": {},
   "outputs": [
    {
     "data": {
      "image/png": "[encoded data removed]",
      "text/plain": [
       "<Figure size 432x288 with 1 Axes>"
      ]
     },
     "metadata": {
      "needs_background": "light"
     },
     "output_type": "display_data"
    },
    {
     "data": {
      "image/png": "[encoded data removed]",
      "text/plain": [
       "<Figure size 432x288 with 1 Axes>"
      ]
     },
     "metadata": {
      "needs_background": "light"
     },
     "output_type": "display_data"
    }
   ],
   "source": [
    "# грязные данные\n",
    "df['ceiling_height'].hist(bins=100)\n",
    "plt.show()\n",
    "\n",
    "# данные без выбросов\n",
    "df.query('ceiling_height >= 2.5 and ceiling_height <= 3.2')['ceiling_height'].hist()\n",
    "plt.show()\n",
    "\n",
    "# фильтр данных\n",
    "ceiling_height_query = 'ceiling_height >= 2.5 and ceiling_height <= 3.2'"
   ]
  },
  {
   "cell_type": "markdown",
   "metadata": {},
   "source": [
    "Любопытно, что в гистограмме с чистыми данными наблюдаются скачки.\n",
    "\n",
    "Вероятно, это \"типовые\" дома с одинаковыми потолками или просто стандартные размеры для застройщиков."
   ]
  },
  {
   "cell_type": "markdown",
   "metadata": {},
   "source": [
    "#### Время продажи квартиры"
   ]
  },
  {
   "cell_type": "code",
   "execution_count": 78,
   "metadata": {},
   "outputs": [
    {
     "data": {
      "text/plain": [
       "count    23699.000000\n",
       "mean       169.360226\n",
       "std        206.535633\n",
       "min          1.000000\n",
       "25%         45.000000\n",
       "50%         95.000000\n",
       "75%        199.000000\n",
       "max       1580.000000\n",
       "Name: days_exposition, dtype: float64"
      ]
     },
     "execution_count": 78,
     "metadata": {},
     "output_type": "execute_result"
    }
   ],
   "source": [
    "df['days_exposition'].describe()"
   ]
  },
  {
   "cell_type": "code",
   "execution_count": 79,
   "metadata": {},
   "outputs": [
    {
     "data": {
      "text/plain": [
       "<matplotlib.axes._subplots.AxesSubplot at 0x11a302f10>"
      ]
     },
     "execution_count": 79,
     "metadata": {},
     "output_type": "execute_result"
    },
    {
     "data": {
      "image/png": "[encoded data removed]",
      "text/plain": [
       "<Figure size 720x504 with 1 Axes>"
      ]
     },
     "metadata": {
      "needs_background": "light"
     },
     "output_type": "display_data"
    }
   ],
   "source": [
    "plot = df.boxplot('days_exposition', figsize=(10,7))\n",
    "plot.set_ylim(-1,df['days_exposition'].max()-500)\n",
    "plot"
   ]
  },
  {
   "cell_type": "markdown",
   "metadata": {},
   "source": [
    "Большая часть значений лежит в диапазоне от 30 до 200 дней, что выглядит правдоподобно. Если на Новый год загадать \"продать квартиру\", то вполне вероятно, что желание успеет исполниться.\n",
    "\n",
    "Первый квартиль лежит на уровне 45 дней.\n",
    "\n",
    "Нижний \"ус\" упирается в 1 день, что является минимальным значением. Продать квартиру за 1 день - об этом мечтают многие, но до конца неизвестно, насколько это реально.\n",
    "\n",
    "Верхний \"ус\" упирается в 430 дней. Всё, что больше - очень долго, почти полтора года.\n",
    "\n",
    "В среднем объявление о продаже висит около 100 дней."
   ]
  },
  {
   "cell_type": "code",
   "execution_count": 80,
   "metadata": {},
   "outputs": [
    {
     "data": {
      "image/png": "[encoded data removed]",
      "text/plain": [
       "<Figure size 432x288 with 1 Axes>"
      ]
     },
     "metadata": {
      "needs_background": "light"
     },
     "output_type": "display_data"
    },
    {
     "data": {
      "image/png": "[encoded data removed]",
      "text/plain": [
       "<Figure size 432x288 with 1 Axes>"
      ]
     },
     "metadata": {
      "needs_background": "light"
     },
     "output_type": "display_data"
    }
   ],
   "source": [
    "# грязные данные\n",
    "df['days_exposition'].hist(bins=100)\n",
    "plt.show()\n",
    "\n",
    "# данные без выбросов\n",
    "df.query('days_exposition >= 1 and days_exposition <= 430')['days_exposition'].hist(bins=100)\n",
    "plt.show()\n",
    "\n",
    "# фильтр данных\n",
    "days_exposition_query = 'days_exposition >= 1 and days_exposition <= 430'"
   ]
  },
  {
   "cell_type": "markdown",
   "metadata": {},
   "source": [
    "### Факторы, влияющие на стоимость квартиры \n",
    "#### Зависимость цены от площади, числа комнат, удалённости от центра"
   ]
  },
  {
   "cell_type": "markdown",
   "metadata": {},
   "source": [
    "Воспользуемся заранее подготовленными фильтрами данных `last_price_query`, `total_area_query`, `rooms_query`"
   ]
  },
  {
   "cell_type": "code",
   "execution_count": 81,
   "metadata": {},
   "outputs": [
    {
     "data": {
      "image/png": "[encoded data removed]",
      "text/plain": [
       "<Figure size 432x288 with 1 Axes>"
      ]
     },
     "metadata": {
      "needs_background": "light"
     },
     "output_type": "display_data"
    }
   ],
   "source": [
    "# зависимость цены от площади недвижимости\n",
    "\n",
    "price_area_query = total_area_query + ' and ' + last_price_query\n",
    "price_area_data = df.query(price_area_query)\n",
    "\n",
    "price_area_data.plot(x='total_area', y='last_price', kind='scatter', alpha=0.1)\n",
    "plt.grid(True)\n",
    "plt.show()"
   ]
  },
  {
   "cell_type": "code",
   "execution_count": 82,
   "metadata": {},
   "outputs": [
    {
     "data": {
      "text/plain": [
       "0.7016624391664827"
      ]
     },
     "execution_count": 82,
     "metadata": {},
     "output_type": "execute_result"
    }
   ],
   "source": [
    "# корреляция\n",
    "price_area_data['total_area'].corr(price_area_data['last_price'])"
   ]
  },
  {
   "cell_type": "markdown",
   "metadata": {},
   "source": [
    "По графику и значению корреляции видно, что взаимосвязь между площадью квартиры и её стоимостью есть.\n",
    "\n",
    "Больше площадь – выше цена.\n",
    "___"
   ]
  },
  {
   "cell_type": "code",
   "execution_count": 83,
   "metadata": {},
   "outputs": [
    {
     "data": {
      "image/png": "[encoded data removed]",
      "text/plain": [
       "<Figure size 432x288 with 1 Axes>"
      ]
     },
     "metadata": {
      "needs_background": "light"
     },
     "output_type": "display_data"
    }
   ],
   "source": [
    "# зависимость цены от количества комнат\n",
    "\n",
    "price_rooms_query = rooms_query + ' and ' + last_price_query\n",
    "price_rooms_data = df.query(price_rooms_query)\n",
    "\n",
    "price_rooms_data.plot(x='rooms', y='last_price', kind='scatter', alpha=0.1)\n",
    "plt.grid(True)\n",
    "plt.show()"
   ]
  },
  {
   "cell_type": "code",
   "execution_count": 84,
   "metadata": {},
   "outputs": [
    {
     "data": {
      "text/plain": [
       "0.45206222525603484"
      ]
     },
     "execution_count": 84,
     "metadata": {},
     "output_type": "execute_result"
    }
   ],
   "source": [
    "# корреляция\n",
    "price_rooms_data['rooms'].corr(price_rooms_data['last_price'])"
   ]
  },
  {
   "cell_type": "markdown",
   "metadata": {},
   "source": [
    "График и значение корреляции свидетельствуют о том, что зависимость цены от количества комнат достаточно слабая.\n",
    "\n",
    "Всё так же очевидно, что покупка очень дорогой однушки случается так же редко, как и покупка очень дешёвой четырёхкомнатной квартиры.\n",
    "___"
   ]
  },
  {
   "cell_type": "code",
   "execution_count": 85,
   "metadata": {},
   "outputs": [
    {
     "data": {
      "image/png": "[encoded data removed]",
      "text/plain": [
       "<Figure size 432x288 with 1 Axes>"
      ]
     },
     "metadata": {
      "needs_background": "light"
     },
     "output_type": "display_data"
    }
   ],
   "source": [
    "# зависимость цены от удалённости от центра\n",
    "\n",
    "last_price_data = df.query(last_price_query)\n",
    "\n",
    "last_price_data.plot(x='cityCenters_nearest', y='last_price', kind='scatter', alpha=0.3)\n",
    "plt.grid(True)\n",
    "plt.show()"
   ]
  },
  {
   "cell_type": "markdown",
   "metadata": {},
   "source": [
    "Чем ближе к центру – тем дороже.\n",
    "\n",
    "График чем-то похож на экспоненту с отрицательным показателем. И странными выбросами в районе 30000 и 50000"
   ]
  },
  {
   "cell_type": "code",
   "execution_count": 86,
   "metadata": {},
   "outputs": [
    {
     "data": {
      "text/plain": [
       "-0.36460853407630117"
      ]
     },
     "execution_count": 86,
     "metadata": {},
     "output_type": "execute_result"
    }
   ],
   "source": [
    "# корреляция\n",
    "last_price_data['cityCenters_nearest'].corr(last_price_data['last_price'])"
   ]
  },
  {
   "cell_type": "markdown",
   "metadata": {},
   "source": [
    "Коэффициент корреляции подтверждает слабую взаимосвязь того, что чем ближе к центру – тем дороже.\n",
    "\n",
    "К тому же, наверняка там расположены многокомнатные квартиры и элитное жилье.\n",
    "___"
   ]
  },
  {
   "cell_type": "code",
   "execution_count": 87,
   "metadata": {},
   "outputs": [
    {
     "data": {
      "text/html": [
       "<div>\n",
       "<style scoped>\n",
       "    .dataframe tbody tr th:only-of-type {\n",
       "        vertical-align: middle;\n",
       "    }\n",
       "\n",
       "    .dataframe tbody tr th {\n",
       "        vertical-align: top;\n",
       "    }\n",
       "\n",
       "    .dataframe thead th {\n",
       "        text-align: right;\n",
       "    }\n",
       "</style>\n",
       "<table border=\"1\" class=\"dataframe\">\n",
       "  <thead>\n",
       "    <tr style=\"text-align: right;\">\n",
       "      <th></th>\n",
       "      <th>last_price</th>\n",
       "    </tr>\n",
       "    <tr>\n",
       "      <th>floor</th>\n",
       "      <th></th>\n",
       "    </tr>\n",
       "  </thead>\n",
       "  <tbody>\n",
       "    <tr>\n",
       "      <td>другой</td>\n",
       "      <td>4.60</td>\n",
       "    </tr>\n",
       "    <tr>\n",
       "      <td>первый</td>\n",
       "      <td>3.82</td>\n",
       "    </tr>\n",
       "    <tr>\n",
       "      <td>последний</td>\n",
       "      <td>4.10</td>\n",
       "    </tr>\n",
       "  </tbody>\n",
       "</table>\n",
       "</div>"
      ],
      "text/plain": [
       "           last_price\n",
       "floor                \n",
       "другой           4.60\n",
       "первый           3.82\n",
       "последний        4.10"
      ]
     },
     "execution_count": 87,
     "metadata": {},
     "output_type": "execute_result"
    }
   ],
   "source": [
    "# зависимость цены от этажа\n",
    "\n",
    "df[['floor', 'last_price']].query(last_price_query).pivot_table(index='floor', values='last_price', aggfunc='median')"
   ]
  },
  {
   "cell_type": "markdown",
   "metadata": {},
   "source": [
    "На первом дешевше всего, там иногда и решётки на окна ставить надо.\n",
    "\n",
    "Последний – тоже на любителя, но таких любителей больше, чем на первом этаже и цена выше.\n",
    "\n",
    "Для большинства оптимальным вариантом является что-то между первым и последним этажом. Отсюда высокий спрос и рост цены.\n",
    "___"
   ]
  },
  {
   "cell_type": "code",
   "execution_count": 88,
   "metadata": {},
   "outputs": [
    {
     "data": {
      "image/png": "[encoded data removed]",
      "text/plain": [
       "<Figure size 432x288 with 1 Axes>"
      ]
     },
     "metadata": {
      "needs_background": "light"
     },
     "output_type": "display_data"
    },
    {
     "data": {
      "image/png": "[encoded data removed]",
      "text/plain": [
       "<Figure size 432x288 with 1 Axes>"
      ]
     },
     "metadata": {
      "needs_background": "light"
     },
     "output_type": "display_data"
    },
    {
     "data": {
      "image/png": "[encoded data removed]",
      "text/plain": [
       "<Figure size 432x288 with 1 Axes>"
      ]
     },
     "metadata": {
      "needs_background": "light"
     },
     "output_type": "display_data"
    }
   ],
   "source": [
    "# зависимость цены от дня недели, месяца, года публикации объявления\n",
    "\n",
    "days_exposition_data = df.query(days_exposition_query + ' and ' + last_price_query)\n",
    "\n",
    "days_exposition_data.plot(x='day_exposition', y='last_price', kind='scatter', alpha=0.01)\n",
    "plt.grid(True)\n",
    "plt.show()\n",
    "\n",
    "days_exposition_data.plot(x='month_exposition', y='last_price', kind='scatter', alpha=0.03)\n",
    "plt.grid(True)\n",
    "plt.show()\n",
    "\n",
    "days_exposition_data.plot(x='year_exposition', y='last_price', kind='scatter', alpha=0.03)\n",
    "plt.grid(True)\n",
    "plt.show()"
   ]
  },
  {
   "cell_type": "code",
   "execution_count": 89,
   "metadata": {},
   "outputs": [
    {
     "data": {
      "text/html": [
       "<div>\n",
       "<style scoped>\n",
       "    .dataframe tbody tr th:only-of-type {\n",
       "        vertical-align: middle;\n",
       "    }\n",
       "\n",
       "    .dataframe tbody tr th {\n",
       "        vertical-align: top;\n",
       "    }\n",
       "\n",
       "    .dataframe thead th {\n",
       "        text-align: right;\n",
       "    }\n",
       "</style>\n",
       "<table border=\"1\" class=\"dataframe\">\n",
       "  <thead>\n",
       "    <tr style=\"text-align: right;\">\n",
       "      <th></th>\n",
       "      <th>day_exposition</th>\n",
       "      <th>month_exposition</th>\n",
       "      <th>year_exposition</th>\n",
       "      <th>last_price</th>\n",
       "    </tr>\n",
       "  </thead>\n",
       "  <tbody>\n",
       "    <tr>\n",
       "      <td>day_exposition</td>\n",
       "      <td>1.000000</td>\n",
       "      <td>0.012449</td>\n",
       "      <td>-0.013935</td>\n",
       "      <td>-0.013260</td>\n",
       "    </tr>\n",
       "    <tr>\n",
       "      <td>month_exposition</td>\n",
       "      <td>0.012449</td>\n",
       "      <td>1.000000</td>\n",
       "      <td>-0.307590</td>\n",
       "      <td>0.002603</td>\n",
       "    </tr>\n",
       "    <tr>\n",
       "      <td>year_exposition</td>\n",
       "      <td>-0.013935</td>\n",
       "      <td>-0.307590</td>\n",
       "      <td>1.000000</td>\n",
       "      <td>0.027958</td>\n",
       "    </tr>\n",
       "    <tr>\n",
       "      <td>last_price</td>\n",
       "      <td>-0.013260</td>\n",
       "      <td>0.002603</td>\n",
       "      <td>0.027958</td>\n",
       "      <td>1.000000</td>\n",
       "    </tr>\n",
       "  </tbody>\n",
       "</table>\n",
       "</div>"
      ],
      "text/plain": [
       "                  day_exposition  month_exposition  year_exposition  \\\n",
       "day_exposition          1.000000          0.012449        -0.013935   \n",
       "month_exposition        0.012449          1.000000        -0.307590   \n",
       "year_exposition        -0.013935         -0.307590         1.000000   \n",
       "last_price             -0.013260          0.002603         0.027958   \n",
       "\n",
       "                  last_price  \n",
       "day_exposition     -0.013260  \n",
       "month_exposition    0.002603  \n",
       "year_exposition     0.027958  \n",
       "last_price          1.000000  "
      ]
     },
     "execution_count": 89,
     "metadata": {},
     "output_type": "execute_result"
    }
   ],
   "source": [
    "days_exposition_data[['day_exposition', 'month_exposition', 'year_exposition', 'last_price']].corr()"
   ]
  },
  {
   "cell_type": "markdown",
   "metadata": {},
   "source": [
    "Дни: дорогую недвижимость меньше покупают по выходным(?)\n",
    "\n",
    "Месяцы: нет очевидной взаимосвязи\n",
    "\n",
    "Года: видимо, портал Я.Недвидимость появился в 2014 году, с каждым годом про него больше знают и больше объявлений публикуют, но с ценой недвижимости это никак не связано\n",
    "\n",
    "Коэффициенты корреляции говорят о том, что взаимосвязи между днем/месяцем/годом публикации и ценой практически нет. \n",
    "\n",
    "То маленькое значение (0.03) для года/цены  можно соотнести с инфляцией.\n",
    "___"
   ]
  },
  {
   "cell_type": "markdown",
   "metadata": {},
   "source": [
    "### Топ - 10 населённых пунктов с наибольшим числом объявлений"
   ]
  },
  {
   "cell_type": "code",
   "execution_count": 90,
   "metadata": {},
   "outputs": [
    {
     "data": {
      "text/plain": [
       "Санкт-Петербург      15721\n",
       "Мурино                 590\n",
       "Кудрово                472\n",
       "поселок Шушары         440\n",
       "Всеволожск             398\n",
       "Пушкин                 369\n",
       "Колпино                338\n",
       "поселок Парголово      327\n",
       "Гатчина                307\n",
       "Выборг                 237\n",
       "Name: locality_name, dtype: int64"
      ]
     },
     "execution_count": 90,
     "metadata": {},
     "output_type": "execute_result"
    }
   ],
   "source": [
    "top_10 = df['locality_name'].value_counts().head(10)\n",
    "top_10"
   ]
  },
  {
   "cell_type": "markdown",
   "metadata": {},
   "source": [
    "Создадим отдельный список с названиями, он пригодится чуть позже:"
   ]
  },
  {
   "cell_type": "code",
   "execution_count": 91,
   "metadata": {},
   "outputs": [
    {
     "data": {
      "text/plain": [
       "['Санкт-Петербург',\n",
       " 'Мурино',\n",
       " 'Кудрово',\n",
       " 'поселок Шушары',\n",
       " 'Всеволожск',\n",
       " 'Пушкин',\n",
       " 'Колпино',\n",
       " 'поселок Парголово',\n",
       " 'Гатчина',\n",
       " 'Выборг']"
      ]
     },
     "execution_count": 91,
     "metadata": {},
     "output_type": "execute_result"
    }
   ],
   "source": [
    "top_10_names = list(top_10.index)\n",
    "top_10_names"
   ]
  },
  {
   "cell_type": "markdown",
   "metadata": {},
   "source": [
    "Средняя цена квадратного метра в топ-10 населенных пунктов:"
   ]
  },
  {
   "cell_type": "code",
   "execution_count": 92,
   "metadata": {},
   "outputs": [
    {
     "data": {
      "text/html": [
       "<div>\n",
       "<style scoped>\n",
       "    .dataframe tbody tr th:only-of-type {\n",
       "        vertical-align: middle;\n",
       "    }\n",
       "\n",
       "    .dataframe tbody tr th {\n",
       "        vertical-align: top;\n",
       "    }\n",
       "\n",
       "    .dataframe thead th {\n",
       "        text-align: right;\n",
       "    }\n",
       "</style>\n",
       "<table border=\"1\" class=\"dataframe\">\n",
       "  <thead>\n",
       "    <tr style=\"text-align: right;\">\n",
       "      <th></th>\n",
       "      <th>square_meter_price</th>\n",
       "    </tr>\n",
       "    <tr>\n",
       "      <th>locality_name</th>\n",
       "      <th></th>\n",
       "    </tr>\n",
       "  </thead>\n",
       "  <tbody>\n",
       "    <tr>\n",
       "      <td>Санкт-Петербург</td>\n",
       "      <td>0.105556</td>\n",
       "    </tr>\n",
       "    <tr>\n",
       "      <td>Пушкин</td>\n",
       "      <td>0.100323</td>\n",
       "    </tr>\n",
       "    <tr>\n",
       "      <td>Кудрово</td>\n",
       "      <td>0.095079</td>\n",
       "    </tr>\n",
       "    <tr>\n",
       "      <td>поселок Парголово</td>\n",
       "      <td>0.090176</td>\n",
       "    </tr>\n",
       "    <tr>\n",
       "      <td>Мурино</td>\n",
       "      <td>0.085902</td>\n",
       "    </tr>\n",
       "    <tr>\n",
       "      <td>поселок Шушары</td>\n",
       "      <td>0.078664</td>\n",
       "    </tr>\n",
       "    <tr>\n",
       "      <td>Колпино</td>\n",
       "      <td>0.075186</td>\n",
       "    </tr>\n",
       "    <tr>\n",
       "      <td>Гатчина</td>\n",
       "      <td>0.068422</td>\n",
       "    </tr>\n",
       "    <tr>\n",
       "      <td>Всеволожск</td>\n",
       "      <td>0.067185</td>\n",
       "    </tr>\n",
       "    <tr>\n",
       "      <td>Выборг</td>\n",
       "      <td>0.057707</td>\n",
       "    </tr>\n",
       "  </tbody>\n",
       "</table>\n",
       "</div>"
      ],
      "text/plain": [
       "                   square_meter_price\n",
       "locality_name                        \n",
       "Санкт-Петербург              0.105556\n",
       "Пушкин                       0.100323\n",
       "Кудрово                      0.095079\n",
       "поселок Парголово            0.090176\n",
       "Мурино                       0.085902\n",
       "поселок Шушары               0.078664\n",
       "Колпино                      0.075186\n",
       "Гатчина                      0.068422\n",
       "Всеволожск                   0.067185\n",
       "Выборг                       0.057707"
      ]
     },
     "execution_count": 92,
     "metadata": {},
     "output_type": "execute_result"
    }
   ],
   "source": [
    "(df.query('locality_name in @top_10_names and ' + last_price_query)\n",
    "    .pivot_table(index='locality_name', values='square_meter_price', aggfunc='mean')\n",
    "    .sort_values(by='square_meter_price', ascending=False)\n",
    ")"
   ]
  },
  {
   "cell_type": "markdown",
   "metadata": {},
   "source": [
    "**Вывод:** самая высокая стоимость за квадратный метр – в Санкт-Петербурге, самая низкая – в Выборге.\n",
    "\n",
    "___"
   ]
  },
  {
   "cell_type": "markdown",
   "metadata": {},
   "source": [
    "### Квартиры в Санкт-Петербурге: определяем центральную зону"
   ]
  },
  {
   "cell_type": "markdown",
   "metadata": {},
   "source": [
    "Соберём отдельный датафрейм из недвижимости в Петербурге:"
   ]
  },
  {
   "cell_type": "code",
   "execution_count": 93,
   "metadata": {},
   "outputs": [
    {
     "name": "stdout",
     "output_type": "stream",
     "text": [
      "<class 'pandas.core.frame.DataFrame'>\n",
      "RangeIndex: 15721 entries, 0 to 15720\n",
      "Data columns (total 30 columns):\n",
      "index                   15721 non-null int64\n",
      "total_images            15721 non-null int64\n",
      "last_price              15721 non-null float64\n",
      "total_area              15721 non-null float64\n",
      "first_day_exposition    15721 non-null datetime64[ns]\n",
      "rooms                   15721 non-null int64\n",
      "ceiling_height          10104 non-null float64\n",
      "floors_total            15721 non-null int64\n",
      "living_area             15721 non-null float64\n",
      "floor                   15721 non-null object\n",
      "is_apartment            1833 non-null object\n",
      "studio                  15721 non-null bool\n",
      "open_plan               15721 non-null bool\n",
      "kitchen_area            14342 non-null float64\n",
      "balcony                 15721 non-null int64\n",
      "locality_name           15721 non-null object\n",
      "airports_nearest        15721 non-null float64\n",
      "cityCenters_nearest     15721 non-null float64\n",
      "parks_around3000        15660 non-null float64\n",
      "parks_nearest           7284 non-null float64\n",
      "ponds_around3000        15660 non-null float64\n",
      "ponds_nearest           7983 non-null float64\n",
      "days_exposition         15721 non-null int64\n",
      "square_meter_price      15721 non-null float64\n",
      "day_exposition          15721 non-null int64\n",
      "month_exposition        15721 non-null int64\n",
      "year_exposition         15721 non-null int64\n",
      "living_total_ratio      15721 non-null float64\n",
      "kitchen_total_ratio     14342 non-null float64\n",
      "is_spb                  15721 non-null bool\n",
      "dtypes: bool(3), datetime64[ns](1), float64(14), int64(9), object(3)\n",
      "memory usage: 3.3+ MB\n"
     ]
    }
   ],
   "source": [
    "df_spb = df.loc[df['locality_name'] == 'Санкт-Петербург']\n",
    "df_spb = df_spb.reset_index()\n",
    "df_spb.info()"
   ]
  },
  {
   "cell_type": "markdown",
   "metadata": {},
   "source": [
    "15721 экземпляр. \n",
    "\n",
    "округлим `cityCenters_nearest` до км для удобства:"
   ]
  },
  {
   "cell_type": "code",
   "execution_count": 94,
   "metadata": {},
   "outputs": [
    {
     "data": {
      "text/plain": [
       "0    16\n",
       "1    13\n",
       "2     6\n",
       "3     8\n",
       "4    11\n",
       "Name: cityCenters_nearest, dtype: int64"
      ]
     },
     "execution_count": 94,
     "metadata": {},
     "output_type": "execute_result"
    }
   ],
   "source": [
    "df_spb['cityCenters_nearest'] = (df_spb['cityCenters_nearest']/1000.).astype(int)\n",
    "df_spb['cityCenters_nearest'].head()"
   ]
  },
  {
   "cell_type": "markdown",
   "metadata": {},
   "source": [
    "Средняя цена для каждого километра"
   ]
  },
  {
   "cell_type": "code",
   "execution_count": 95,
   "metadata": {},
   "outputs": [],
   "source": [
    "df_spb = df_spb.query(last_price_query) "
   ]
  },
  {
   "cell_type": "code",
   "execution_count": 96,
   "metadata": {},
   "outputs": [
    {
     "data": {
      "text/html": [
       "<div>\n",
       "<style scoped>\n",
       "    .dataframe tbody tr th:only-of-type {\n",
       "        vertical-align: middle;\n",
       "    }\n",
       "\n",
       "    .dataframe tbody tr th {\n",
       "        vertical-align: top;\n",
       "    }\n",
       "\n",
       "    .dataframe thead th {\n",
       "        text-align: right;\n",
       "    }\n",
       "</style>\n",
       "<table border=\"1\" class=\"dataframe\">\n",
       "  <thead>\n",
       "    <tr style=\"text-align: right;\">\n",
       "      <th></th>\n",
       "      <th>last_price</th>\n",
       "    </tr>\n",
       "    <tr>\n",
       "      <th>cityCenters_nearest</th>\n",
       "      <th></th>\n",
       "    </tr>\n",
       "  </thead>\n",
       "  <tbody>\n",
       "    <tr>\n",
       "      <td>0</td>\n",
       "      <td>8.429409</td>\n",
       "    </tr>\n",
       "    <tr>\n",
       "      <td>1</td>\n",
       "      <td>8.396685</td>\n",
       "    </tr>\n",
       "    <tr>\n",
       "      <td>2</td>\n",
       "      <td>7.721344</td>\n",
       "    </tr>\n",
       "    <tr>\n",
       "      <td>3</td>\n",
       "      <td>7.598287</td>\n",
       "    </tr>\n",
       "    <tr>\n",
       "      <td>4</td>\n",
       "      <td>7.856875</td>\n",
       "    </tr>\n",
       "    <tr>\n",
       "      <td>5</td>\n",
       "      <td>7.446110</td>\n",
       "    </tr>\n",
       "    <tr>\n",
       "      <td>6</td>\n",
       "      <td>6.887988</td>\n",
       "    </tr>\n",
       "    <tr>\n",
       "      <td>7</td>\n",
       "      <td>6.765613</td>\n",
       "    </tr>\n",
       "    <tr>\n",
       "      <td>8</td>\n",
       "      <td>6.353697</td>\n",
       "    </tr>\n",
       "    <tr>\n",
       "      <td>9</td>\n",
       "      <td>5.347274</td>\n",
       "    </tr>\n",
       "    <tr>\n",
       "      <td>10</td>\n",
       "      <td>5.386258</td>\n",
       "    </tr>\n",
       "    <tr>\n",
       "      <td>11</td>\n",
       "      <td>5.338140</td>\n",
       "    </tr>\n",
       "    <tr>\n",
       "      <td>12</td>\n",
       "      <td>5.427605</td>\n",
       "    </tr>\n",
       "    <tr>\n",
       "      <td>13</td>\n",
       "      <td>5.571448</td>\n",
       "    </tr>\n",
       "    <tr>\n",
       "      <td>14</td>\n",
       "      <td>5.304019</td>\n",
       "    </tr>\n",
       "    <tr>\n",
       "      <td>15</td>\n",
       "      <td>5.169192</td>\n",
       "    </tr>\n",
       "    <tr>\n",
       "      <td>16</td>\n",
       "      <td>5.077492</td>\n",
       "    </tr>\n",
       "    <tr>\n",
       "      <td>17</td>\n",
       "      <td>4.680344</td>\n",
       "    </tr>\n",
       "    <tr>\n",
       "      <td>18</td>\n",
       "      <td>4.775156</td>\n",
       "    </tr>\n",
       "    <tr>\n",
       "      <td>19</td>\n",
       "      <td>4.583556</td>\n",
       "    </tr>\n",
       "    <tr>\n",
       "      <td>20</td>\n",
       "      <td>6.365869</td>\n",
       "    </tr>\n",
       "    <tr>\n",
       "      <td>21</td>\n",
       "      <td>5.076285</td>\n",
       "    </tr>\n",
       "    <tr>\n",
       "      <td>22</td>\n",
       "      <td>5.095370</td>\n",
       "    </tr>\n",
       "    <tr>\n",
       "      <td>23</td>\n",
       "      <td>4.126867</td>\n",
       "    </tr>\n",
       "    <tr>\n",
       "      <td>24</td>\n",
       "      <td>3.862227</td>\n",
       "    </tr>\n",
       "    <tr>\n",
       "      <td>25</td>\n",
       "      <td>4.014933</td>\n",
       "    </tr>\n",
       "    <tr>\n",
       "      <td>26</td>\n",
       "      <td>3.575000</td>\n",
       "    </tr>\n",
       "    <tr>\n",
       "      <td>27</td>\n",
       "      <td>2.250000</td>\n",
       "    </tr>\n",
       "    <tr>\n",
       "      <td>28</td>\n",
       "      <td>4.910500</td>\n",
       "    </tr>\n",
       "    <tr>\n",
       "      <td>29</td>\n",
       "      <td>3.833333</td>\n",
       "    </tr>\n",
       "  </tbody>\n",
       "</table>\n",
       "</div>"
      ],
      "text/plain": [
       "                     last_price\n",
       "cityCenters_nearest            \n",
       "0                      8.429409\n",
       "1                      8.396685\n",
       "2                      7.721344\n",
       "3                      7.598287\n",
       "4                      7.856875\n",
       "5                      7.446110\n",
       "6                      6.887988\n",
       "7                      6.765613\n",
       "8                      6.353697\n",
       "9                      5.347274\n",
       "10                     5.386258\n",
       "11                     5.338140\n",
       "12                     5.427605\n",
       "13                     5.571448\n",
       "14                     5.304019\n",
       "15                     5.169192\n",
       "16                     5.077492\n",
       "17                     4.680344\n",
       "18                     4.775156\n",
       "19                     4.583556\n",
       "20                     6.365869\n",
       "21                     5.076285\n",
       "22                     5.095370\n",
       "23                     4.126867\n",
       "24                     3.862227\n",
       "25                     4.014933\n",
       "26                     3.575000\n",
       "27                     2.250000\n",
       "28                     4.910500\n",
       "29                     3.833333"
      ]
     },
     "execution_count": 96,
     "metadata": {},
     "output_type": "execute_result"
    }
   ],
   "source": [
    "df_spb.pivot_table(index='cityCenters_nearest', values='last_price', aggfunc='mean')"
   ]
  },
  {
   "cell_type": "markdown",
   "metadata": {},
   "source": [
    "График зависимости `last_price` от `cityCenters_nearest`:"
   ]
  },
  {
   "cell_type": "code",
   "execution_count": 97,
   "metadata": {},
   "outputs": [
    {
     "data": {
      "image/png": "[encoded data removed]",
      "text/plain": [
       "<Figure size 432x288 with 1 Axes>"
      ]
     },
     "metadata": {
      "needs_background": "light"
     },
     "output_type": "display_data"
    }
   ],
   "source": [
    "(\n",
    "pd.DataFrame(df_spb.pivot_table(index='cityCenters_nearest', values='last_price').to_records())\n",
    ".plot(x='cityCenters_nearest', y='last_price',linestyle='-.', c='b', grid=True)\n",
    "\n",
    ")\n",
    "plt.show()"
   ]
  },
  {
   "cell_type": "markdown",
   "metadata": {},
   "source": [
    "Стоимость падает на 7-8 км. Это и будет ориентиром для центральной зоны."
   ]
  },
  {
   "cell_type": "markdown",
   "metadata": {},
   "source": [
    "#### Выделяем сегмент квартир в центре"
   ]
  },
  {
   "cell_type": "code",
   "execution_count": 98,
   "metadata": {},
   "outputs": [
    {
     "data": {
      "text/html": [
       "<div>\n",
       "<style scoped>\n",
       "    .dataframe tbody tr th:only-of-type {\n",
       "        vertical-align: middle;\n",
       "    }\n",
       "\n",
       "    .dataframe tbody tr th {\n",
       "        vertical-align: top;\n",
       "    }\n",
       "\n",
       "    .dataframe thead th {\n",
       "        text-align: right;\n",
       "    }\n",
       "</style>\n",
       "<table border=\"1\" class=\"dataframe\">\n",
       "  <thead>\n",
       "    <tr style=\"text-align: right;\">\n",
       "      <th></th>\n",
       "      <th>index</th>\n",
       "      <th>total_images</th>\n",
       "      <th>last_price</th>\n",
       "      <th>total_area</th>\n",
       "      <th>first_day_exposition</th>\n",
       "      <th>rooms</th>\n",
       "      <th>ceiling_height</th>\n",
       "      <th>floors_total</th>\n",
       "      <th>living_area</th>\n",
       "      <th>floor</th>\n",
       "      <th>...</th>\n",
       "      <th>ponds_around3000</th>\n",
       "      <th>ponds_nearest</th>\n",
       "      <th>days_exposition</th>\n",
       "      <th>square_meter_price</th>\n",
       "      <th>day_exposition</th>\n",
       "      <th>month_exposition</th>\n",
       "      <th>year_exposition</th>\n",
       "      <th>living_total_ratio</th>\n",
       "      <th>kitchen_total_ratio</th>\n",
       "      <th>is_spb</th>\n",
       "    </tr>\n",
       "  </thead>\n",
       "  <tbody>\n",
       "    <tr>\n",
       "      <td>14610</td>\n",
       "      <td>21991</td>\n",
       "      <td>13</td>\n",
       "      <td>5.65</td>\n",
       "      <td>50.1</td>\n",
       "      <td>2016-05-18</td>\n",
       "      <td>2</td>\n",
       "      <td>3.0</td>\n",
       "      <td>7</td>\n",
       "      <td>36.7</td>\n",
       "      <td>другой</td>\n",
       "      <td>...</td>\n",
       "      <td>0.0</td>\n",
       "      <td>NaN</td>\n",
       "      <td>432</td>\n",
       "      <td>0.112774</td>\n",
       "      <td>2</td>\n",
       "      <td>5</td>\n",
       "      <td>2016</td>\n",
       "      <td>0.732535</td>\n",
       "      <td>0.159681</td>\n",
       "      <td>True</td>\n",
       "    </tr>\n",
       "    <tr>\n",
       "      <td>12896</td>\n",
       "      <td>19358</td>\n",
       "      <td>2</td>\n",
       "      <td>10.75</td>\n",
       "      <td>105.4</td>\n",
       "      <td>2018-02-10</td>\n",
       "      <td>3</td>\n",
       "      <td>NaN</td>\n",
       "      <td>25</td>\n",
       "      <td>48.7</td>\n",
       "      <td>другой</td>\n",
       "      <td>...</td>\n",
       "      <td>1.0</td>\n",
       "      <td>662.0</td>\n",
       "      <td>90</td>\n",
       "      <td>0.101992</td>\n",
       "      <td>5</td>\n",
       "      <td>2</td>\n",
       "      <td>2018</td>\n",
       "      <td>0.462049</td>\n",
       "      <td>0.123340</td>\n",
       "      <td>True</td>\n",
       "    </tr>\n",
       "    <tr>\n",
       "      <td>13083</td>\n",
       "      <td>19651</td>\n",
       "      <td>1</td>\n",
       "      <td>5.30</td>\n",
       "      <td>56.0</td>\n",
       "      <td>2017-12-01</td>\n",
       "      <td>3</td>\n",
       "      <td>NaN</td>\n",
       "      <td>5</td>\n",
       "      <td>39.0</td>\n",
       "      <td>первый</td>\n",
       "      <td>...</td>\n",
       "      <td>1.0</td>\n",
       "      <td>909.0</td>\n",
       "      <td>119</td>\n",
       "      <td>0.094643</td>\n",
       "      <td>4</td>\n",
       "      <td>12</td>\n",
       "      <td>2017</td>\n",
       "      <td>0.696429</td>\n",
       "      <td>0.107143</td>\n",
       "      <td>True</td>\n",
       "    </tr>\n",
       "    <tr>\n",
       "      <td>11830</td>\n",
       "      <td>17737</td>\n",
       "      <td>11</td>\n",
       "      <td>7.45</td>\n",
       "      <td>83.7</td>\n",
       "      <td>2016-06-08</td>\n",
       "      <td>4</td>\n",
       "      <td>NaN</td>\n",
       "      <td>6</td>\n",
       "      <td>47.0</td>\n",
       "      <td>другой</td>\n",
       "      <td>...</td>\n",
       "      <td>0.0</td>\n",
       "      <td>NaN</td>\n",
       "      <td>75</td>\n",
       "      <td>0.089008</td>\n",
       "      <td>2</td>\n",
       "      <td>6</td>\n",
       "      <td>2016</td>\n",
       "      <td>0.561529</td>\n",
       "      <td>0.191159</td>\n",
       "      <td>True</td>\n",
       "    </tr>\n",
       "    <tr>\n",
       "      <td>2929</td>\n",
       "      <td>4438</td>\n",
       "      <td>16</td>\n",
       "      <td>7.00</td>\n",
       "      <td>67.6</td>\n",
       "      <td>2019-04-25</td>\n",
       "      <td>3</td>\n",
       "      <td>3.0</td>\n",
       "      <td>5</td>\n",
       "      <td>47.0</td>\n",
       "      <td>другой</td>\n",
       "      <td>...</td>\n",
       "      <td>1.0</td>\n",
       "      <td>854.0</td>\n",
       "      <td>95</td>\n",
       "      <td>0.103550</td>\n",
       "      <td>3</td>\n",
       "      <td>4</td>\n",
       "      <td>2019</td>\n",
       "      <td>0.695266</td>\n",
       "      <td>0.118343</td>\n",
       "      <td>True</td>\n",
       "    </tr>\n",
       "  </tbody>\n",
       "</table>\n",
       "<p>5 rows × 30 columns</p>\n",
       "</div>"
      ],
      "text/plain": [
       "       index  total_images  last_price  total_area first_day_exposition  \\\n",
       "14610  21991            13        5.65        50.1           2016-05-18   \n",
       "12896  19358             2       10.75       105.4           2018-02-10   \n",
       "13083  19651             1        5.30        56.0           2017-12-01   \n",
       "11830  17737            11        7.45        83.7           2016-06-08   \n",
       "2929    4438            16        7.00        67.6           2019-04-25   \n",
       "\n",
       "       rooms  ceiling_height  floors_total  living_area   floor  ...  \\\n",
       "14610      2             3.0             7         36.7  другой  ...   \n",
       "12896      3             NaN            25         48.7  другой  ...   \n",
       "13083      3             NaN             5         39.0  первый  ...   \n",
       "11830      4             NaN             6         47.0  другой  ...   \n",
       "2929       3             3.0             5         47.0  другой  ...   \n",
       "\n",
       "      ponds_around3000  ponds_nearest  days_exposition  square_meter_price  \\\n",
       "14610              0.0            NaN              432            0.112774   \n",
       "12896              1.0          662.0               90            0.101992   \n",
       "13083              1.0          909.0              119            0.094643   \n",
       "11830              0.0            NaN               75            0.089008   \n",
       "2929               1.0          854.0               95            0.103550   \n",
       "\n",
       "       day_exposition month_exposition  year_exposition  living_total_ratio  \\\n",
       "14610               2                5             2016            0.732535   \n",
       "12896               5                2             2018            0.462049   \n",
       "13083               4               12             2017            0.696429   \n",
       "11830               2                6             2016            0.561529   \n",
       "2929                3                4             2019            0.695266   \n",
       "\n",
       "       kitchen_total_ratio  is_spb  \n",
       "14610             0.159681    True  \n",
       "12896             0.123340    True  \n",
       "13083             0.107143    True  \n",
       "11830             0.191159    True  \n",
       "2929              0.118343    True  \n",
       "\n",
       "[5 rows x 30 columns]"
      ]
     },
     "execution_count": 98,
     "metadata": {},
     "output_type": "execute_result"
    }
   ],
   "source": [
    "df_spb_center = df_spb.query('cityCenters_nearest <= 7')\n",
    "df_spb_center.sample(5)"
   ]
  },
  {
   "cell_type": "markdown",
   "metadata": {},
   "source": [
    "2503 экземпляра. \n",
    "___\n",
    "#### Проанализируем такие параметры как площадь, цена, число комнат, высота потолков. \n",
    "\n"
   ]
  },
  {
   "cell_type": "code",
   "execution_count": 99,
   "metadata": {},
   "outputs": [
    {
     "data": {
      "text/plain": [
       "count    2418.000000\n",
       "mean       65.019454\n",
       "std        21.428544\n",
       "min        12.000000\n",
       "25%        47.300000\n",
       "50%        63.350000\n",
       "75%        80.000000\n",
       "max       118.000000\n",
       "Name: total_area, dtype: float64"
      ]
     },
     "execution_count": 99,
     "metadata": {},
     "output_type": "execute_result"
    }
   ],
   "source": [
    "df_spb_center.query(total_area_query)['total_area'].describe()"
   ]
  },
  {
   "cell_type": "markdown",
   "metadata": {},
   "source": [
    "Средняя площадь 65 метров – как раз для двушек, количество которых превалирует.\n",
    "\n",
    "Минимально - 12 метров. И такое бывает. Зато в центре.\n",
    "\n",
    "Квартир с площадью > 80кв.м. целых 25%. Вот она, Пербургская элита.\n",
    "___\n",
    "#### Цена"
   ]
  },
  {
   "cell_type": "code",
   "execution_count": 100,
   "metadata": {},
   "outputs": [
    {
     "data": {
      "text/plain": [
       "count    2503.000000\n",
       "mean        7.502497\n",
       "std         2.262249\n",
       "min         1.600000\n",
       "25%         5.800000\n",
       "50%         7.400000\n",
       "75%         9.150000\n",
       "max        12.000000\n",
       "Name: last_price, dtype: float64"
      ]
     },
     "execution_count": 100,
     "metadata": {},
     "output_type": "execute_result"
    }
   ],
   "source": [
    "df_spb_center['last_price'].describe()"
   ]
  },
  {
   "cell_type": "markdown",
   "metadata": {},
   "source": [
    "Если провести параллель с ячейкой выше, которая характеризует площадь, получается всё красиво и логично:\n",
    "\n",
    "За минимальную цену, предположительно, можно купить минимальную площадь. Так же с максимальными значениями.\n",
    "\n",
    "Средняя цена 7.5 млн. В Москве, наверное, на порядок выше.\n",
    "___\n",
    "#### Количество комнат"
   ]
  },
  {
   "cell_type": "code",
   "execution_count": 101,
   "metadata": {},
   "outputs": [
    {
     "data": {
      "text/plain": [
       "count    2486.000000\n",
       "mean        2.376508\n",
       "std         1.038415\n",
       "min         1.000000\n",
       "25%         2.000000\n",
       "50%         2.000000\n",
       "75%         3.000000\n",
       "max         6.000000\n",
       "Name: rooms, dtype: float64"
      ]
     },
     "execution_count": 101,
     "metadata": {},
     "output_type": "execute_result"
    }
   ],
   "source": [
    "df_spb_center.query(rooms_query)['rooms'].describe()"
   ]
  },
  {
   "cell_type": "markdown",
   "metadata": {},
   "source": [
    "6 комнат - скорее всего, бывшие коммуналки.\n",
    "\n",
    "Чаще всего  встречаются двушки и трёшки.\n",
    "___\n",
    "#### Высота потолков"
   ]
  },
  {
   "cell_type": "code",
   "execution_count": 102,
   "metadata": {},
   "outputs": [
    {
     "data": {
      "text/plain": [
       "count    1253.000000\n",
       "mean        2.878101\n",
       "std         0.213351\n",
       "min         2.500000\n",
       "25%         2.700000\n",
       "50%         2.900000\n",
       "75%         3.000000\n",
       "max         3.200000\n",
       "Name: ceiling_height, dtype: float64"
      ]
     },
     "execution_count": 102,
     "metadata": {},
     "output_type": "execute_result"
    }
   ],
   "source": [
    "df_spb_center.query(ceiling_height_query)['ceiling_height'].describe()"
   ]
  },
  {
   "cell_type": "markdown",
   "metadata": {},
   "source": [
    "Средняя высота потолков 2.89. \n",
    "\n",
    "Кто не видел эти высокие Петербургские потолки в домах старого фонда?\n",
    "___"
   ]
  },
  {
   "cell_type": "markdown",
   "metadata": {},
   "source": [
    "### Факторы, влияющие на стоимость квартиры"
   ]
  },
  {
   "cell_type": "markdown",
   "metadata": {},
   "source": [
    "Проанализируем число комнат, этаж, удалённость от центра, дату размещения объявления и их корреляцию с ценой:"
   ]
  },
  {
   "cell_type": "code",
   "execution_count": 103,
   "metadata": {},
   "outputs": [
    {
     "data": {
      "text/html": [
       "<style  type=\"text/css\" >\n",
       "    #T_6dd6dbf2_eb83_11ea_9690_8c859047f927row0_col0 {\n",
       "            background-color:  #b40426;\n",
       "            color:  #f1f1f1;\n",
       "        }    #T_6dd6dbf2_eb83_11ea_9690_8c859047f927row0_col1 {\n",
       "            background-color:  #455cce;\n",
       "            color:  #f1f1f1;\n",
       "        }    #T_6dd6dbf2_eb83_11ea_9690_8c859047f927row0_col2 {\n",
       "            background-color:  #f4987a;\n",
       "            color:  #000000;\n",
       "        }    #T_6dd6dbf2_eb83_11ea_9690_8c859047f927row0_col3 {\n",
       "            background-color:  #efcfbf;\n",
       "            color:  #000000;\n",
       "        }    #T_6dd6dbf2_eb83_11ea_9690_8c859047f927row0_col4 {\n",
       "            background-color:  #84a7fc;\n",
       "            color:  #000000;\n",
       "        }    #T_6dd6dbf2_eb83_11ea_9690_8c859047f927row0_col5 {\n",
       "            background-color:  #465ecf;\n",
       "            color:  #f1f1f1;\n",
       "        }    #T_6dd6dbf2_eb83_11ea_9690_8c859047f927row0_col6 {\n",
       "            background-color:  #6e90f2;\n",
       "            color:  #000000;\n",
       "        }    #T_6dd6dbf2_eb83_11ea_9690_8c859047f927row0_col7 {\n",
       "            background-color:  #7295f4;\n",
       "            color:  #000000;\n",
       "        }    #T_6dd6dbf2_eb83_11ea_9690_8c859047f927row1_col0 {\n",
       "            background-color:  #f59c7d;\n",
       "            color:  #000000;\n",
       "        }    #T_6dd6dbf2_eb83_11ea_9690_8c859047f927row1_col1 {\n",
       "            background-color:  #3b4cc0;\n",
       "            color:  #f1f1f1;\n",
       "        }    #T_6dd6dbf2_eb83_11ea_9690_8c859047f927row1_col2 {\n",
       "            background-color:  #b40426;\n",
       "            color:  #f1f1f1;\n",
       "        }    #T_6dd6dbf2_eb83_11ea_9690_8c859047f927row1_col3 {\n",
       "            background-color:  #e57058;\n",
       "            color:  #000000;\n",
       "        }    #T_6dd6dbf2_eb83_11ea_9690_8c859047f927row1_col4 {\n",
       "            background-color:  #84a7fc;\n",
       "            color:  #000000;\n",
       "        }    #T_6dd6dbf2_eb83_11ea_9690_8c859047f927row1_col5 {\n",
       "            background-color:  #3e51c5;\n",
       "            color:  #f1f1f1;\n",
       "        }    #T_6dd6dbf2_eb83_11ea_9690_8c859047f927row1_col6 {\n",
       "            background-color:  #7597f6;\n",
       "            color:  #000000;\n",
       "        }    #T_6dd6dbf2_eb83_11ea_9690_8c859047f927row1_col7 {\n",
       "            background-color:  #5470de;\n",
       "            color:  #000000;\n",
       "        }    #T_6dd6dbf2_eb83_11ea_9690_8c859047f927row2_col0 {\n",
       "            background-color:  #edd1c2;\n",
       "            color:  #000000;\n",
       "        }    #T_6dd6dbf2_eb83_11ea_9690_8c859047f927row2_col1 {\n",
       "            background-color:  #3f53c6;\n",
       "            color:  #f1f1f1;\n",
       "        }    #T_6dd6dbf2_eb83_11ea_9690_8c859047f927row2_col2 {\n",
       "            background-color:  #e57058;\n",
       "            color:  #000000;\n",
       "        }    #T_6dd6dbf2_eb83_11ea_9690_8c859047f927row2_col3 {\n",
       "            background-color:  #b40426;\n",
       "            color:  #f1f1f1;\n",
       "        }    #T_6dd6dbf2_eb83_11ea_9690_8c859047f927row2_col4 {\n",
       "            background-color:  #7093f3;\n",
       "            color:  #000000;\n",
       "        }    #T_6dd6dbf2_eb83_11ea_9690_8c859047f927row2_col5 {\n",
       "            background-color:  #3b4cc0;\n",
       "            color:  #f1f1f1;\n",
       "        }    #T_6dd6dbf2_eb83_11ea_9690_8c859047f927row2_col6 {\n",
       "            background-color:  #7396f5;\n",
       "            color:  #000000;\n",
       "        }    #T_6dd6dbf2_eb83_11ea_9690_8c859047f927row2_col7 {\n",
       "            background-color:  #5e7de7;\n",
       "            color:  #000000;\n",
       "        }    #T_6dd6dbf2_eb83_11ea_9690_8c859047f927row3_col0 {\n",
       "            background-color:  #8caffe;\n",
       "            color:  #000000;\n",
       "        }    #T_6dd6dbf2_eb83_11ea_9690_8c859047f927row3_col1 {\n",
       "            background-color:  #4f69d9;\n",
       "            color:  #000000;\n",
       "        }    #T_6dd6dbf2_eb83_11ea_9690_8c859047f927row3_col2 {\n",
       "            background-color:  #96b7ff;\n",
       "            color:  #000000;\n",
       "        }    #T_6dd6dbf2_eb83_11ea_9690_8c859047f927row3_col3 {\n",
       "            background-color:  #80a3fa;\n",
       "            color:  #000000;\n",
       "        }    #T_6dd6dbf2_eb83_11ea_9690_8c859047f927row3_col4 {\n",
       "            background-color:  #b40426;\n",
       "            color:  #f1f1f1;\n",
       "        }    #T_6dd6dbf2_eb83_11ea_9690_8c859047f927row3_col5 {\n",
       "            background-color:  #4257c9;\n",
       "            color:  #f1f1f1;\n",
       "        }    #T_6dd6dbf2_eb83_11ea_9690_8c859047f927row3_col6 {\n",
       "            background-color:  #7396f5;\n",
       "            color:  #000000;\n",
       "        }    #T_6dd6dbf2_eb83_11ea_9690_8c859047f927row3_col7 {\n",
       "            background-color:  #799cf8;\n",
       "            color:  #000000;\n",
       "        }    #T_6dd6dbf2_eb83_11ea_9690_8c859047f927row4_col0 {\n",
       "            background-color:  #6f92f3;\n",
       "            color:  #000000;\n",
       "        }    #T_6dd6dbf2_eb83_11ea_9690_8c859047f927row4_col1 {\n",
       "            background-color:  #7a9df8;\n",
       "            color:  #000000;\n",
       "        }    #T_6dd6dbf2_eb83_11ea_9690_8c859047f927row4_col2 {\n",
       "            background-color:  #7396f5;\n",
       "            color:  #000000;\n",
       "        }    #T_6dd6dbf2_eb83_11ea_9690_8c859047f927row4_col3 {\n",
       "            background-color:  #6a8bef;\n",
       "            color:  #000000;\n",
       "        }    #T_6dd6dbf2_eb83_11ea_9690_8c859047f927row4_col4 {\n",
       "            background-color:  #6282ea;\n",
       "            color:  #000000;\n",
       "        }    #T_6dd6dbf2_eb83_11ea_9690_8c859047f927row4_col5 {\n",
       "            background-color:  #b40426;\n",
       "            color:  #f1f1f1;\n",
       "        }    #T_6dd6dbf2_eb83_11ea_9690_8c859047f927row4_col6 {\n",
       "            background-color:  #80a3fa;\n",
       "            color:  #000000;\n",
       "        }    #T_6dd6dbf2_eb83_11ea_9690_8c859047f927row4_col7 {\n",
       "            background-color:  #7699f6;\n",
       "            color:  #000000;\n",
       "        }    #T_6dd6dbf2_eb83_11ea_9690_8c859047f927row5_col0 {\n",
       "            background-color:  #6788ee;\n",
       "            color:  #000000;\n",
       "        }    #T_6dd6dbf2_eb83_11ea_9690_8c859047f927row5_col1 {\n",
       "            background-color:  #84a7fc;\n",
       "            color:  #000000;\n",
       "        }    #T_6dd6dbf2_eb83_11ea_9690_8c859047f927row5_col2 {\n",
       "            background-color:  #5470de;\n",
       "            color:  #000000;\n",
       "        }    #T_6dd6dbf2_eb83_11ea_9690_8c859047f927row5_col3 {\n",
       "            background-color:  #5977e3;\n",
       "            color:  #000000;\n",
       "        }    #T_6dd6dbf2_eb83_11ea_9690_8c859047f927row5_col4 {\n",
       "            background-color:  #6384eb;\n",
       "            color:  #000000;\n",
       "        }    #T_6dd6dbf2_eb83_11ea_9690_8c859047f927row5_col5 {\n",
       "            background-color:  #4257c9;\n",
       "            color:  #f1f1f1;\n",
       "        }    #T_6dd6dbf2_eb83_11ea_9690_8c859047f927row5_col6 {\n",
       "            background-color:  #3b4cc0;\n",
       "            color:  #f1f1f1;\n",
       "        }    #T_6dd6dbf2_eb83_11ea_9690_8c859047f927row5_col7 {\n",
       "            background-color:  #b40426;\n",
       "            color:  #f1f1f1;\n",
       "        }    #T_6dd6dbf2_eb83_11ea_9690_8c859047f927row6_col0 {\n",
       "            background-color:  #6384eb;\n",
       "            color:  #000000;\n",
       "        }    #T_6dd6dbf2_eb83_11ea_9690_8c859047f927row6_col1 {\n",
       "            background-color:  #7597f6;\n",
       "            color:  #000000;\n",
       "        }    #T_6dd6dbf2_eb83_11ea_9690_8c859047f927row6_col2 {\n",
       "            background-color:  #7396f5;\n",
       "            color:  #000000;\n",
       "        }    #T_6dd6dbf2_eb83_11ea_9690_8c859047f927row6_col3 {\n",
       "            background-color:  #6e90f2;\n",
       "            color:  #000000;\n",
       "        }    #T_6dd6dbf2_eb83_11ea_9690_8c859047f927row6_col4 {\n",
       "            background-color:  #5e7de7;\n",
       "            color:  #000000;\n",
       "        }    #T_6dd6dbf2_eb83_11ea_9690_8c859047f927row6_col5 {\n",
       "            background-color:  #4b64d5;\n",
       "            color:  #f1f1f1;\n",
       "        }    #T_6dd6dbf2_eb83_11ea_9690_8c859047f927row6_col6 {\n",
       "            background-color:  #b40426;\n",
       "            color:  #f1f1f1;\n",
       "        }    #T_6dd6dbf2_eb83_11ea_9690_8c859047f927row6_col7 {\n",
       "            background-color:  #3b4cc0;\n",
       "            color:  #f1f1f1;\n",
       "        }    #T_6dd6dbf2_eb83_11ea_9690_8c859047f927row7_col0 {\n",
       "            background-color:  #3b4cc0;\n",
       "            color:  #f1f1f1;\n",
       "        }    #T_6dd6dbf2_eb83_11ea_9690_8c859047f927row7_col1 {\n",
       "            background-color:  #b40426;\n",
       "            color:  #f1f1f1;\n",
       "        }    #T_6dd6dbf2_eb83_11ea_9690_8c859047f927row7_col2 {\n",
       "            background-color:  #3b4cc0;\n",
       "            color:  #f1f1f1;\n",
       "        }    #T_6dd6dbf2_eb83_11ea_9690_8c859047f927row7_col3 {\n",
       "            background-color:  #3b4cc0;\n",
       "            color:  #f1f1f1;\n",
       "        }    #T_6dd6dbf2_eb83_11ea_9690_8c859047f927row7_col4 {\n",
       "            background-color:  #3b4cc0;\n",
       "            color:  #f1f1f1;\n",
       "        }    #T_6dd6dbf2_eb83_11ea_9690_8c859047f927row7_col5 {\n",
       "            background-color:  #455cce;\n",
       "            color:  #f1f1f1;\n",
       "        }    #T_6dd6dbf2_eb83_11ea_9690_8c859047f927row7_col6 {\n",
       "            background-color:  #7597f6;\n",
       "            color:  #000000;\n",
       "        }    #T_6dd6dbf2_eb83_11ea_9690_8c859047f927row7_col7 {\n",
       "            background-color:  #85a8fc;\n",
       "            color:  #000000;\n",
       "        }</style><table id=\"T_6dd6dbf2_eb83_11ea_9690_8c859047f927\" ><thead>    <tr>        <th class=\"blank level0\" ></th>        <th class=\"col_heading level0 col0\" >last_price</th>        <th class=\"col_heading level0 col1\" >cityCenters_nearest</th>        <th class=\"col_heading level0 col2\" >total_area</th>        <th class=\"col_heading level0 col3\" >rooms</th>        <th class=\"col_heading level0 col4\" >ceiling_height</th>        <th class=\"col_heading level0 col5\" >day_exposition</th>        <th class=\"col_heading level0 col6\" >month_exposition</th>        <th class=\"col_heading level0 col7\" >year_exposition</th>    </tr></thead><tbody>\n",
       "                <tr>\n",
       "                        <th id=\"T_6dd6dbf2_eb83_11ea_9690_8c859047f927level0_row0\" class=\"row_heading level0 row0\" >last_price</th>\n",
       "                        <td id=\"T_6dd6dbf2_eb83_11ea_9690_8c859047f927row0_col0\" class=\"data row0 col0\" >1</td>\n",
       "                        <td id=\"T_6dd6dbf2_eb83_11ea_9690_8c859047f927row0_col1\" class=\"data row0 col1\" >-0.181685</td>\n",
       "                        <td id=\"T_6dd6dbf2_eb83_11ea_9690_8c859047f927row0_col2\" class=\"data row0 col2\" >0.695695</td>\n",
       "                        <td id=\"T_6dd6dbf2_eb83_11ea_9690_8c859047f927row0_col3\" class=\"data row0 col3\" >0.493181</td>\n",
       "                        <td id=\"T_6dd6dbf2_eb83_11ea_9690_8c859047f927row0_col4\" class=\"data row0 col4\" >0.113483</td>\n",
       "                        <td id=\"T_6dd6dbf2_eb83_11ea_9690_8c859047f927row0_col5\" class=\"data row0 col5\" >0.0158823</td>\n",
       "                        <td id=\"T_6dd6dbf2_eb83_11ea_9690_8c859047f927row0_col6\" class=\"data row0 col6\" >-0.0280508</td>\n",
       "                        <td id=\"T_6dd6dbf2_eb83_11ea_9690_8c859047f927row0_col7\" class=\"data row0 col7\" >-0.0143045</td>\n",
       "            </tr>\n",
       "            <tr>\n",
       "                        <th id=\"T_6dd6dbf2_eb83_11ea_9690_8c859047f927level0_row1\" class=\"row_heading level0 row1\" >total_area</th>\n",
       "                        <td id=\"T_6dd6dbf2_eb83_11ea_9690_8c859047f927row1_col0\" class=\"data row1 col0\" >0.695695</td>\n",
       "                        <td id=\"T_6dd6dbf2_eb83_11ea_9690_8c859047f927row1_col1\" class=\"data row1 col1\" >-0.226819</td>\n",
       "                        <td id=\"T_6dd6dbf2_eb83_11ea_9690_8c859047f927row1_col2\" class=\"data row1 col2\" >1</td>\n",
       "                        <td id=\"T_6dd6dbf2_eb83_11ea_9690_8c859047f927row1_col3\" class=\"data row1 col3\" >0.80803</td>\n",
       "                        <td id=\"T_6dd6dbf2_eb83_11ea_9690_8c859047f927row1_col4\" class=\"data row1 col4\" >0.112158</td>\n",
       "                        <td id=\"T_6dd6dbf2_eb83_11ea_9690_8c859047f927row1_col5\" class=\"data row1 col5\" >-0.0110048</td>\n",
       "                        <td id=\"T_6dd6dbf2_eb83_11ea_9690_8c859047f927row1_col6\" class=\"data row1 col6\" >-0.00684414</td>\n",
       "                        <td id=\"T_6dd6dbf2_eb83_11ea_9690_8c859047f927row1_col7\" class=\"data row1 col7\" >-0.12536</td>\n",
       "            </tr>\n",
       "            <tr>\n",
       "                        <th id=\"T_6dd6dbf2_eb83_11ea_9690_8c859047f927level0_row2\" class=\"row_heading level0 row2\" >rooms</th>\n",
       "                        <td id=\"T_6dd6dbf2_eb83_11ea_9690_8c859047f927row2_col0\" class=\"data row2 col0\" >0.493181</td>\n",
       "                        <td id=\"T_6dd6dbf2_eb83_11ea_9690_8c859047f927row2_col1\" class=\"data row2 col1\" >-0.204685</td>\n",
       "                        <td id=\"T_6dd6dbf2_eb83_11ea_9690_8c859047f927row2_col2\" class=\"data row2 col2\" >0.80803</td>\n",
       "                        <td id=\"T_6dd6dbf2_eb83_11ea_9690_8c859047f927row2_col3\" class=\"data row2 col3\" >1</td>\n",
       "                        <td id=\"T_6dd6dbf2_eb83_11ea_9690_8c859047f927row2_col4\" class=\"data row2 col4\" >0.049838</td>\n",
       "                        <td id=\"T_6dd6dbf2_eb83_11ea_9690_8c859047f927row2_col5\" class=\"data row2 col5\" >-0.0247526</td>\n",
       "                        <td id=\"T_6dd6dbf2_eb83_11ea_9690_8c859047f927row2_col6\" class=\"data row2 col6\" >-0.00898086</td>\n",
       "                        <td id=\"T_6dd6dbf2_eb83_11ea_9690_8c859047f927row2_col7\" class=\"data row2 col7\" >-0.0858908</td>\n",
       "            </tr>\n",
       "            <tr>\n",
       "                        <th id=\"T_6dd6dbf2_eb83_11ea_9690_8c859047f927level0_row3\" class=\"row_heading level0 row3\" >ceiling_height</th>\n",
       "                        <td id=\"T_6dd6dbf2_eb83_11ea_9690_8c859047f927row3_col0\" class=\"data row3 col0\" >0.113483</td>\n",
       "                        <td id=\"T_6dd6dbf2_eb83_11ea_9690_8c859047f927row3_col1\" class=\"data row3 col1\" >-0.142816</td>\n",
       "                        <td id=\"T_6dd6dbf2_eb83_11ea_9690_8c859047f927row3_col2\" class=\"data row3 col2\" >0.112158</td>\n",
       "                        <td id=\"T_6dd6dbf2_eb83_11ea_9690_8c859047f927row3_col3\" class=\"data row3 col3\" >0.049838</td>\n",
       "                        <td id=\"T_6dd6dbf2_eb83_11ea_9690_8c859047f927row3_col4\" class=\"data row3 col4\" >1</td>\n",
       "                        <td id=\"T_6dd6dbf2_eb83_11ea_9690_8c859047f927row3_col5\" class=\"data row3 col5\" >0.0018246</td>\n",
       "                        <td id=\"T_6dd6dbf2_eb83_11ea_9690_8c859047f927row3_col6\" class=\"data row3 col6\" >-0.0110729</td>\n",
       "                        <td id=\"T_6dd6dbf2_eb83_11ea_9690_8c859047f927row3_col7\" class=\"data row3 col7\" >0.006988</td>\n",
       "            </tr>\n",
       "            <tr>\n",
       "                        <th id=\"T_6dd6dbf2_eb83_11ea_9690_8c859047f927level0_row4\" class=\"row_heading level0 row4\" >day_exposition</th>\n",
       "                        <td id=\"T_6dd6dbf2_eb83_11ea_9690_8c859047f927row4_col0\" class=\"data row4 col0\" >0.0158823</td>\n",
       "                        <td id=\"T_6dd6dbf2_eb83_11ea_9690_8c859047f927row4_col1\" class=\"data row4 col1\" >0.0139259</td>\n",
       "                        <td id=\"T_6dd6dbf2_eb83_11ea_9690_8c859047f927row4_col2\" class=\"data row4 col2\" >-0.0110048</td>\n",
       "                        <td id=\"T_6dd6dbf2_eb83_11ea_9690_8c859047f927row4_col3\" class=\"data row4 col3\" >-0.0247526</td>\n",
       "                        <td id=\"T_6dd6dbf2_eb83_11ea_9690_8c859047f927row4_col4\" class=\"data row4 col4\" >0.0018246</td>\n",
       "                        <td id=\"T_6dd6dbf2_eb83_11ea_9690_8c859047f927row4_col5\" class=\"data row4 col5\" >1</td>\n",
       "                        <td id=\"T_6dd6dbf2_eb83_11ea_9690_8c859047f927row4_col6\" class=\"data row4 col6\" >0.0347691</td>\n",
       "                        <td id=\"T_6dd6dbf2_eb83_11ea_9690_8c859047f927row4_col7\" class=\"data row4 col7\" >0.000844864</td>\n",
       "            </tr>\n",
       "            <tr>\n",
       "                        <th id=\"T_6dd6dbf2_eb83_11ea_9690_8c859047f927level0_row5\" class=\"row_heading level0 row5\" >year_exposition</th>\n",
       "                        <td id=\"T_6dd6dbf2_eb83_11ea_9690_8c859047f927row5_col0\" class=\"data row5 col0\" >-0.0143045</td>\n",
       "                        <td id=\"T_6dd6dbf2_eb83_11ea_9690_8c859047f927row5_col1\" class=\"data row5 col1\" >0.0511254</td>\n",
       "                        <td id=\"T_6dd6dbf2_eb83_11ea_9690_8c859047f927row5_col2\" class=\"data row5 col2\" >-0.12536</td>\n",
       "                        <td id=\"T_6dd6dbf2_eb83_11ea_9690_8c859047f927row5_col3\" class=\"data row5 col3\" >-0.0858908</td>\n",
       "                        <td id=\"T_6dd6dbf2_eb83_11ea_9690_8c859047f927row5_col4\" class=\"data row5 col4\" >0.006988</td>\n",
       "                        <td id=\"T_6dd6dbf2_eb83_11ea_9690_8c859047f927row5_col5\" class=\"data row5 col5\" >0.000844864</td>\n",
       "                        <td id=\"T_6dd6dbf2_eb83_11ea_9690_8c859047f927row5_col6\" class=\"data row5 col6\" >-0.228564</td>\n",
       "                        <td id=\"T_6dd6dbf2_eb83_11ea_9690_8c859047f927row5_col7\" class=\"data row5 col7\" >1</td>\n",
       "            </tr>\n",
       "            <tr>\n",
       "                        <th id=\"T_6dd6dbf2_eb83_11ea_9690_8c859047f927level0_row6\" class=\"row_heading level0 row6\" >month_exposition</th>\n",
       "                        <td id=\"T_6dd6dbf2_eb83_11ea_9690_8c859047f927row6_col0\" class=\"data row6 col0\" >-0.0280508</td>\n",
       "                        <td id=\"T_6dd6dbf2_eb83_11ea_9690_8c859047f927row6_col1\" class=\"data row6 col1\" >-0.0038389</td>\n",
       "                        <td id=\"T_6dd6dbf2_eb83_11ea_9690_8c859047f927row6_col2\" class=\"data row6 col2\" >-0.00684414</td>\n",
       "                        <td id=\"T_6dd6dbf2_eb83_11ea_9690_8c859047f927row6_col3\" class=\"data row6 col3\" >-0.00898086</td>\n",
       "                        <td id=\"T_6dd6dbf2_eb83_11ea_9690_8c859047f927row6_col4\" class=\"data row6 col4\" >-0.0110729</td>\n",
       "                        <td id=\"T_6dd6dbf2_eb83_11ea_9690_8c859047f927row6_col5\" class=\"data row6 col5\" >0.0347691</td>\n",
       "                        <td id=\"T_6dd6dbf2_eb83_11ea_9690_8c859047f927row6_col6\" class=\"data row6 col6\" >1</td>\n",
       "                        <td id=\"T_6dd6dbf2_eb83_11ea_9690_8c859047f927row6_col7\" class=\"data row6 col7\" >-0.228564</td>\n",
       "            </tr>\n",
       "            <tr>\n",
       "                        <th id=\"T_6dd6dbf2_eb83_11ea_9690_8c859047f927level0_row7\" class=\"row_heading level0 row7\" >cityCenters_nearest</th>\n",
       "                        <td id=\"T_6dd6dbf2_eb83_11ea_9690_8c859047f927row7_col0\" class=\"data row7 col0\" >-0.181685</td>\n",
       "                        <td id=\"T_6dd6dbf2_eb83_11ea_9690_8c859047f927row7_col1\" class=\"data row7 col1\" >1</td>\n",
       "                        <td id=\"T_6dd6dbf2_eb83_11ea_9690_8c859047f927row7_col2\" class=\"data row7 col2\" >-0.226819</td>\n",
       "                        <td id=\"T_6dd6dbf2_eb83_11ea_9690_8c859047f927row7_col3\" class=\"data row7 col3\" >-0.204685</td>\n",
       "                        <td id=\"T_6dd6dbf2_eb83_11ea_9690_8c859047f927row7_col4\" class=\"data row7 col4\" >-0.142816</td>\n",
       "                        <td id=\"T_6dd6dbf2_eb83_11ea_9690_8c859047f927row7_col5\" class=\"data row7 col5\" >0.0139259</td>\n",
       "                        <td id=\"T_6dd6dbf2_eb83_11ea_9690_8c859047f927row7_col6\" class=\"data row7 col6\" >-0.0038389</td>\n",
       "                        <td id=\"T_6dd6dbf2_eb83_11ea_9690_8c859047f927row7_col7\" class=\"data row7 col7\" >0.0511254</td>\n",
       "            </tr>\n",
       "    </tbody></table>"
      ],
      "text/plain": [
       "<pandas.io.formats.style.Styler at 0x11ab77d50>"
      ]
     },
     "execution_count": 103,
     "metadata": {},
     "output_type": "execute_result"
    }
   ],
   "source": [
    "# в центре\n",
    "\n",
    "l = [\n",
    "    'last_price',\n",
    "    'cityCenters_nearest',\n",
    "    'total_area',\n",
    "    'rooms',\n",
    "    'ceiling_height',\n",
    "    'day_exposition',\n",
    "    'month_exposition',\n",
    "    'year_exposition'\n",
    "]\n",
    "\n",
    "corr = df_spb_center[l].corr().sort_values('last_price', ascending=False)\n",
    "corr.style.background_gradient(cmap='coolwarm')"
   ]
  },
  {
   "cell_type": "code",
   "execution_count": 104,
   "metadata": {},
   "outputs": [
    {
     "data": {
      "text/html": [
       "<style  type=\"text/css\" >\n",
       "    #T_6e6ad01e_eb83_11ea_9690_8c859047f927row0_col0 {\n",
       "            background-color:  #b40426;\n",
       "            color:  #f1f1f1;\n",
       "        }    #T_6e6ad01e_eb83_11ea_9690_8c859047f927row0_col1 {\n",
       "            background-color:  #3b4cc0;\n",
       "            color:  #f1f1f1;\n",
       "        }    #T_6e6ad01e_eb83_11ea_9690_8c859047f927row0_col2 {\n",
       "            background-color:  #eb7d62;\n",
       "            color:  #000000;\n",
       "        }    #T_6e6ad01e_eb83_11ea_9690_8c859047f927row0_col3 {\n",
       "            background-color:  #e1dad6;\n",
       "            color:  #000000;\n",
       "        }    #T_6e6ad01e_eb83_11ea_9690_8c859047f927row0_col4 {\n",
       "            background-color:  #5875e1;\n",
       "            color:  #000000;\n",
       "        }    #T_6e6ad01e_eb83_11ea_9690_8c859047f927row0_col5 {\n",
       "            background-color:  #3c4ec2;\n",
       "            color:  #f1f1f1;\n",
       "        }    #T_6e6ad01e_eb83_11ea_9690_8c859047f927row0_col6 {\n",
       "            background-color:  #82a6fb;\n",
       "            color:  #000000;\n",
       "        }    #T_6e6ad01e_eb83_11ea_9690_8c859047f927row0_col7 {\n",
       "            background-color:  #93b5fe;\n",
       "            color:  #000000;\n",
       "        }    #T_6e6ad01e_eb83_11ea_9690_8c859047f927row1_col0 {\n",
       "            background-color:  #e8765c;\n",
       "            color:  #000000;\n",
       "        }    #T_6e6ad01e_eb83_11ea_9690_8c859047f927row1_col1 {\n",
       "            background-color:  #5e7de7;\n",
       "            color:  #000000;\n",
       "        }    #T_6e6ad01e_eb83_11ea_9690_8c859047f927row1_col2 {\n",
       "            background-color:  #b40426;\n",
       "            color:  #f1f1f1;\n",
       "        }    #T_6e6ad01e_eb83_11ea_9690_8c859047f927row1_col3 {\n",
       "            background-color:  #ee8669;\n",
       "            color:  #000000;\n",
       "        }    #T_6e6ad01e_eb83_11ea_9690_8c859047f927row1_col4 {\n",
       "            background-color:  #536edd;\n",
       "            color:  #000000;\n",
       "        }    #T_6e6ad01e_eb83_11ea_9690_8c859047f927row1_col5 {\n",
       "            background-color:  #3d50c3;\n",
       "            color:  #f1f1f1;\n",
       "        }    #T_6e6ad01e_eb83_11ea_9690_8c859047f927row1_col6 {\n",
       "            background-color:  #84a7fc;\n",
       "            color:  #000000;\n",
       "        }    #T_6e6ad01e_eb83_11ea_9690_8c859047f927row1_col7 {\n",
       "            background-color:  #7699f6;\n",
       "            color:  #000000;\n",
       "        }    #T_6e6ad01e_eb83_11ea_9690_8c859047f927row2_col0 {\n",
       "            background-color:  #ead4c8;\n",
       "            color:  #000000;\n",
       "        }    #T_6e6ad01e_eb83_11ea_9690_8c859047f927row2_col1 {\n",
       "            background-color:  #5470de;\n",
       "            color:  #000000;\n",
       "        }    #T_6e6ad01e_eb83_11ea_9690_8c859047f927row2_col2 {\n",
       "            background-color:  #ee8669;\n",
       "            color:  #000000;\n",
       "        }    #T_6e6ad01e_eb83_11ea_9690_8c859047f927row2_col3 {\n",
       "            background-color:  #b40426;\n",
       "            color:  #f1f1f1;\n",
       "        }    #T_6e6ad01e_eb83_11ea_9690_8c859047f927row2_col4 {\n",
       "            background-color:  #4358cb;\n",
       "            color:  #f1f1f1;\n",
       "        }    #T_6e6ad01e_eb83_11ea_9690_8c859047f927row2_col5 {\n",
       "            background-color:  #3f53c6;\n",
       "            color:  #f1f1f1;\n",
       "        }    #T_6e6ad01e_eb83_11ea_9690_8c859047f927row2_col6 {\n",
       "            background-color:  #81a4fb;\n",
       "            color:  #000000;\n",
       "        }    #T_6e6ad01e_eb83_11ea_9690_8c859047f927row2_col7 {\n",
       "            background-color:  #7da0f9;\n",
       "            color:  #000000;\n",
       "        }    #T_6e6ad01e_eb83_11ea_9690_8c859047f927row3_col0 {\n",
       "            background-color:  #7093f3;\n",
       "            color:  #000000;\n",
       "        }    #T_6e6ad01e_eb83_11ea_9690_8c859047f927row3_col1 {\n",
       "            background-color:  #5470de;\n",
       "            color:  #000000;\n",
       "        }    #T_6e6ad01e_eb83_11ea_9690_8c859047f927row3_col2 {\n",
       "            background-color:  #5673e0;\n",
       "            color:  #000000;\n",
       "        }    #T_6e6ad01e_eb83_11ea_9690_8c859047f927row3_col3 {\n",
       "            background-color:  #4358cb;\n",
       "            color:  #f1f1f1;\n",
       "        }    #T_6e6ad01e_eb83_11ea_9690_8c859047f927row3_col4 {\n",
       "            background-color:  #b40426;\n",
       "            color:  #f1f1f1;\n",
       "        }    #T_6e6ad01e_eb83_11ea_9690_8c859047f927row3_col5 {\n",
       "            background-color:  #3d50c3;\n",
       "            color:  #f1f1f1;\n",
       "        }    #T_6e6ad01e_eb83_11ea_9690_8c859047f927row3_col6 {\n",
       "            background-color:  #80a3fa;\n",
       "            color:  #000000;\n",
       "        }    #T_6e6ad01e_eb83_11ea_9690_8c859047f927row3_col7 {\n",
       "            background-color:  #81a4fb;\n",
       "            color:  #000000;\n",
       "        }    #T_6e6ad01e_eb83_11ea_9690_8c859047f927row4_col0 {\n",
       "            background-color:  #6f92f3;\n",
       "            color:  #000000;\n",
       "        }    #T_6e6ad01e_eb83_11ea_9690_8c859047f927row4_col1 {\n",
       "            background-color:  #5f7fe8;\n",
       "            color:  #000000;\n",
       "        }    #T_6e6ad01e_eb83_11ea_9690_8c859047f927row4_col2 {\n",
       "            background-color:  #3b4cc0;\n",
       "            color:  #f1f1f1;\n",
       "        }    #T_6e6ad01e_eb83_11ea_9690_8c859047f927row4_col3 {\n",
       "            background-color:  #3d50c3;\n",
       "            color:  #f1f1f1;\n",
       "        }    #T_6e6ad01e_eb83_11ea_9690_8c859047f927row4_col4 {\n",
       "            background-color:  #4257c9;\n",
       "            color:  #f1f1f1;\n",
       "        }    #T_6e6ad01e_eb83_11ea_9690_8c859047f927row4_col5 {\n",
       "            background-color:  #3f53c6;\n",
       "            color:  #f1f1f1;\n",
       "        }    #T_6e6ad01e_eb83_11ea_9690_8c859047f927row4_col6 {\n",
       "            background-color:  #3b4cc0;\n",
       "            color:  #f1f1f1;\n",
       "        }    #T_6e6ad01e_eb83_11ea_9690_8c859047f927row4_col7 {\n",
       "            background-color:  #b40426;\n",
       "            color:  #f1f1f1;\n",
       "        }    #T_6e6ad01e_eb83_11ea_9690_8c859047f927row5_col0 {\n",
       "            background-color:  #5d7ce6;\n",
       "            color:  #000000;\n",
       "        }    #T_6e6ad01e_eb83_11ea_9690_8c859047f927row5_col1 {\n",
       "            background-color:  #6384eb;\n",
       "            color:  #000000;\n",
       "        }    #T_6e6ad01e_eb83_11ea_9690_8c859047f927row5_col2 {\n",
       "            background-color:  #4961d2;\n",
       "            color:  #f1f1f1;\n",
       "        }    #T_6e6ad01e_eb83_11ea_9690_8c859047f927row5_col3 {\n",
       "            background-color:  #4257c9;\n",
       "            color:  #f1f1f1;\n",
       "        }    #T_6e6ad01e_eb83_11ea_9690_8c859047f927row5_col4 {\n",
       "            background-color:  #3f53c6;\n",
       "            color:  #f1f1f1;\n",
       "        }    #T_6e6ad01e_eb83_11ea_9690_8c859047f927row5_col5 {\n",
       "            background-color:  #3e51c5;\n",
       "            color:  #f1f1f1;\n",
       "        }    #T_6e6ad01e_eb83_11ea_9690_8c859047f927row5_col6 {\n",
       "            background-color:  #b40426;\n",
       "            color:  #f1f1f1;\n",
       "        }    #T_6e6ad01e_eb83_11ea_9690_8c859047f927row5_col7 {\n",
       "            background-color:  #3b4cc0;\n",
       "            color:  #f1f1f1;\n",
       "        }    #T_6e6ad01e_eb83_11ea_9690_8c859047f927row6_col0 {\n",
       "            background-color:  #5977e3;\n",
       "            color:  #000000;\n",
       "        }    #T_6e6ad01e_eb83_11ea_9690_8c859047f927row6_col1 {\n",
       "            background-color:  #5673e0;\n",
       "            color:  #000000;\n",
       "        }    #T_6e6ad01e_eb83_11ea_9690_8c859047f927row6_col2 {\n",
       "            background-color:  #445acc;\n",
       "            color:  #f1f1f1;\n",
       "        }    #T_6e6ad01e_eb83_11ea_9690_8c859047f927row6_col3 {\n",
       "            background-color:  #4358cb;\n",
       "            color:  #f1f1f1;\n",
       "        }    #T_6e6ad01e_eb83_11ea_9690_8c859047f927row6_col4 {\n",
       "            background-color:  #4055c8;\n",
       "            color:  #f1f1f1;\n",
       "        }    #T_6e6ad01e_eb83_11ea_9690_8c859047f927row6_col5 {\n",
       "            background-color:  #b40426;\n",
       "            color:  #f1f1f1;\n",
       "        }    #T_6e6ad01e_eb83_11ea_9690_8c859047f927row6_col6 {\n",
       "            background-color:  #81a4fb;\n",
       "            color:  #000000;\n",
       "        }    #T_6e6ad01e_eb83_11ea_9690_8c859047f927row6_col7 {\n",
       "            background-color:  #82a6fb;\n",
       "            color:  #000000;\n",
       "        }    #T_6e6ad01e_eb83_11ea_9690_8c859047f927row7_col0 {\n",
       "            background-color:  #3b4cc0;\n",
       "            color:  #f1f1f1;\n",
       "        }    #T_6e6ad01e_eb83_11ea_9690_8c859047f927row7_col1 {\n",
       "            background-color:  #b40426;\n",
       "            color:  #f1f1f1;\n",
       "        }    #T_6e6ad01e_eb83_11ea_9690_8c859047f927row7_col2 {\n",
       "            background-color:  #485fd1;\n",
       "            color:  #f1f1f1;\n",
       "        }    #T_6e6ad01e_eb83_11ea_9690_8c859047f927row7_col3 {\n",
       "            background-color:  #3b4cc0;\n",
       "            color:  #f1f1f1;\n",
       "        }    #T_6e6ad01e_eb83_11ea_9690_8c859047f927row7_col4 {\n",
       "            background-color:  #3b4cc0;\n",
       "            color:  #f1f1f1;\n",
       "        }    #T_6e6ad01e_eb83_11ea_9690_8c859047f927row7_col5 {\n",
       "            background-color:  #3b4cc0;\n",
       "            color:  #f1f1f1;\n",
       "        }    #T_6e6ad01e_eb83_11ea_9690_8c859047f927row7_col6 {\n",
       "            background-color:  #88abfd;\n",
       "            color:  #000000;\n",
       "        }    #T_6e6ad01e_eb83_11ea_9690_8c859047f927row7_col7 {\n",
       "            background-color:  #85a8fc;\n",
       "            color:  #000000;\n",
       "        }</style><table id=\"T_6e6ad01e_eb83_11ea_9690_8c859047f927\" ><thead>    <tr>        <th class=\"blank level0\" ></th>        <th class=\"col_heading level0 col0\" >last_price</th>        <th class=\"col_heading level0 col1\" >cityCenters_nearest</th>        <th class=\"col_heading level0 col2\" >total_area</th>        <th class=\"col_heading level0 col3\" >rooms</th>        <th class=\"col_heading level0 col4\" >ceiling_height</th>        <th class=\"col_heading level0 col5\" >day_exposition</th>        <th class=\"col_heading level0 col6\" >month_exposition</th>        <th class=\"col_heading level0 col7\" >year_exposition</th>    </tr></thead><tbody>\n",
       "                <tr>\n",
       "                        <th id=\"T_6e6ad01e_eb83_11ea_9690_8c859047f927level0_row0\" class=\"row_heading level0 row0\" >last_price</th>\n",
       "                        <td id=\"T_6e6ad01e_eb83_11ea_9690_8c859047f927row0_col0\" class=\"data row0 col0\" >1</td>\n",
       "                        <td id=\"T_6e6ad01e_eb83_11ea_9690_8c859047f927row0_col1\" class=\"data row0 col1\" >-0.126227</td>\n",
       "                        <td id=\"T_6e6ad01e_eb83_11ea_9690_8c859047f927row0_col2\" class=\"data row0 col2\" >0.80704</td>\n",
       "                        <td id=\"T_6e6ad01e_eb83_11ea_9690_8c859047f927row0_col3\" class=\"data row0 col3\" >0.502252</td>\n",
       "                        <td id=\"T_6e6ad01e_eb83_11ea_9690_8c859047f927row0_col4\" class=\"data row0 col4\" >0.0672875</td>\n",
       "                        <td id=\"T_6e6ad01e_eb83_11ea_9690_8c859047f927row0_col5\" class=\"data row0 col5\" >-0.0135442</td>\n",
       "                        <td id=\"T_6e6ad01e_eb83_11ea_9690_8c859047f927row0_col6\" class=\"data row0 col6\" >-0.00149832</td>\n",
       "                        <td id=\"T_6e6ad01e_eb83_11ea_9690_8c859047f927row0_col7\" class=\"data row0 col7\" >0.059907</td>\n",
       "            </tr>\n",
       "            <tr>\n",
       "                        <th id=\"T_6e6ad01e_eb83_11ea_9690_8c859047f927level0_row1\" class=\"row_heading level0 row1\" >total_area</th>\n",
       "                        <td id=\"T_6e6ad01e_eb83_11ea_9690_8c859047f927row1_col0\" class=\"data row1 col0\" >0.80704</td>\n",
       "                        <td id=\"T_6e6ad01e_eb83_11ea_9690_8c859047f927row1_col1\" class=\"data row1 col1\" >0.00175663</td>\n",
       "                        <td id=\"T_6e6ad01e_eb83_11ea_9690_8c859047f927row1_col2\" class=\"data row1 col2\" >1</td>\n",
       "                        <td id=\"T_6e6ad01e_eb83_11ea_9690_8c859047f927row1_col3\" class=\"data row1 col3\" >0.787243</td>\n",
       "                        <td id=\"T_6e6ad01e_eb83_11ea_9690_8c859047f927row1_col4\" class=\"data row1 col4\" >0.0510294</td>\n",
       "                        <td id=\"T_6e6ad01e_eb83_11ea_9690_8c859047f927row1_col5\" class=\"data row1 col5\" >-0.0102406</td>\n",
       "                        <td id=\"T_6e6ad01e_eb83_11ea_9690_8c859047f927row1_col6\" class=\"data row1 col6\" >0.00593269</td>\n",
       "                        <td id=\"T_6e6ad01e_eb83_11ea_9690_8c859047f927row1_col7\" class=\"data row1 col7\" >-0.0467502</td>\n",
       "            </tr>\n",
       "            <tr>\n",
       "                        <th id=\"T_6e6ad01e_eb83_11ea_9690_8c859047f927level0_row2\" class=\"row_heading level0 row2\" >rooms</th>\n",
       "                        <td id=\"T_6e6ad01e_eb83_11ea_9690_8c859047f927row2_col0\" class=\"data row2 col0\" >0.502252</td>\n",
       "                        <td id=\"T_6e6ad01e_eb83_11ea_9690_8c859047f927row2_col1\" class=\"data row2 col1\" >-0.0325631</td>\n",
       "                        <td id=\"T_6e6ad01e_eb83_11ea_9690_8c859047f927row2_col2\" class=\"data row2 col2\" >0.787243</td>\n",
       "                        <td id=\"T_6e6ad01e_eb83_11ea_9690_8c859047f927row2_col3\" class=\"data row2 col3\" >1</td>\n",
       "                        <td id=\"T_6e6ad01e_eb83_11ea_9690_8c859047f927row2_col4\" class=\"data row2 col4\" >-0.002457</td>\n",
       "                        <td id=\"T_6e6ad01e_eb83_11ea_9690_8c859047f927row2_col5\" class=\"data row2 col5\" >-0.00235539</td>\n",
       "                        <td id=\"T_6e6ad01e_eb83_11ea_9690_8c859047f927row2_col6\" class=\"data row2 col6\" >-0.00632512</td>\n",
       "                        <td id=\"T_6e6ad01e_eb83_11ea_9690_8c859047f927row2_col7\" class=\"data row2 col7\" >-0.0215542</td>\n",
       "            </tr>\n",
       "            <tr>\n",
       "                        <th id=\"T_6e6ad01e_eb83_11ea_9690_8c859047f927level0_row3\" class=\"row_heading level0 row3\" >ceiling_height</th>\n",
       "                        <td id=\"T_6e6ad01e_eb83_11ea_9690_8c859047f927row3_col0\" class=\"data row3 col0\" >0.0672875</td>\n",
       "                        <td id=\"T_6e6ad01e_eb83_11ea_9690_8c859047f927row3_col1\" class=\"data row3 col1\" >-0.0318523</td>\n",
       "                        <td id=\"T_6e6ad01e_eb83_11ea_9690_8c859047f927row3_col2\" class=\"data row3 col2\" >0.0510294</td>\n",
       "                        <td id=\"T_6e6ad01e_eb83_11ea_9690_8c859047f927row3_col3\" class=\"data row3 col3\" >-0.002457</td>\n",
       "                        <td id=\"T_6e6ad01e_eb83_11ea_9690_8c859047f927row3_col4\" class=\"data row3 col4\" >1</td>\n",
       "                        <td id=\"T_6e6ad01e_eb83_11ea_9690_8c859047f927row3_col5\" class=\"data row3 col5\" >-0.0105782</td>\n",
       "                        <td id=\"T_6e6ad01e_eb83_11ea_9690_8c859047f927row3_col6\" class=\"data row3 col6\" >-0.0129931</td>\n",
       "                        <td id=\"T_6e6ad01e_eb83_11ea_9690_8c859047f927row3_col7\" class=\"data row3 col7\" >-0.00565456</td>\n",
       "            </tr>\n",
       "            <tr>\n",
       "                        <th id=\"T_6e6ad01e_eb83_11ea_9690_8c859047f927level0_row4\" class=\"row_heading level0 row4\" >year_exposition</th>\n",
       "                        <td id=\"T_6e6ad01e_eb83_11ea_9690_8c859047f927row4_col0\" class=\"data row4 col0\" >0.059907</td>\n",
       "                        <td id=\"T_6e6ad01e_eb83_11ea_9690_8c859047f927row4_col1\" class=\"data row4 col1\" >0.00963211</td>\n",
       "                        <td id=\"T_6e6ad01e_eb83_11ea_9690_8c859047f927row4_col2\" class=\"data row4 col2\" >-0.0467502</td>\n",
       "                        <td id=\"T_6e6ad01e_eb83_11ea_9690_8c859047f927row4_col3\" class=\"data row4 col3\" >-0.0215542</td>\n",
       "                        <td id=\"T_6e6ad01e_eb83_11ea_9690_8c859047f927row4_col4\" class=\"data row4 col4\" >-0.00565456</td>\n",
       "                        <td id=\"T_6e6ad01e_eb83_11ea_9690_8c859047f927row4_col5\" class=\"data row4 col5\" >-0.00207384</td>\n",
       "                        <td id=\"T_6e6ad01e_eb83_11ea_9690_8c859047f927row4_col6\" class=\"data row4 col6\" >-0.284855</td>\n",
       "                        <td id=\"T_6e6ad01e_eb83_11ea_9690_8c859047f927row4_col7\" class=\"data row4 col7\" >1</td>\n",
       "            </tr>\n",
       "            <tr>\n",
       "                        <th id=\"T_6e6ad01e_eb83_11ea_9690_8c859047f927level0_row5\" class=\"row_heading level0 row5\" >month_exposition</th>\n",
       "                        <td id=\"T_6e6ad01e_eb83_11ea_9690_8c859047f927row5_col0\" class=\"data row5 col0\" >-0.00149832</td>\n",
       "                        <td id=\"T_6e6ad01e_eb83_11ea_9690_8c859047f927row5_col1\" class=\"data row5 col1\" >0.0212535</td>\n",
       "                        <td id=\"T_6e6ad01e_eb83_11ea_9690_8c859047f927row5_col2\" class=\"data row5 col2\" >0.00593269</td>\n",
       "                        <td id=\"T_6e6ad01e_eb83_11ea_9690_8c859047f927row5_col3\" class=\"data row5 col3\" >-0.00632512</td>\n",
       "                        <td id=\"T_6e6ad01e_eb83_11ea_9690_8c859047f927row5_col4\" class=\"data row5 col4\" >-0.0129931</td>\n",
       "                        <td id=\"T_6e6ad01e_eb83_11ea_9690_8c859047f927row5_col5\" class=\"data row5 col5\" >-0.00481692</td>\n",
       "                        <td id=\"T_6e6ad01e_eb83_11ea_9690_8c859047f927row5_col6\" class=\"data row5 col6\" >1</td>\n",
       "                        <td id=\"T_6e6ad01e_eb83_11ea_9690_8c859047f927row5_col7\" class=\"data row5 col7\" >-0.284855</td>\n",
       "            </tr>\n",
       "            <tr>\n",
       "                        <th id=\"T_6e6ad01e_eb83_11ea_9690_8c859047f927level0_row6\" class=\"row_heading level0 row6\" >day_exposition</th>\n",
       "                        <td id=\"T_6e6ad01e_eb83_11ea_9690_8c859047f927row6_col0\" class=\"data row6 col0\" >-0.0135442</td>\n",
       "                        <td id=\"T_6e6ad01e_eb83_11ea_9690_8c859047f927row6_col1\" class=\"data row6 col1\" >-0.0206867</td>\n",
       "                        <td id=\"T_6e6ad01e_eb83_11ea_9690_8c859047f927row6_col2\" class=\"data row6 col2\" >-0.0102406</td>\n",
       "                        <td id=\"T_6e6ad01e_eb83_11ea_9690_8c859047f927row6_col3\" class=\"data row6 col3\" >-0.00235539</td>\n",
       "                        <td id=\"T_6e6ad01e_eb83_11ea_9690_8c859047f927row6_col4\" class=\"data row6 col4\" >-0.0105782</td>\n",
       "                        <td id=\"T_6e6ad01e_eb83_11ea_9690_8c859047f927row6_col5\" class=\"data row6 col5\" >1</td>\n",
       "                        <td id=\"T_6e6ad01e_eb83_11ea_9690_8c859047f927row6_col6\" class=\"data row6 col6\" >-0.00481692</td>\n",
       "                        <td id=\"T_6e6ad01e_eb83_11ea_9690_8c859047f927row6_col7\" class=\"data row6 col7\" >-0.00207384</td>\n",
       "            </tr>\n",
       "            <tr>\n",
       "                        <th id=\"T_6e6ad01e_eb83_11ea_9690_8c859047f927level0_row7\" class=\"row_heading level0 row7\" >cityCenters_nearest</th>\n",
       "                        <td id=\"T_6e6ad01e_eb83_11ea_9690_8c859047f927row7_col0\" class=\"data row7 col0\" >-0.126227</td>\n",
       "                        <td id=\"T_6e6ad01e_eb83_11ea_9690_8c859047f927row7_col1\" class=\"data row7 col1\" >1</td>\n",
       "                        <td id=\"T_6e6ad01e_eb83_11ea_9690_8c859047f927row7_col2\" class=\"data row7 col2\" >0.00175663</td>\n",
       "                        <td id=\"T_6e6ad01e_eb83_11ea_9690_8c859047f927row7_col3\" class=\"data row7 col3\" >-0.0325631</td>\n",
       "                        <td id=\"T_6e6ad01e_eb83_11ea_9690_8c859047f927row7_col4\" class=\"data row7 col4\" >-0.0318523</td>\n",
       "                        <td id=\"T_6e6ad01e_eb83_11ea_9690_8c859047f927row7_col5\" class=\"data row7 col5\" >-0.0206867</td>\n",
       "                        <td id=\"T_6e6ad01e_eb83_11ea_9690_8c859047f927row7_col6\" class=\"data row7 col6\" >0.0212535</td>\n",
       "                        <td id=\"T_6e6ad01e_eb83_11ea_9690_8c859047f927row7_col7\" class=\"data row7 col7\" >0.00963211</td>\n",
       "            </tr>\n",
       "    </tbody></table>"
      ],
      "text/plain": [
       "<pandas.io.formats.style.Styler at 0x11b177dd0>"
      ]
     },
     "execution_count": 104,
     "metadata": {},
     "output_type": "execute_result"
    }
   ],
   "source": [
    "# не в центре\n",
    "\n",
    "df_spb_not_center = df_spb.query('cityCenters_nearest > 7')\n",
    "corr = df_spb_not_center[l].corr().sort_values('last_price', ascending=False)\n",
    "corr.style.background_gradient(cmap='coolwarm')"
   ]
  },
  {
   "cell_type": "markdown",
   "metadata": {},
   "source": [
    "Глобально картина в центре и вне центра схожа.\n",
    "\n",
    "В центре `cityCenters_nearest` больше влияет на цену, `total_area` и количество квартир `rooms` чуть лучше определяет цену вне центра, а `ceiling_height` может влиять на цену в центре.\n",
    "\n",
    "В целом, больше остальных влияют:\n",
    "\n",
    "- общая площадь\n",
    "- высота комнат\n",
    "___\n",
    "#### Этажи: центр / не центр"
   ]
  },
  {
   "cell_type": "code",
   "execution_count": 105,
   "metadata": {},
   "outputs": [
    {
     "data": {
      "text/html": [
       "<div>\n",
       "<style scoped>\n",
       "    .dataframe tbody tr th:only-of-type {\n",
       "        vertical-align: middle;\n",
       "    }\n",
       "\n",
       "    .dataframe tbody tr th {\n",
       "        vertical-align: top;\n",
       "    }\n",
       "\n",
       "    .dataframe thead th {\n",
       "        text-align: right;\n",
       "    }\n",
       "</style>\n",
       "<table border=\"1\" class=\"dataframe\">\n",
       "  <thead>\n",
       "    <tr style=\"text-align: right;\">\n",
       "      <th></th>\n",
       "      <th>last_price</th>\n",
       "    </tr>\n",
       "    <tr>\n",
       "      <th>floor</th>\n",
       "      <th></th>\n",
       "    </tr>\n",
       "  </thead>\n",
       "  <tbody>\n",
       "    <tr>\n",
       "      <td>первый</td>\n",
       "      <td>6.394663</td>\n",
       "    </tr>\n",
       "    <tr>\n",
       "      <td>последний</td>\n",
       "      <td>7.604863</td>\n",
       "    </tr>\n",
       "    <tr>\n",
       "      <td>другой</td>\n",
       "      <td>7.699716</td>\n",
       "    </tr>\n",
       "  </tbody>\n",
       "</table>\n",
       "</div>"
      ],
      "text/plain": [
       "           last_price\n",
       "floor                \n",
       "первый       6.394663\n",
       "последний    7.604863\n",
       "другой       7.699716"
      ]
     },
     "execution_count": 105,
     "metadata": {},
     "output_type": "execute_result"
    }
   ],
   "source": [
    "# центр\n",
    "df_spb_center.pivot_table(index='floor', values='last_price').sort_values(by='last_price')"
   ]
  },
  {
   "cell_type": "code",
   "execution_count": 106,
   "metadata": {},
   "outputs": [
    {
     "data": {
      "text/html": [
       "<div>\n",
       "<style scoped>\n",
       "    .dataframe tbody tr th:only-of-type {\n",
       "        vertical-align: middle;\n",
       "    }\n",
       "\n",
       "    .dataframe tbody tr th {\n",
       "        vertical-align: top;\n",
       "    }\n",
       "\n",
       "    .dataframe thead th {\n",
       "        text-align: right;\n",
       "    }\n",
       "</style>\n",
       "<table border=\"1\" class=\"dataframe\">\n",
       "  <thead>\n",
       "    <tr style=\"text-align: right;\">\n",
       "      <th></th>\n",
       "      <th>last_price</th>\n",
       "    </tr>\n",
       "    <tr>\n",
       "      <th>floor</th>\n",
       "      <th></th>\n",
       "    </tr>\n",
       "  </thead>\n",
       "  <tbody>\n",
       "    <tr>\n",
       "      <td>первый</td>\n",
       "      <td>4.779131</td>\n",
       "    </tr>\n",
       "    <tr>\n",
       "      <td>последний</td>\n",
       "      <td>5.076375</td>\n",
       "    </tr>\n",
       "    <tr>\n",
       "      <td>другой</td>\n",
       "      <td>5.426984</td>\n",
       "    </tr>\n",
       "  </tbody>\n",
       "</table>\n",
       "</div>"
      ],
      "text/plain": [
       "           last_price\n",
       "floor                \n",
       "первый       4.779131\n",
       "последний    5.076375\n",
       "другой       5.426984"
      ]
     },
     "execution_count": 106,
     "metadata": {},
     "output_type": "execute_result"
    }
   ],
   "source": [
    "# не центр\n",
    "df_spb_not_center.pivot_table(index='floor', values='last_price').sort_values(by='last_price')"
   ]
  },
  {
   "cell_type": "markdown",
   "metadata": {},
   "source": [
    "То же, что и раньше: дешевле всего - первый, за ним - последний и дороже всего \"другой\""
   ]
  },
  {
   "cell_type": "markdown",
   "metadata": {},
   "source": [
    "### Шаг 5. Общий вывод"
   ]
  },
  {
   "cell_type": "markdown",
   "metadata": {},
   "source": [
    "В общем и целом:\n",
    "\n",
    "Апартаменты дешевле, чем квартиры.\n",
    "\n",
    "Недвижимость в Санкт-Петербурге стоит дороже, чем за его пределами. Но и там находятся дорогие экземпляры.\n",
    "\n",
    "Самый дорогой сегмент - недвижимость в центре Петербурга, ближе к центру – дороже.\n",
    "\n",
    "Факторы, влияющие на стоимость больше всего:\n",
    "- общая площадь\n",
    "- кол-во комнат\n",
    "\n",
    "Для всего набора данных наблюдается тенденция \"первый этаж – дешевле всего; последний – немного дороже; средние этажи – самые дорогие\".\n",
    "\n",
    "В датасете много пропусков и выбросов, но не смотря на это, всё получилось и некоторые величины имеют распределение, похожее на нормальное или Пуассоновское. Это – хороший знак.\n"
   ]
  },
  {
   "cell_type": "markdown",
   "metadata": {},
   "source": [
    "### Чек-лист готовности проекта\n",
    "\n",
    "Поставьте 'x' в выполненных пунктах. Далее нажмите Shift+Enter."
   ]
  },
  {
   "cell_type": "markdown",
   "metadata": {},
   "source": [
    "- [x]  открыт файл\n",
    "- [x]  файлы изучены (выведены первые строки, метод info())\n",
    "- [x]  определены пропущенные значения\n",
    "- [x]  заполнены пропущенные значения\n",
    "- [x]  есть пояснение, какие пропущенные значения обнаружены\n",
    "- [x]  изменены типы данных\n",
    "- [x]  есть пояснение, в каких столбцах изменены типы и почему\n",
    "- [x]  посчитано и добавлено в таблицу: цена квадратного метра\n",
    "- [x]  посчитано и добавлено в таблицу: день недели, месяц и год публикации объявления\n",
    "- [x]  посчитано и добавлено в таблицу: этаж квартиры; варианты — первый, последний, другой\n",
    "- [x]  посчитано и добавлено в таблицу: соотношение жилой и общей площади, а также отношение площади кухни к общей\n",
    "- [x]  изучены следующие параметры: площадь, цена, число комнат, высота потолков\n",
    "- [x]  построены гистограммы для каждого параметра\n",
    "- [x]  выполнено задание: \"Изучите время продажи квартиры. Постройте гистограмму. Посчитайте среднее и медиану. Опишите, сколько обычно занимает продажа. Когда можно считать, что продажи прошли очень быстро, а когда необычно долго?\"\n",
    "- [x]  выполнено задание: \"Уберите редкие и выбивающиеся значения. Опишите, какие особенности обнаружили.\"\n",
    "- [x]  выполнено задание: \"Какие факторы больше всего влияют на стоимость квартиры? Изучите, зависит ли цена от квадратного метра, числа комнат, этажа (первого или последнего), удалённости от центра. Также изучите зависимость от даты размещения: дня недели, месяца и года. \"Выберите 10 населённых пунктов с наибольшим числом объявлений. Посчитайте среднюю цену квадратного метра в этих населённых пунктах. Выделите населённые пункты с самой высокой и низкой стоимостью жилья. Эти данные можно найти по имени в столбце '*locality_name'*. \"\n",
    "- [x]  выполнено задание: \"Изучите предложения квартир: для каждой квартиры есть информация о расстоянии до центра. Выделите квартиры в Санкт-Петербурге (*'locality_name'*). Ваша задача — выяснить, какая область входит в центр. Создайте столбец с расстоянием до центра в километрах: округлите до целых значений. После этого посчитайте среднюю цену для каждого километра. Постройте график: он должен показывать, как цена зависит от удалённости от центра. Определите границу, где график сильно меняется — это и будет центральная зона. \"\n",
    "- [x]  выполнено задание: \"Выделите сегмент квартир в центре. Проанализируйте эту территорию и изучите следующие параметры: площадь, цена, число комнат, высота потолков. Также выделите факторы, которые влияют на стоимость квартиры (число комнат, этаж, удалённость от центра, дата размещения объявления). Сделайте выводы. Отличаются ли они от общих выводов по всему городу?\"\n",
    "- [x]  в каждом этапе есть выводы\n",
    "- [x]  есть общий вывод"
   ]
  },
  {
   "cell_type": "code",
   "execution_count": null,
   "metadata": {},
   "outputs": [],
   "source": []
  }
 ],
 "metadata": {
  "kernelspec": {
   "display_name": "Python 3",
   "language": "python",
   "name": "python3"
  },
  "language_info": {
   "codemirror_mode": {
    "name": "ipython",
    "version": 3
   },
   "file_extension": ".py",
   "mimetype": "text/x-python",
   "name": "python",
   "nbconvert_exporter": "python",
   "pygments_lexer": "ipython3",
   "version": "3.7.4"
  }
 },
 "nbformat": 4,
 "nbformat_minor": 2
}
